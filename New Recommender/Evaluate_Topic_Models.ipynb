{
  "nbformat": 4,
  "nbformat_minor": 0,
  "metadata": {
    "kernelspec": {
      "display_name": "topic_model",
      "language": "python",
      "name": "topic_model"
    },
    "language_info": {
      "codemirror_mode": {
        "name": "ipython",
        "version": 3
      },
      "file_extension": ".py",
      "mimetype": "text/x-python",
      "name": "python",
      "nbconvert_exporter": "python",
      "pygments_lexer": "ipython3",
      "version": "3.8.5"
    },
    "colab": {
      "name": "Evaluate Topic Models.ipynb",
      "provenance": [],
      "collapsed_sections": []
    }
  },
  "cells": [
    {
      "cell_type": "markdown",
      "metadata": {
        "id": "qAhLLCimEgoh"
      },
      "source": [
        "### Evaluate Topic Model in Python: Latent Dirichlet Allocation (LDA)\n",
        "\n",
        "###  Calculating Topic Coherence.\n",
        "\n",
        "Perplexity is often used as an example of an intrinsic evaluation measure. It comes from the language modeling community and aims to capture how surprised a model is of new data it has not seen before. It is measured as the normalized log-likelihood of a held-out test set.\n",
        "\n",
        "Focussing on the log-likelihood part, you can think of the perplexity metric as measuring how probable some new unseen data is given the model that was learned earlier. That is to say, how well does the model represent or reproduce the statistics of the held-out data.\n",
        "\n",
        "However, past research has shown that predictive likelihood (or equivalently, perplexity) and human judgment are often not correlated, and even sometimes slightly anti-correlated. And that served as a motivation for more work trying to model the human judgment, and thus `Topic Coherence`.\n",
        "\n",
        "The topic coherence concept combines a number of papers into one framework that allows evaluating the coherence of topics inferred by a topic model. But,\n",
        "\n",
        "#### What is topic coherence?\n",
        "Topic Coherence measures score a single topic by measuring the degree of semantic similarity between high scoring words in the topic. These measurements help distinguish between topics that are semantically interpretable topics and topics that are artifacts of statistical inference. But,\n",
        "\n",
        "#### What is coherence?\n",
        "A set of statements or facts is said to be coherent, if they support each other. Thus, a coherent fact set can be interpreted in a context that covers all or most of the facts. An example of a coherent fact set is \"the game is a team sport\", \"the game is played with a ball\", \"the game demands great physical efforts\"\n",
        "\n",
        "### Coherence Measures\n",
        "\n",
        "1. `C_v` measure is based on a sliding window, one-set segmentation of the top words and an indirect confirmation measure that uses normalized pointwise mutual information (NPMI) and the cosine similarity\n",
        "2. `C_p` is based on a sliding window, one-preceding segmentation of the top words and the confirmation measure of Fitelson's coherence\n",
        "3. `C_uci` measure is based on a sliding window and the pointwise mutual information (PMI) of all word pairs of the given top words\n",
        "4. `C_umass` is based on document cooccurrence counts, a one-preceding segmentation and a logarithmic conditional probability as confirmation measure\n",
        "5. `C_npmi` is an enhanced version of the C_uci coherence using the normalized pointwise mutual information (NPMI)\n",
        "6. `C_a` is baseed on a context window, a pairwise comparison of the top words and an indirect confirmation measure that uses normalized pointwise mutual information (NPMI) and the cosine similarity"
      ]
    },
    {
      "cell_type": "markdown",
      "metadata": {
        "id": "AITJBK8bEgou"
      },
      "source": [
        "### Model Implementation\n",
        "1. Loading Data\n",
        "2. Data Cleaning\n",
        "3. Phrase Modeling: Bi-grams and Tri-grams\n",
        "4. Data Transformation: Corpus and Dictionary\n",
        "5. Base Model\n",
        "6. Hyper-parameter Tuning\n",
        "7. Final model\n",
        "8. Visualize Results\n"
      ]
    },
    {
      "cell_type": "code",
      "metadata": {
        "id": "y9W7RNTVM2If",
        "colab": {
          "resources": {
            "http://localhost:8080/nbextensions/google.colab/files.js": {
              "data": "Ly8gQ29weXJpZ2h0IDIwMTcgR29vZ2xlIExMQwovLwovLyBMaWNlbnNlZCB1bmRlciB0aGUgQXBhY2hlIExpY2Vuc2UsIFZlcnNpb24gMi4wICh0aGUgIkxpY2Vuc2UiKTsKLy8geW91IG1heSBub3QgdXNlIHRoaXMgZmlsZSBleGNlcHQgaW4gY29tcGxpYW5jZSB3aXRoIHRoZSBMaWNlbnNlLgovLyBZb3UgbWF5IG9idGFpbiBhIGNvcHkgb2YgdGhlIExpY2Vuc2UgYXQKLy8KLy8gICAgICBodHRwOi8vd3d3LmFwYWNoZS5vcmcvbGljZW5zZXMvTElDRU5TRS0yLjAKLy8KLy8gVW5sZXNzIHJlcXVpcmVkIGJ5IGFwcGxpY2FibGUgbGF3IG9yIGFncmVlZCB0byBpbiB3cml0aW5nLCBzb2Z0d2FyZQovLyBkaXN0cmlidXRlZCB1bmRlciB0aGUgTGljZW5zZSBpcyBkaXN0cmlidXRlZCBvbiBhbiAiQVMgSVMiIEJBU0lTLAovLyBXSVRIT1VUIFdBUlJBTlRJRVMgT1IgQ09ORElUSU9OUyBPRiBBTlkgS0lORCwgZWl0aGVyIGV4cHJlc3Mgb3IgaW1wbGllZC4KLy8gU2VlIHRoZSBMaWNlbnNlIGZvciB0aGUgc3BlY2lmaWMgbGFuZ3VhZ2UgZ292ZXJuaW5nIHBlcm1pc3Npb25zIGFuZAovLyBsaW1pdGF0aW9ucyB1bmRlciB0aGUgTGljZW5zZS4KCi8qKgogKiBAZmlsZW92ZXJ2aWV3IEhlbHBlcnMgZm9yIGdvb2dsZS5jb2xhYiBQeXRob24gbW9kdWxlLgogKi8KKGZ1bmN0aW9uKHNjb3BlKSB7CmZ1bmN0aW9uIHNwYW4odGV4dCwgc3R5bGVBdHRyaWJ1dGVzID0ge30pIHsKICBjb25zdCBlbGVtZW50ID0gZG9jdW1lbnQuY3JlYXRlRWxlbWVudCgnc3BhbicpOwogIGVsZW1lbnQudGV4dENvbnRlbnQgPSB0ZXh0OwogIGZvciAoY29uc3Qga2V5IG9mIE9iamVjdC5rZXlzKHN0eWxlQXR0cmlidXRlcykpIHsKICAgIGVsZW1lbnQuc3R5bGVba2V5XSA9IHN0eWxlQXR0cmlidXRlc1trZXldOwogIH0KICByZXR1cm4gZWxlbWVudDsKfQoKLy8gTWF4IG51bWJlciBvZiBieXRlcyB3aGljaCB3aWxsIGJlIHVwbG9hZGVkIGF0IGEgdGltZS4KY29uc3QgTUFYX1BBWUxPQURfU0laRSA9IDEwMCAqIDEwMjQ7CgpmdW5jdGlvbiBfdXBsb2FkRmlsZXMoaW5wdXRJZCwgb3V0cHV0SWQpIHsKICBjb25zdCBzdGVwcyA9IHVwbG9hZEZpbGVzU3RlcChpbnB1dElkLCBvdXRwdXRJZCk7CiAgY29uc3Qgb3V0cHV0RWxlbWVudCA9IGRvY3VtZW50LmdldEVsZW1lbnRCeUlkKG91dHB1dElkKTsKICAvLyBDYWNoZSBzdGVwcyBvbiB0aGUgb3V0cHV0RWxlbWVudCB0byBtYWtlIGl0IGF2YWlsYWJsZSBmb3IgdGhlIG5leHQgY2FsbAogIC8vIHRvIHVwbG9hZEZpbGVzQ29udGludWUgZnJvbSBQeXRob24uCiAgb3V0cHV0RWxlbWVudC5zdGVwcyA9IHN0ZXBzOwoKICByZXR1cm4gX3VwbG9hZEZpbGVzQ29udGludWUob3V0cHV0SWQpOwp9CgovLyBUaGlzIGlzIHJvdWdobHkgYW4gYXN5bmMgZ2VuZXJhdG9yIChub3Qgc3VwcG9ydGVkIGluIHRoZSBicm93c2VyIHlldCksCi8vIHdoZXJlIHRoZXJlIGFyZSBtdWx0aXBsZSBhc3luY2hyb25vdXMgc3RlcHMgYW5kIHRoZSBQeXRob24gc2lkZSBpcyBnb2luZwovLyB0byBwb2xsIGZvciBjb21wbGV0aW9uIG9mIGVhY2ggc3RlcC4KLy8gVGhpcyB1c2VzIGEgUHJvbWlzZSB0byBibG9jayB0aGUgcHl0aG9uIHNpZGUgb24gY29tcGxldGlvbiBvZiBlYWNoIHN0ZXAsCi8vIHRoZW4gcGFzc2VzIHRoZSByZXN1bHQgb2YgdGhlIHByZXZpb3VzIHN0ZXAgYXMgdGhlIGlucHV0IHRvIHRoZSBuZXh0IHN0ZXAuCmZ1bmN0aW9uIF91cGxvYWRGaWxlc0NvbnRpbnVlKG91dHB1dElkKSB7CiAgY29uc3Qgb3V0cHV0RWxlbWVudCA9IGRvY3VtZW50LmdldEVsZW1lbnRCeUlkKG91dHB1dElkKTsKICBjb25zdCBzdGVwcyA9IG91dHB1dEVsZW1lbnQuc3RlcHM7CgogIGNvbnN0IG5leHQgPSBzdGVwcy5uZXh0KG91dHB1dEVsZW1lbnQubGFzdFByb21pc2VWYWx1ZSk7CiAgcmV0dXJuIFByb21pc2UucmVzb2x2ZShuZXh0LnZhbHVlLnByb21pc2UpLnRoZW4oKHZhbHVlKSA9PiB7CiAgICAvLyBDYWNoZSB0aGUgbGFzdCBwcm9taXNlIHZhbHVlIHRvIG1ha2UgaXQgYXZhaWxhYmxlIHRvIHRoZSBuZXh0CiAgICAvLyBzdGVwIG9mIHRoZSBnZW5lcmF0b3IuCiAgICBvdXRwdXRFbGVtZW50Lmxhc3RQcm9taXNlVmFsdWUgPSB2YWx1ZTsKICAgIHJldHVybiBuZXh0LnZhbHVlLnJlc3BvbnNlOwogIH0pOwp9CgovKioKICogR2VuZXJhdG9yIGZ1bmN0aW9uIHdoaWNoIGlzIGNhbGxlZCBiZXR3ZWVuIGVhY2ggYXN5bmMgc3RlcCBvZiB0aGUgdXBsb2FkCiAqIHByb2Nlc3MuCiAqIEBwYXJhbSB7c3RyaW5nfSBpbnB1dElkIEVsZW1lbnQgSUQgb2YgdGhlIGlucHV0IGZpbGUgcGlja2VyIGVsZW1lbnQuCiAqIEBwYXJhbSB7c3RyaW5nfSBvdXRwdXRJZCBFbGVtZW50IElEIG9mIHRoZSBvdXRwdXQgZGlzcGxheS4KICogQHJldHVybiB7IUl0ZXJhYmxlPCFPYmplY3Q+fSBJdGVyYWJsZSBvZiBuZXh0IHN0ZXBzLgogKi8KZnVuY3Rpb24qIHVwbG9hZEZpbGVzU3RlcChpbnB1dElkLCBvdXRwdXRJZCkgewogIGNvbnN0IGlucHV0RWxlbWVudCA9IGRvY3VtZW50LmdldEVsZW1lbnRCeUlkKGlucHV0SWQpOwogIGlucHV0RWxlbWVudC5kaXNhYmxlZCA9IGZhbHNlOwoKICBjb25zdCBvdXRwdXRFbGVtZW50ID0gZG9jdW1lbnQuZ2V0RWxlbWVudEJ5SWQob3V0cHV0SWQpOwogIG91dHB1dEVsZW1lbnQuaW5uZXJIVE1MID0gJyc7CgogIGNvbnN0IHBpY2tlZFByb21pc2UgPSBuZXcgUHJvbWlzZSgocmVzb2x2ZSkgPT4gewogICAgaW5wdXRFbGVtZW50LmFkZEV2ZW50TGlzdGVuZXIoJ2NoYW5nZScsIChlKSA9PiB7CiAgICAgIHJlc29sdmUoZS50YXJnZXQuZmlsZXMpOwogICAgfSk7CiAgfSk7CgogIGNvbnN0IGNhbmNlbCA9IGRvY3VtZW50LmNyZWF0ZUVsZW1lbnQoJ2J1dHRvbicpOwogIGlucHV0RWxlbWVudC5wYXJlbnRFbGVtZW50LmFwcGVuZENoaWxkKGNhbmNlbCk7CiAgY2FuY2VsLnRleHRDb250ZW50ID0gJ0NhbmNlbCB1cGxvYWQnOwogIGNvbnN0IGNhbmNlbFByb21pc2UgPSBuZXcgUHJvbWlzZSgocmVzb2x2ZSkgPT4gewogICAgY2FuY2VsLm9uY2xpY2sgPSAoKSA9PiB7CiAgICAgIHJlc29sdmUobnVsbCk7CiAgICB9OwogIH0pOwoKICAvLyBXYWl0IGZvciB0aGUgdXNlciB0byBwaWNrIHRoZSBmaWxlcy4KICBjb25zdCBmaWxlcyA9IHlpZWxkIHsKICAgIHByb21pc2U6IFByb21pc2UucmFjZShbcGlja2VkUHJvbWlzZSwgY2FuY2VsUHJvbWlzZV0pLAogICAgcmVzcG9uc2U6IHsKICAgICAgYWN0aW9uOiAnc3RhcnRpbmcnLAogICAgfQogIH07CgogIGNhbmNlbC5yZW1vdmUoKTsKCiAgLy8gRGlzYWJsZSB0aGUgaW5wdXQgZWxlbWVudCBzaW5jZSBmdXJ0aGVyIHBpY2tzIGFyZSBub3QgYWxsb3dlZC4KICBpbnB1dEVsZW1lbnQuZGlzYWJsZWQgPSB0cnVlOwoKICBpZiAoIWZpbGVzKSB7CiAgICByZXR1cm4gewogICAgICByZXNwb25zZTogewogICAgICAgIGFjdGlvbjogJ2NvbXBsZXRlJywKICAgICAgfQogICAgfTsKICB9CgogIGZvciAoY29uc3QgZmlsZSBvZiBmaWxlcykgewogICAgY29uc3QgbGkgPSBkb2N1bWVudC5jcmVhdGVFbGVtZW50KCdsaScpOwogICAgbGkuYXBwZW5kKHNwYW4oZmlsZS5uYW1lLCB7Zm9udFdlaWdodDogJ2JvbGQnfSkpOwogICAgbGkuYXBwZW5kKHNwYW4oCiAgICAgICAgYCgke2ZpbGUudHlwZSB8fCAnbi9hJ30pIC0gJHtmaWxlLnNpemV9IGJ5dGVzLCBgICsKICAgICAgICBgbGFzdCBtb2RpZmllZDogJHsKICAgICAgICAgICAgZmlsZS5sYXN0TW9kaWZpZWREYXRlID8gZmlsZS5sYXN0TW9kaWZpZWREYXRlLnRvTG9jYWxlRGF0ZVN0cmluZygpIDoKICAgICAgICAgICAgICAgICAgICAgICAgICAgICAgICAgICAgJ24vYSd9IC0gYCkpOwogICAgY29uc3QgcGVyY2VudCA9IHNwYW4oJzAlIGRvbmUnKTsKICAgIGxpLmFwcGVuZENoaWxkKHBlcmNlbnQpOwoKICAgIG91dHB1dEVsZW1lbnQuYXBwZW5kQ2hpbGQobGkpOwoKICAgIGNvbnN0IGZpbGVEYXRhUHJvbWlzZSA9IG5ldyBQcm9taXNlKChyZXNvbHZlKSA9PiB7CiAgICAgIGNvbnN0IHJlYWRlciA9IG5ldyBGaWxlUmVhZGVyKCk7CiAgICAgIHJlYWRlci5vbmxvYWQgPSAoZSkgPT4gewogICAgICAgIHJlc29sdmUoZS50YXJnZXQucmVzdWx0KTsKICAgICAgfTsKICAgICAgcmVhZGVyLnJlYWRBc0FycmF5QnVmZmVyKGZpbGUpOwogICAgfSk7CiAgICAvLyBXYWl0IGZvciB0aGUgZGF0YSB0byBiZSByZWFkeS4KICAgIGxldCBmaWxlRGF0YSA9IHlpZWxkIHsKICAgICAgcHJvbWlzZTogZmlsZURhdGFQcm9taXNlLAogICAgICByZXNwb25zZTogewogICAgICAgIGFjdGlvbjogJ2NvbnRpbnVlJywKICAgICAgfQogICAgfTsKCiAgICAvLyBVc2UgYSBjaHVua2VkIHNlbmRpbmcgdG8gYXZvaWQgbWVzc2FnZSBzaXplIGxpbWl0cy4gU2VlIGIvNjIxMTU2NjAuCiAgICBsZXQgcG9zaXRpb24gPSAwOwogICAgd2hpbGUgKHBvc2l0aW9uIDwgZmlsZURhdGEuYnl0ZUxlbmd0aCkgewogICAgICBjb25zdCBsZW5ndGggPSBNYXRoLm1pbihmaWxlRGF0YS5ieXRlTGVuZ3RoIC0gcG9zaXRpb24sIE1BWF9QQVlMT0FEX1NJWkUpOwogICAgICBjb25zdCBjaHVuayA9IG5ldyBVaW50OEFycmF5KGZpbGVEYXRhLCBwb3NpdGlvbiwgbGVuZ3RoKTsKICAgICAgcG9zaXRpb24gKz0gbGVuZ3RoOwoKICAgICAgY29uc3QgYmFzZTY0ID0gYnRvYShTdHJpbmcuZnJvbUNoYXJDb2RlLmFwcGx5KG51bGwsIGNodW5rKSk7CiAgICAgIHlpZWxkIHsKICAgICAgICByZXNwb25zZTogewogICAgICAgICAgYWN0aW9uOiAnYXBwZW5kJywKICAgICAgICAgIGZpbGU6IGZpbGUubmFtZSwKICAgICAgICAgIGRhdGE6IGJhc2U2NCwKICAgICAgICB9LAogICAgICB9OwogICAgICBwZXJjZW50LnRleHRDb250ZW50ID0KICAgICAgICAgIGAke01hdGgucm91bmQoKHBvc2l0aW9uIC8gZmlsZURhdGEuYnl0ZUxlbmd0aCkgKiAxMDApfSUgZG9uZWA7CiAgICB9CiAgfQoKICAvLyBBbGwgZG9uZS4KICB5aWVsZCB7CiAgICByZXNwb25zZTogewogICAgICBhY3Rpb246ICdjb21wbGV0ZScsCiAgICB9CiAgfTsKfQoKc2NvcGUuZ29vZ2xlID0gc2NvcGUuZ29vZ2xlIHx8IHt9OwpzY29wZS5nb29nbGUuY29sYWIgPSBzY29wZS5nb29nbGUuY29sYWIgfHwge307CnNjb3BlLmdvb2dsZS5jb2xhYi5fZmlsZXMgPSB7CiAgX3VwbG9hZEZpbGVzLAogIF91cGxvYWRGaWxlc0NvbnRpbnVlLAp9Owp9KShzZWxmKTsK",
              "ok": true,
              "headers": [
                [
                  "content-type",
                  "application/javascript"
                ]
              ],
              "status": 200,
              "status_text": ""
            }
          },
          "base_uri": "https://localhost:8080/",
          "height": 72
        },
        "outputId": "1fc07965-b558-4a79-8cec-0282ac2aed68"
      },
      "source": [
        "from google.colab import files\n",
        "uploaded = files.upload()"
      ],
      "execution_count": null,
      "outputs": [
        {
          "output_type": "display_data",
          "data": {
            "text/html": [
              "\n",
              "     <input type=\"file\" id=\"files-36ba2b20-567f-4d7f-844d-58336618f507\" name=\"files[]\" multiple disabled\n",
              "        style=\"border:none\" />\n",
              "     <output id=\"result-36ba2b20-567f-4d7f-844d-58336618f507\">\n",
              "      Upload widget is only available when the cell has been executed in the\n",
              "      current browser session. Please rerun this cell to enable.\n",
              "      </output>\n",
              "      <script src=\"/nbextensions/google.colab/files.js\"></script> "
            ],
            "text/plain": [
              "<IPython.core.display.HTML object>"
            ]
          },
          "metadata": {
            "tags": []
          }
        },
        {
          "output_type": "stream",
          "text": [
            "Saving news_articles.csv to news_articles.csv\n"
          ],
          "name": "stdout"
        }
      ]
    },
    {
      "cell_type": "code",
      "metadata": {
        "id": "I0R9IFD0Egow",
        "colab": {
          "base_uri": "https://localhost:8080/",
          "height": 204
        },
        "outputId": "90fd9394-a5f5-4d54-9a3a-e7b18a65acd0"
      },
      "source": [
        "# Importing modules\n",
        "import pandas as pd\n",
        "# import os\n",
        "\n",
        "# os.chdir('..')\n",
        "\n",
        "# Read data into papers\n",
        "papers = pd.read_csv('news_articles.csv')\n",
        "\n",
        "# Print head\n",
        "papers.head()"
      ],
      "execution_count": null,
      "outputs": [
        {
          "output_type": "execute_result",
          "data": {
            "text/html": [
              "<div>\n",
              "<style scoped>\n",
              "    .dataframe tbody tr th:only-of-type {\n",
              "        vertical-align: middle;\n",
              "    }\n",
              "\n",
              "    .dataframe tbody tr th {\n",
              "        vertical-align: top;\n",
              "    }\n",
              "\n",
              "    .dataframe thead th {\n",
              "        text-align: right;\n",
              "    }\n",
              "</style>\n",
              "<table border=\"1\" class=\"dataframe\">\n",
              "  <thead>\n",
              "    <tr style=\"text-align: right;\">\n",
              "      <th></th>\n",
              "      <th>Unnamed: 0</th>\n",
              "      <th>Headline</th>\n",
              "      <th>Content</th>\n",
              "    </tr>\n",
              "  </thead>\n",
              "  <tbody>\n",
              "    <tr>\n",
              "      <th>0</th>\n",
              "      <td>0</td>\n",
              "      <td>IMD: Clear skies, less intense heat over Pune ...</td>\n",
              "      <td>Heat conditions over Pune were relatively less...</td>\n",
              "    </tr>\n",
              "    <tr>\n",
              "      <th>1</th>\n",
              "      <td>1</td>\n",
              "      <td>Arvind Kejriwal says no plan for lockdown in D...</td>\n",
              "      <td>Even as the Covid-19 cases continue to rise in...</td>\n",
              "    </tr>\n",
              "    <tr>\n",
              "      <th>2</th>\n",
              "      <td>2</td>\n",
              "      <td>BJP opposes Pune administration’s decision to ...</td>\n",
              "      <td>The BJP on Friday slammed the Pune administrat...</td>\n",
              "    </tr>\n",
              "    <tr>\n",
              "      <th>3</th>\n",
              "      <td>3</td>\n",
              "      <td>Body of Delhi Police constable’s wife found ha...</td>\n",
              "      <td>A Delhi Police constable’s wife allegedly hang...</td>\n",
              "    </tr>\n",
              "    <tr>\n",
              "      <th>4</th>\n",
              "      <td>4</td>\n",
              "      <td>Pune: HSC board exams from April 23, hall tick...</td>\n",
              "      <td>– Stay updated with the latest Pune news. Foll...</td>\n",
              "    </tr>\n",
              "  </tbody>\n",
              "</table>\n",
              "</div>"
            ],
            "text/plain": [
              "   Unnamed: 0  ...                                            Content\n",
              "0           0  ...  Heat conditions over Pune were relatively less...\n",
              "1           1  ...  Even as the Covid-19 cases continue to rise in...\n",
              "2           2  ...  The BJP on Friday slammed the Pune administrat...\n",
              "3           3  ...  A Delhi Police constable’s wife allegedly hang...\n",
              "4           4  ...  – Stay updated with the latest Pune news. Foll...\n",
              "\n",
              "[5 rows x 3 columns]"
            ]
          },
          "metadata": {
            "tags": []
          },
          "execution_count": 2
        }
      ]
    },
    {
      "cell_type": "markdown",
      "metadata": {
        "id": "pOnskBVsEgoz"
      },
      "source": [
        "** **\n",
        "#### Step 2: Data Cleaning\n",
        "** **\n",
        "\n"
      ]
    },
    {
      "cell_type": "code",
      "metadata": {
        "id": "Ac8iVtCIEgo0",
        "colab": {
          "base_uri": "https://localhost:8080/",
          "height": 204
        },
        "outputId": "69141c8d-c694-495e-ac8d-e2f03bb83d3f"
      },
      "source": [
        "# Remove the columns\n",
        "papers = papers.drop(columns=['Headline'], axis=1)\n",
        "\n",
        "# sample only 100 papers\n",
        "papers = papers.sample(100)\n",
        "\n",
        "# Print out the first rows of papers\n",
        "papers.head()"
      ],
      "execution_count": null,
      "outputs": [
        {
          "output_type": "execute_result",
          "data": {
            "text/html": [
              "<div>\n",
              "<style scoped>\n",
              "    .dataframe tbody tr th:only-of-type {\n",
              "        vertical-align: middle;\n",
              "    }\n",
              "\n",
              "    .dataframe tbody tr th {\n",
              "        vertical-align: top;\n",
              "    }\n",
              "\n",
              "    .dataframe thead th {\n",
              "        text-align: right;\n",
              "    }\n",
              "</style>\n",
              "<table border=\"1\" class=\"dataframe\">\n",
              "  <thead>\n",
              "    <tr style=\"text-align: right;\">\n",
              "      <th></th>\n",
              "      <th>Unnamed: 0</th>\n",
              "      <th>Content</th>\n",
              "    </tr>\n",
              "  </thead>\n",
              "  <tbody>\n",
              "    <tr>\n",
              "      <th>623</th>\n",
              "      <td>623</td>\n",
              "      <td>The Jawaharlal Nehru University Teachers’ Asso...</td>\n",
              "    </tr>\n",
              "    <tr>\n",
              "      <th>2797</th>\n",
              "      <td>497</td>\n",
              "      <td>Rajkummar Rao shared picture of his body trans...</td>\n",
              "    </tr>\n",
              "    <tr>\n",
              "      <th>373</th>\n",
              "      <td>373</td>\n",
              "      <td>An elevated section of the Dwarka Expressway, ...</td>\n",
              "    </tr>\n",
              "    <tr>\n",
              "      <th>809</th>\n",
              "      <td>109</td>\n",
              "      <td>India’s cotton and sugar sectors have welcomed...</td>\n",
              "    </tr>\n",
              "    <tr>\n",
              "      <th>2245</th>\n",
              "      <td>145</td>\n",
              "      <td>Abu Dhabi's removing curbs with aim of opening...</td>\n",
              "    </tr>\n",
              "  </tbody>\n",
              "</table>\n",
              "</div>"
            ],
            "text/plain": [
              "      Unnamed: 0                                            Content\n",
              "623          623  The Jawaharlal Nehru University Teachers’ Asso...\n",
              "2797         497  Rajkummar Rao shared picture of his body trans...\n",
              "373          373  An elevated section of the Dwarka Expressway, ...\n",
              "809          109  India’s cotton and sugar sectors have welcomed...\n",
              "2245         145  Abu Dhabi's removing curbs with aim of opening..."
            ]
          },
          "metadata": {
            "tags": []
          },
          "execution_count": 3
        }
      ]
    },
    {
      "cell_type": "markdown",
      "metadata": {
        "id": "f7azx_OUEgo1"
      },
      "source": [
        "##### Remove punctuation/lower casing\n",
        "\n"
      ]
    },
    {
      "cell_type": "code",
      "metadata": {
        "id": "qbOFtFs5Ego2",
        "colab": {
          "base_uri": "https://localhost:8080/"
        },
        "outputId": "b7572474-e589-4fe3-b21c-f18f739940cb"
      },
      "source": [
        "# Load the regular expression library\n",
        "import re\n",
        "\n",
        "# Remove punctuation\n",
        "papers['paper_text_processed'] = papers['Content'].map(lambda x: re.sub('[,\\.!?]', '', x))\n",
        "\n",
        "# Convert the titles to lowercase\n",
        "papers['paper_text_processed'] = papers['paper_text_processed'].map(lambda x: x.lower())\n",
        "\n",
        "# Print out the first rows of papers\n",
        "papers['paper_text_processed'].head()"
      ],
      "execution_count": null,
      "outputs": [
        {
          "output_type": "execute_result",
          "data": {
            "text/plain": [
              "623     the jawaharlal nehru university teachers’ asso...\n",
              "2797    rajkummar rao shared picture of his body trans...\n",
              "373     an elevated section of the dwarka expressway t...\n",
              "809     india’s cotton and sugar sectors have welcomed...\n",
              "2245    abu dhabi's removing curbs with aim of opening...\n",
              "Name: paper_text_processed, dtype: object"
            ]
          },
          "metadata": {
            "tags": []
          },
          "execution_count": 4
        }
      ]
    },
    {
      "cell_type": "markdown",
      "metadata": {
        "id": "GT4-blD-Ego3"
      },
      "source": [
        "##### Tokenize words and further clean-up text\n",
        "\n",
        "Let’s tokenize each sentence into a list of words, removing punctuations and unnecessary characters altogether."
      ]
    },
    {
      "cell_type": "code",
      "metadata": {
        "id": "Hr_lBlUdEgo4",
        "colab": {
          "base_uri": "https://localhost:8080/"
        },
        "outputId": "11954733-fc14-4e9a-894c-cffb1fe1cc45"
      },
      "source": [
        "import gensim\n",
        "from gensim.utils import simple_preprocess\n",
        "\n",
        "def sent_to_words(sentences):\n",
        "    for sentence in sentences:\n",
        "        yield(gensim.utils.simple_preprocess(str(sentence), deacc=True))  # deacc=True removes punctuations\n",
        "\n",
        "data = papers.paper_text_processed.values.tolist()\n",
        "data_words = list(sent_to_words(data))\n",
        "\n",
        "print(data_words[:1][0][:30])"
      ],
      "execution_count": null,
      "outputs": [
        {
          "output_type": "stream",
          "text": [
            "['the', 'jawaharlal', 'nehru', 'university', 'teachers', 'association', 'jnuta', 'wednesday', 'alleged', 'that', 'the', 'current', 'registrar', 'anirban', 'chakraborti', 'was', 'appointed', 'illegally', 'by', 'vice', 'chancellor', 'jagadesh', 'kumar', 'who', 'is', 'on', 'an', 'extension', 'after', 'his']\n"
          ],
          "name": "stdout"
        }
      ]
    },
    {
      "cell_type": "markdown",
      "metadata": {
        "id": "gH2r0hc1Ego5"
      },
      "source": [
        "** **\n",
        "#### Step 3: Phrase Modeling: Bigram and Trigram Models\n",
        "** **\n",
        "\n",
        "Bigrams are two words frequently occurring together in the document. Trigrams are 3 words frequently occurring. Some examples in our example are: 'back_bumper', 'oil_leakage', 'maryland_college_park' etc.\n",
        "\n",
        "Gensim's Phrases model can build and implement the bigrams, trigrams, quadgrams and more. The two important arguments to Phrases are min_count and threshold."
      ]
    },
    {
      "cell_type": "code",
      "metadata": {
        "id": "amQEAu79Ego6",
        "colab": {
          "base_uri": "https://localhost:8080/"
        },
        "outputId": "487c6792-384a-4d80-9f01-9366c9661300"
      },
      "source": [
        "# Build the bigram and trigram models\n",
        "bigram = gensim.models.Phrases(data_words, min_count=5, threshold=100) # higher threshold fewer phrases.\n",
        "trigram = gensim.models.Phrases(bigram[data_words], threshold=100)  \n",
        "\n",
        "# Faster way to get a sentence clubbed as a trigram/bigram\n",
        "bigram_mod = gensim.models.phrases.Phraser(bigram)\n",
        "trigram_mod = gensim.models.phrases.Phraser(trigram)"
      ],
      "execution_count": null,
      "outputs": [
        {
          "output_type": "stream",
          "text": [
            "/usr/local/lib/python3.7/dist-packages/gensim/models/phrases.py:598: UserWarning: For a faster implementation, use the gensim.models.phrases.Phraser class\n",
            "  warnings.warn(\"For a faster implementation, use the gensim.models.phrases.Phraser class\")\n"
          ],
          "name": "stderr"
        }
      ]
    },
    {
      "cell_type": "markdown",
      "metadata": {
        "id": "nW0PP3HUEgo8"
      },
      "source": [
        "#### Remove Stopwords, Make Bigrams and Lemmatize\n",
        "\n",
        "The phrase models are ready. Let’s define the functions to remove the stopwords, make trigrams and lemmatization and call them sequentially."
      ]
    },
    {
      "cell_type": "code",
      "metadata": {
        "id": "j3NQp1fFEgo9",
        "colab": {
          "base_uri": "https://localhost:8080/"
        },
        "outputId": "d9d4ba6b-c74c-4d5a-e883-61b70d3ed07e"
      },
      "source": [
        "# NLTK Stop words\n",
        "import nltk\n",
        "nltk.download('stopwords')\n",
        "from nltk.corpus import stopwords\n",
        "\n",
        "stop_words = stopwords.words('english')\n",
        "stop_words.extend(['from', 'subject', 're', 'edu', 'use'])"
      ],
      "execution_count": null,
      "outputs": [
        {
          "output_type": "stream",
          "text": [
            "[nltk_data] Downloading package stopwords to /root/nltk_data...\n",
            "[nltk_data]   Unzipping corpora/stopwords.zip.\n"
          ],
          "name": "stdout"
        }
      ]
    },
    {
      "cell_type": "code",
      "metadata": {
        "id": "1pyvb504Ego_"
      },
      "source": [
        "# Define functions for stopwords, bigrams, trigrams and lemmatization\n",
        "def remove_stopwords(texts):\n",
        "    return [[word for word in simple_preprocess(str(doc)) if word not in stop_words] for doc in texts]\n",
        "\n",
        "def make_bigrams(texts):\n",
        "    return [bigram_mod[doc] for doc in texts]\n",
        "\n",
        "def make_trigrams(texts):\n",
        "    return [trigram_mod[bigram_mod[doc]] for doc in texts]\n",
        "\n",
        "def lemmatization(texts, allowed_postags=['NOUN', 'ADJ', 'VERB', 'ADV']):\n",
        "    \"\"\"https://spacy.io/api/annotation\"\"\"\n",
        "    texts_out = []\n",
        "    for sent in texts:\n",
        "        doc = nlp(\" \".join(sent)) \n",
        "        texts_out.append([token.lemma_ for token in doc if token.pos_ in allowed_postags])\n",
        "    return texts_out"
      ],
      "execution_count": null,
      "outputs": []
    },
    {
      "cell_type": "markdown",
      "metadata": {
        "id": "sCGG-DjTEgo_"
      },
      "source": [
        "Let's call the functions in order."
      ]
    },
    {
      "cell_type": "code",
      "metadata": {
        "id": "lKFnapioEgpB",
        "colab": {
          "base_uri": "https://localhost:8080/"
        },
        "outputId": "6cd6354e-76ed-4517-8fc2-e2f638bbb835"
      },
      "source": [
        "import spacy\n",
        "\n",
        "# Remove Stop Words\n",
        "data_words_nostops = remove_stopwords(data_words)\n",
        "\n",
        "# Form Bigrams\n",
        "data_words_bigrams = make_bigrams(data_words_nostops)\n",
        "\n",
        "# Initialize spacy 'en' model, keeping only tagger component (for efficiency)\n",
        "nlp = spacy.load(\"en_core_web_sm\", disable=['parser', 'ner'])\n",
        "\n",
        "# Do lemmatization keeping only noun, adj, vb, adv\n",
        "data_lemmatized = lemmatization(data_words_bigrams, allowed_postags=['NOUN', 'ADJ', 'VERB', 'ADV'])\n",
        "\n",
        "print(data_lemmatized[:1][0][:30])"
      ],
      "execution_count": null,
      "outputs": [
        {
          "output_type": "stream",
          "text": [
            "['allege', 'current', 'anirban', 'appoint', 'illegally', 'tenure', 'officially', 'end', 'approval', 'statutory', 'bodiesthey', 'also', 'allege', 'first', 'time', 'history', 'name', 'even', 'university', 'statute', 'say', 'meet', 'schedule', 'also', 'say', 'name', 'bring', 'decision', 'make', 'body']\n"
          ],
          "name": "stdout"
        }
      ]
    },
    {
      "cell_type": "markdown",
      "metadata": {
        "id": "DUdoqb6pEgpC"
      },
      "source": [
        "** **\n",
        "#### Step 4: Data transformation: Corpus and Dictionary\n",
        "** **\n",
        "\n",
        "The two main inputs to the LDA topic model are the dictionary(id2word) and the corpus. Let’s create them."
      ]
    },
    {
      "cell_type": "code",
      "metadata": {
        "id": "37DsKzllEgpD",
        "colab": {
          "base_uri": "https://localhost:8080/"
        },
        "outputId": "3ce3b1a1-dc59-474e-f2d1-9241431a7e1c"
      },
      "source": [
        "import gensim.corpora as corpora\n",
        "\n",
        "# Create Dictionary\n",
        "id2word = corpora.Dictionary(data_lemmatized)\n",
        "\n",
        "# Create Corpus\n",
        "texts = data_lemmatized\n",
        "\n",
        "# Term Document Frequency\n",
        "corpus = [id2word.doc2bow(text) for text in texts]\n",
        "\n",
        "# View\n",
        "print(corpus[:1][0][:30])"
      ],
      "execution_count": null,
      "outputs": [
        {
          "output_type": "stream",
          "text": [
            "[(0, 2), (1, 4), (2, 1), (3, 1), (4, 1), (5, 1), (6, 1), (7, 1), (8, 1), (9, 1), (10, 1), (11, 2), (12, 1), (13, 1), (14, 1), (15, 2), (16, 1), (17, 1), (18, 1), (19, 1), (20, 4), (21, 1), (22, 4), (23, 1), (24, 1), (25, 1), (26, 1), (27, 1), (28, 1), (29, 1)]\n"
          ],
          "name": "stdout"
        }
      ]
    },
    {
      "cell_type": "markdown",
      "metadata": {
        "id": "8nnrVJ1aEgpE"
      },
      "source": [
        "** **\n",
        "#### Step 5: Base Model \n",
        "** **\n",
        "\n",
        "We have everything required to train the base LDA model. In addition to the corpus and dictionary, you need to provide the number of topics as well. Apart from that, alpha and eta are hyperparameters that affect sparsity of the topics. According to the Gensim docs, both defaults to 1.0/num_topics prior (we'll use default for the base model).\n",
        "\n",
        "Chunksize controls how many documents are processed at a time in the training algorithm. Increasing chunksize will speed up training, at least as long as the chunk of documents easily fit into memory.\n",
        "\n",
        "Passes controls how often we train the model on the entire corpus (set to 10). Another word for passes might be \"epochs\". iterations is somewhat technical, but essentially it controls how often we repeat a particular loop over each document. It is important to set the number of \"passes\" and \"iterations\" high enough."
      ]
    },
    {
      "cell_type": "code",
      "metadata": {
        "id": "3JIFuVR8EgpF"
      },
      "source": [
        "# Build LDA model\n",
        "lda_model = gensim.models.LdaMulticore(corpus=corpus,\n",
        "                                       id2word=id2word,\n",
        "                                       num_topics=10, \n",
        "                                       random_state=100,\n",
        "                                       chunksize=100,\n",
        "                                       passes=10,\n",
        "                                       per_word_topics=True)"
      ],
      "execution_count": null,
      "outputs": []
    },
    {
      "cell_type": "code",
      "metadata": {
        "id": "J8Gb7EfdEgpJ",
        "colab": {
          "base_uri": "https://localhost:8080/"
        },
        "outputId": "3fd16a5c-5146-461c-bd90-45b0117b7827"
      },
      "source": [
        "from pprint import pprint\n",
        "\n",
        "# Print the Keyword in the 10 topics\n",
        "pprint(lda_model.print_topics())\n",
        "doc_lda = lda_model[corpus]"
      ],
      "execution_count": null,
      "outputs": [
        {
          "output_type": "stream",
          "text": [
            "[(0,\n",
            "  '0.016*\"share\" + 0.016*\"post\" + 0.015*\"see\" + 0.012*\"picture\" + 0.010*\"film\" '\n",
            "  '+ 0.008*\"also\" + 0.008*\"say\" + 0.008*\"look\" + 0.008*\"actress\" + '\n",
            "  '0.008*\"actor\"'),\n",
            " (1,\n",
            "  '0.014*\"case\" + 0.014*\"say\" + 0.011*\"patient\" + 0.009*\"also\" + 0.009*\"year\" '\n",
            "  '+ 0.008*\"get\" + 0.006*\"report\" + 0.006*\"tell\" + 0.006*\"military\" + '\n",
            "  '0.005*\"officer\"'),\n",
            " (2,\n",
            "  '0.024*\"say\" + 0.013*\"also\" + 0.008*\"state\" + 0.008*\"take\" + 0.008*\"year\" + '\n",
            "  '0.006*\"government\" + 0.005*\"vaccine\" + 0.005*\"come\" + 0.005*\"tell\" + '\n",
            "  '0.005*\"file\"'),\n",
            " (3,\n",
            "  '0.019*\"say\" + 0.012*\"goal\" + 0.008*\"score\" + 0.008*\"second\" + 0.007*\"play\" '\n",
            "  '+ 0.007*\"take\" + 0.007*\"last\" + 0.006*\"come\" + 0.006*\"go\" + 0.005*\"team\"'),\n",
            " (4,\n",
            "  '0.015*\"say\" + 0.011*\"farmer\" + 0.007*\"village\" + 0.007*\"race\" + '\n",
            "  '0.006*\"start\" + 0.005*\"land\" + 0.005*\"government\" + 0.005*\"second\" + '\n",
            "  '0.005*\"make\" + 0.005*\"seek\"'),\n",
            " (5,\n",
            "  '0.020*\"say\" + 0.011*\"police\" + 0.010*\"run\" + 0.006*\"stage\" + 0.006*\"take\" + '\n",
            "  '0.006*\"yuvraj\" + 0.005*\"person\" + 0.005*\"include\" + 0.005*\"kill\" + '\n",
            "  '0.005*\"ball\"'),\n",
            " (6,\n",
            "  '0.015*\"team\" + 0.013*\"football\" + 0.012*\"ball\" + 0.010*\"get\" + '\n",
            "  '0.010*\"chinese\" + 0.009*\"run\" + 0.009*\"make\" + 0.008*\"wicket\" + 0.007*\"go\" '\n",
            "  '+ 0.007*\"over\"'),\n",
            " (7,\n",
            "  '0.021*\"say\" + 0.013*\"take\" + 0.008*\"police\" + 0.007*\"covid\" + 0.006*\"also\" '\n",
            "  '+ 0.006*\"people\" + 0.006*\"vaccine\" + 0.006*\"state\" + 0.005*\"day\" + '\n",
            "  '0.005*\"case\"'),\n",
            " (8,\n",
            "  '0.015*\"say\" + 0.009*\"case\" + 0.008*\"year\" + 0.008*\"state\" + 0.007*\"last\" + '\n",
            "  '0.007*\"take\" + 0.006*\"also\" + 0.006*\"number\" + 0.006*\"people\" + '\n",
            "  '0.005*\"covid\"'),\n",
            " (9,\n",
            "  '0.013*\"say\" + 0.013*\"play\" + 0.009*\"well\" + 0.008*\"oil\" + 0.007*\"day\" + '\n",
            "  '0.007*\"game\" + 0.007*\"price\" + 0.006*\"match\" + 0.006*\"go\" + 0.006*\"start\"')]\n"
          ],
          "name": "stdout"
        }
      ]
    },
    {
      "cell_type": "markdown",
      "metadata": {
        "id": "Fh-j_rS9EgpL"
      },
      "source": [
        "#### Compute Model Perplexity and Coherence Score\n",
        "\n",
        "Let's calculate the baseline coherence score"
      ]
    },
    {
      "cell_type": "code",
      "metadata": {
        "id": "r0rqZArQEgpM",
        "colab": {
          "base_uri": "https://localhost:8080/"
        },
        "outputId": "bbcde366-20b7-4459-e5d7-cf371cfa7092"
      },
      "source": [
        "from gensim.models import CoherenceModel\n",
        "\n",
        "# Compute Coherence Score\n",
        "coherence_model_lda = CoherenceModel(model=lda_model, texts=data_lemmatized, dictionary=id2word, coherence='c_v')\n",
        "coherence_lda = coherence_model_lda.get_coherence()\n",
        "print('Coherence Score: ', coherence_lda)"
      ],
      "execution_count": null,
      "outputs": [
        {
          "output_type": "stream",
          "text": [
            "Coherence Score:  0.3119138339217926\n"
          ],
          "name": "stdout"
        }
      ]
    },
    {
      "cell_type": "markdown",
      "metadata": {
        "id": "TN7QvKqvEgpP"
      },
      "source": [
        "** **\n",
        "#### Step 6: Hyperparameter tuning\n",
        "** **\n",
        "First, let's differentiate between model hyperparameters and model parameters :\n",
        "\n",
        "- `Model hyperparameters` can be thought of as settings for a machine learning algorithm that are tuned by the data scientist before training. Examples would be the number of trees in the random forest, or in our case, number of topics K\n",
        "\n",
        "- `Model parameters` can be thought of as what the model learns during training, such as the weights for each word in a given topic.\n",
        "\n",
        "Now that we have the baseline coherence score for the default LDA model, let's perform a series of sensitivity tests to help determine the following model hyperparameters: \n",
        "- Number of Topics (K)\n",
        "- Dirichlet hyperparameter alpha: Document-Topic Density\n",
        "- Dirichlet hyperparameter beta: Word-Topic Density\n",
        "\n",
        "We'll perform these tests in sequence, one parameter at a time by keeping others constant and run them over the two difference validation corpus sets. We'll use `C_v` as our choice of metric for performance comparison "
      ]
    },
    {
      "cell_type": "code",
      "metadata": {
        "id": "XQZ6LdmcEgpQ"
      },
      "source": [
        "# supporting function\n",
        "def compute_coherence_values(corpus, dictionary, k, a, b):\n",
        "    \n",
        "    lda_model = gensim.models.LdaMulticore(corpus=corpus,\n",
        "                                           id2word=dictionary,\n",
        "                                           num_topics=k, \n",
        "                                           random_state=100,\n",
        "                                           chunksize=100,\n",
        "                                           passes=10,\n",
        "                                           alpha=a,\n",
        "                                           eta=b)\n",
        "    \n",
        "    coherence_model_lda = CoherenceModel(model=lda_model, texts=data_lemmatized, dictionary=id2word, coherence='c_v')\n",
        "    \n",
        "    return coherence_model_lda.get_coherence()"
      ],
      "execution_count": null,
      "outputs": []
    },
    {
      "cell_type": "markdown",
      "metadata": {
        "id": "kEkJAeSAEgpQ"
      },
      "source": [
        "Let's call the function, and iterate it over the range of topics, alpha, and beta parameter values"
      ]
    },
    {
      "cell_type": "code",
      "metadata": {
        "id": "WVWV4HThEgpR",
        "colab": {
          "base_uri": "https://localhost:8080/"
        },
        "outputId": "f16672e5-f93c-4841-b176-79ffe4c769f8"
      },
      "source": [
        "import numpy as np\n",
        "import tqdm\n",
        "\n",
        "grid = {}\n",
        "grid['Validation_Set'] = {}\n",
        "\n",
        "# Topics range\n",
        "min_topics = 6\n",
        "max_topics = 15\n",
        "step_size = 1\n",
        "topics_range = range(min_topics, max_topics, step_size)\n",
        "\n",
        "# Alpha parameter\n",
        "alpha = list(np.arange(0.01, 1, 0.4))\n",
        "alpha.append('symmetric')\n",
        "alpha.append('asymmetric')\n",
        "\n",
        "# Beta parameter\n",
        "beta = list(np.arange(0.01, 1, 0.4))\n",
        "beta.append('symmetric')\n",
        "\n",
        "# Validation sets\n",
        "num_of_docs = len(corpus)\n",
        "corpus_sets = [gensim.utils.ClippedCorpus(corpus, int(num_of_docs*0.75)), \n",
        "               corpus]\n",
        "\n",
        "corpus_title = ['75% Corpus', '100% Corpus']\n",
        "\n",
        "model_results = {'Validation_Set': [],\n",
        "                 'Topics': [],\n",
        "                 'Alpha': [],\n",
        "                 'Beta': [],\n",
        "                 'Coherence': []\n",
        "                }\n",
        "\n",
        "# Can take a long time to run\n",
        "if 1 == 1:\n",
        "    pbar = tqdm.tqdm(total=(len(beta)*len(alpha)*len(topics_range)*len(corpus_title)))\n",
        "    \n",
        "    # iterate through validation corpuses\n",
        "    for i in range(len(corpus_sets)):\n",
        "        # iterate through number of topics\n",
        "        for k in topics_range:\n",
        "            # iterate through alpha values\n",
        "            for a in alpha:\n",
        "                # iterare through beta values\n",
        "                for b in beta:\n",
        "                    # get the coherence score for the given parameters\n",
        "                    cv = compute_coherence_values(corpus=corpus_sets[i], dictionary=id2word, \n",
        "                                                  k=k, a=a, b=b)\n",
        "                    # Save the model results\n",
        "                    model_results['Validation_Set'].append(corpus_title[i])\n",
        "                    model_results['Topics'].append(k)\n",
        "                    model_results['Alpha'].append(a)\n",
        "                    model_results['Beta'].append(b)\n",
        "                    model_results['Coherence'].append(cv)\n",
        "                    \n",
        "                    pbar.update(1)\n",
        "    pd.DataFrame(model_results).to_csv('Final_coherence.csv', index=False)\n",
        "    pbar.close()"
      ],
      "execution_count": null,
      "outputs": [
        {
          "output_type": "stream",
          "text": [
            "\n",
            "  0%|          | 0/360 [00:00<?, ?it/s]\u001b[A/usr/local/lib/python3.7/dist-packages/gensim/models/ldamodel.py:1023: RuntimeWarning: divide by zero encountered in log\n",
            "  diff = np.log(self.expElogbeta)\n",
            "\n",
            "  0%|          | 1/360 [00:02<16:15,  2.72s/it]\u001b[A\n",
            "  1%|          | 2/360 [00:05<16:11,  2.71s/it]\u001b[A\n",
            "  1%|          | 3/360 [00:08<16:35,  2.79s/it]\u001b[A\n",
            "  1%|          | 4/360 [00:11<16:43,  2.82s/it]\u001b[A\n",
            "  1%|▏         | 5/360 [00:14<17:18,  2.93s/it]\u001b[A\n",
            "  2%|▏         | 6/360 [00:17<17:46,  3.01s/it]\u001b[A\n",
            "  2%|▏         | 7/360 [00:20<18:16,  3.11s/it]\u001b[A\n",
            "  2%|▏         | 8/360 [00:24<18:24,  3.14s/it]\u001b[A\n",
            "  2%|▎         | 9/360 [00:27<18:50,  3.22s/it]\u001b[A\n",
            "  3%|▎         | 10/360 [00:30<19:02,  3.26s/it]\u001b[A\n",
            "  3%|▎         | 11/360 [00:34<19:21,  3.33s/it]\u001b[A\n",
            "  3%|▎         | 12/360 [00:37<19:14,  3.32s/it]\u001b[A\n",
            "  4%|▎         | 13/360 [00:40<18:25,  3.18s/it]\u001b[A\n",
            "  4%|▍         | 14/360 [00:43<17:55,  3.11s/it]\u001b[A\n",
            "  4%|▍         | 15/360 [00:46<17:38,  3.07s/it]\u001b[A\n",
            "  4%|▍         | 16/360 [00:49<17:09,  2.99s/it]\u001b[A\n",
            "  5%|▍         | 17/360 [00:52<17:10,  3.01s/it]\u001b[A\n",
            "  5%|▌         | 18/360 [00:55<17:17,  3.03s/it]\u001b[A\n",
            "  5%|▌         | 19/360 [00:58<17:28,  3.08s/it]\u001b[A\n",
            "  6%|▌         | 20/360 [01:01<17:21,  3.06s/it]\u001b[A\n",
            "  6%|▌         | 21/360 [01:04<17:15,  3.06s/it]\u001b[A\n",
            "  6%|▌         | 22/360 [01:07<17:05,  3.03s/it]\u001b[A\n",
            "  6%|▋         | 23/360 [01:10<17:26,  3.11s/it]\u001b[A\n",
            "  7%|▋         | 24/360 [01:14<17:16,  3.09s/it]\u001b[A\n",
            "  7%|▋         | 25/360 [01:17<17:35,  3.15s/it]\u001b[A\n",
            "  7%|▋         | 26/360 [01:20<17:37,  3.17s/it]\u001b[A\n",
            "  8%|▊         | 27/360 [01:24<18:15,  3.29s/it]\u001b[A\n",
            "  8%|▊         | 28/360 [01:27<18:25,  3.33s/it]\u001b[A\n",
            "  8%|▊         | 29/360 [01:30<18:20,  3.33s/it]\u001b[A\n",
            "  8%|▊         | 30/360 [01:34<18:19,  3.33s/it]\u001b[A\n",
            "  9%|▊         | 31/360 [01:38<19:03,  3.48s/it]\u001b[A\n",
            "  9%|▉         | 32/360 [01:41<18:58,  3.47s/it]\u001b[A\n",
            "  9%|▉         | 33/360 [01:44<18:14,  3.35s/it]\u001b[A\n",
            "  9%|▉         | 34/360 [01:47<17:58,  3.31s/it]\u001b[A\n",
            " 10%|▉         | 35/360 [01:50<17:48,  3.29s/it]\u001b[A\n",
            " 10%|█         | 36/360 [01:53<17:09,  3.18s/it]\u001b[A\n",
            " 10%|█         | 37/360 [01:56<16:50,  3.13s/it]\u001b[A\n",
            " 11%|█         | 38/360 [01:59<16:43,  3.12s/it]\u001b[A\n",
            " 11%|█         | 39/360 [02:03<17:12,  3.22s/it]\u001b[A\n",
            " 11%|█         | 40/360 [02:06<16:48,  3.15s/it]\u001b[A\n",
            " 11%|█▏        | 41/360 [02:09<16:47,  3.16s/it]\u001b[A\n",
            " 12%|█▏        | 42/360 [02:12<16:58,  3.20s/it]\u001b[A\n",
            " 12%|█▏        | 43/360 [02:16<17:12,  3.26s/it]\u001b[A\n",
            " 12%|█▏        | 44/360 [02:19<16:57,  3.22s/it]\u001b[A\n",
            " 12%|█▎        | 45/360 [02:22<17:12,  3.28s/it]\u001b[A\n",
            " 13%|█▎        | 46/360 [02:26<17:14,  3.29s/it]\u001b[A\n",
            " 13%|█▎        | 47/360 [02:29<17:43,  3.40s/it]\u001b[A\n",
            " 13%|█▎        | 48/360 [02:33<17:45,  3.41s/it]\u001b[A\n",
            " 14%|█▎        | 49/360 [02:36<17:37,  3.40s/it]\u001b[A\n",
            " 14%|█▍        | 50/360 [02:40<17:39,  3.42s/it]\u001b[A\n",
            " 14%|█▍        | 51/360 [02:43<18:00,  3.50s/it]\u001b[A\n",
            " 14%|█▍        | 52/360 [02:47<17:54,  3.49s/it]\u001b[A\n",
            " 15%|█▍        | 53/360 [02:50<17:00,  3.33s/it]\u001b[A\n",
            " 15%|█▌        | 54/360 [02:53<16:28,  3.23s/it]\u001b[A\n",
            " 15%|█▌        | 55/360 [02:56<16:28,  3.24s/it]\u001b[A\n",
            " 16%|█▌        | 56/360 [02:59<15:48,  3.12s/it]\u001b[A\n",
            " 16%|█▌        | 57/360 [03:02<15:24,  3.05s/it]\u001b[A\n",
            " 16%|█▌        | 58/360 [03:05<15:18,  3.04s/it]\u001b[A\n",
            " 16%|█▋        | 59/360 [03:08<15:24,  3.07s/it]\u001b[A\n",
            " 17%|█▋        | 60/360 [03:11<15:14,  3.05s/it]\u001b[A\n",
            " 17%|█▋        | 61/360 [03:14<15:08,  3.04s/it]\u001b[A\n",
            " 17%|█▋        | 62/360 [03:17<15:05,  3.04s/it]\u001b[A\n",
            " 18%|█▊        | 63/360 [03:20<15:06,  3.05s/it]\u001b[A\n",
            " 18%|█▊        | 64/360 [03:23<14:59,  3.04s/it]\u001b[A\n",
            " 18%|█▊        | 65/360 [03:26<15:15,  3.10s/it]\u001b[A\n",
            " 18%|█▊        | 66/360 [03:30<15:56,  3.25s/it]\u001b[A\n",
            " 19%|█▊        | 67/360 [03:34<16:28,  3.37s/it]\u001b[A\n",
            " 19%|█▉        | 68/360 [03:37<16:13,  3.33s/it]\u001b[A\n",
            " 19%|█▉        | 69/360 [03:40<15:56,  3.29s/it]\u001b[A\n",
            " 19%|█▉        | 70/360 [03:44<16:19,  3.38s/it]\u001b[A\n",
            " 20%|█▉        | 71/360 [03:47<16:44,  3.48s/it]\u001b[A\n",
            " 20%|██        | 72/360 [03:51<16:46,  3.49s/it]\u001b[A\n",
            " 20%|██        | 73/360 [03:54<16:08,  3.38s/it]\u001b[A\n",
            " 21%|██        | 74/360 [03:57<15:41,  3.29s/it]\u001b[A\n",
            " 21%|██        | 75/360 [04:00<15:43,  3.31s/it]\u001b[A\n",
            " 21%|██        | 76/360 [04:03<15:13,  3.22s/it]\u001b[A\n",
            " 21%|██▏       | 77/360 [04:06<15:00,  3.18s/it]\u001b[A\n",
            " 22%|██▏       | 78/360 [04:10<15:02,  3.20s/it]\u001b[A\n",
            " 22%|██▏       | 79/360 [04:13<15:15,  3.26s/it]\u001b[A\n",
            " 22%|██▏       | 80/360 [04:16<14:56,  3.20s/it]\u001b[A\n",
            " 22%|██▎       | 81/360 [04:19<14:50,  3.19s/it]\u001b[A\n",
            " 23%|██▎       | 82/360 [04:23<14:50,  3.20s/it]\u001b[A\n",
            " 23%|██▎       | 83/360 [04:26<14:56,  3.24s/it]\u001b[A\n",
            " 23%|██▎       | 84/360 [04:29<14:57,  3.25s/it]\u001b[A\n",
            " 24%|██▎       | 85/360 [04:32<15:04,  3.29s/it]\u001b[A\n",
            " 24%|██▍       | 86/360 [04:36<15:21,  3.36s/it]\u001b[A\n",
            " 24%|██▍       | 87/360 [04:40<15:54,  3.49s/it]\u001b[A\n",
            " 24%|██▍       | 88/360 [04:43<15:41,  3.46s/it]\u001b[A\n",
            " 25%|██▍       | 89/360 [04:47<15:43,  3.48s/it]\u001b[A\n",
            " 25%|██▌       | 90/360 [04:50<15:45,  3.50s/it]\u001b[A\n",
            " 25%|██▌       | 91/360 [04:54<15:54,  3.55s/it]\u001b[A\n",
            " 26%|██▌       | 92/360 [04:57<15:27,  3.46s/it]\u001b[A\n",
            " 26%|██▌       | 93/360 [05:00<15:06,  3.39s/it]\u001b[A\n",
            " 26%|██▌       | 94/360 [05:04<14:46,  3.33s/it]\u001b[A\n",
            " 26%|██▋       | 95/360 [05:07<14:32,  3.29s/it]\u001b[A\n",
            " 27%|██▋       | 96/360 [05:10<14:22,  3.27s/it]\u001b[A\n",
            " 27%|██▋       | 97/360 [05:13<14:13,  3.24s/it]\u001b[A\n",
            " 27%|██▋       | 98/360 [05:16<13:52,  3.18s/it]\u001b[A\n",
            " 28%|██▊       | 99/360 [05:20<13:59,  3.22s/it]\u001b[A\n",
            " 28%|██▊       | 100/360 [05:23<13:34,  3.13s/it]\u001b[A\n",
            " 28%|██▊       | 101/360 [05:26<13:50,  3.21s/it]\u001b[A\n",
            " 28%|██▊       | 102/360 [05:29<13:51,  3.22s/it]\u001b[A\n",
            " 29%|██▊       | 103/360 [05:32<13:53,  3.24s/it]\u001b[A\n",
            " 29%|██▉       | 104/360 [05:36<13:52,  3.25s/it]\u001b[A\n",
            " 29%|██▉       | 105/360 [05:39<14:10,  3.34s/it]\u001b[A\n",
            " 29%|██▉       | 106/360 [05:43<14:22,  3.40s/it]\u001b[A\n",
            " 30%|██▉       | 107/360 [05:47<14:53,  3.53s/it]\u001b[A\n",
            " 30%|███       | 108/360 [05:50<14:45,  3.51s/it]\u001b[A\n",
            " 30%|███       | 109/360 [05:54<14:48,  3.54s/it]\u001b[A\n",
            " 31%|███       | 110/360 [05:57<14:53,  3.58s/it]\u001b[A\n",
            " 31%|███       | 111/360 [06:01<15:21,  3.70s/it]\u001b[A\n",
            " 31%|███       | 112/360 [06:05<15:03,  3.64s/it]\u001b[A\n",
            " 31%|███▏      | 113/360 [06:08<14:38,  3.56s/it]\u001b[A\n",
            " 32%|███▏      | 114/360 [06:12<14:26,  3.52s/it]\u001b[A\n",
            " 32%|███▏      | 115/360 [06:15<14:19,  3.51s/it]\u001b[A\n",
            " 32%|███▏      | 116/360 [06:18<13:52,  3.41s/it]\u001b[A\n",
            " 32%|███▎      | 117/360 [06:22<13:38,  3.37s/it]\u001b[A\n",
            " 33%|███▎      | 118/360 [06:25<13:29,  3.35s/it]\u001b[A\n",
            " 33%|███▎      | 119/360 [06:28<13:35,  3.39s/it]\u001b[A\n",
            " 33%|███▎      | 120/360 [06:32<13:25,  3.35s/it]\u001b[A\n",
            " 34%|███▎      | 121/360 [06:35<13:27,  3.38s/it]\u001b[A\n",
            " 34%|███▍      | 122/360 [06:39<13:34,  3.42s/it]\u001b[A\n",
            " 34%|███▍      | 123/360 [06:42<13:38,  3.45s/it]\u001b[A\n",
            " 34%|███▍      | 124/360 [06:45<13:17,  3.38s/it]\u001b[A\n",
            " 35%|███▍      | 125/360 [06:49<13:23,  3.42s/it]\u001b[A\n",
            " 35%|███▌      | 126/360 [06:52<13:22,  3.43s/it]\u001b[A\n",
            " 35%|███▌      | 127/360 [06:56<13:37,  3.51s/it]\u001b[A\n",
            " 36%|███▌      | 128/360 [07:00<13:37,  3.52s/it]\u001b[A\n",
            " 36%|███▌      | 129/360 [07:03<13:34,  3.52s/it]\u001b[A\n",
            " 36%|███▌      | 130/360 [07:07<13:45,  3.59s/it]\u001b[A\n",
            " 36%|███▋      | 131/360 [07:11<14:01,  3.67s/it]\u001b[A\n",
            " 37%|███▋      | 132/360 [07:14<13:56,  3.67s/it]\u001b[A\n",
            " 37%|███▋      | 133/360 [07:18<13:31,  3.57s/it]\u001b[A\n",
            " 37%|███▋      | 134/360 [07:21<13:12,  3.51s/it]\u001b[A\n",
            " 38%|███▊      | 135/360 [07:25<13:17,  3.54s/it]\u001b[A\n",
            " 38%|███▊      | 136/360 [07:28<12:53,  3.45s/it]\u001b[A\n",
            " 38%|███▊      | 137/360 [07:31<12:40,  3.41s/it]\u001b[A\n",
            " 38%|███▊      | 138/360 [07:35<12:39,  3.42s/it]\u001b[A\n",
            " 39%|███▊      | 139/360 [07:38<12:49,  3.48s/it]\u001b[A\n",
            " 39%|███▉      | 140/360 [07:42<12:41,  3.46s/it]\u001b[A\n",
            " 39%|███▉      | 141/360 [07:45<12:45,  3.49s/it]\u001b[A\n",
            " 39%|███▉      | 142/360 [07:49<12:42,  3.50s/it]\u001b[A\n",
            " 40%|███▉      | 143/360 [07:53<12:57,  3.58s/it]\u001b[A\n",
            " 40%|████      | 144/360 [07:56<12:47,  3.56s/it]\u001b[A\n",
            " 40%|████      | 145/360 [08:00<13:00,  3.63s/it]\u001b[A\n",
            " 41%|████      | 146/360 [08:04<13:20,  3.74s/it]\u001b[A\n",
            " 41%|████      | 147/360 [08:08<13:30,  3.81s/it]\u001b[A\n",
            " 41%|████      | 148/360 [08:12<13:26,  3.81s/it]\u001b[A\n",
            " 41%|████▏     | 149/360 [08:16<13:39,  3.88s/it]\u001b[A\n",
            " 42%|████▏     | 150/360 [08:20<13:48,  3.94s/it]\u001b[A\n",
            " 42%|████▏     | 151/360 [08:24<14:07,  4.06s/it]\u001b[A\n",
            " 42%|████▏     | 152/360 [08:28<13:54,  4.01s/it]\u001b[A\n",
            " 42%|████▎     | 153/360 [08:32<13:48,  4.00s/it]\u001b[A\n",
            " 43%|████▎     | 154/360 [08:36<13:38,  3.97s/it]\u001b[A\n",
            " 43%|████▎     | 155/360 [08:40<13:36,  3.98s/it]\u001b[A\n",
            " 43%|████▎     | 156/360 [08:44<13:21,  3.93s/it]\u001b[A\n",
            " 44%|████▎     | 157/360 [08:48<13:15,  3.92s/it]\u001b[A\n",
            " 44%|████▍     | 158/360 [08:51<13:01,  3.87s/it]\u001b[A\n",
            " 44%|████▍     | 159/360 [08:55<12:57,  3.87s/it]\u001b[A\n",
            " 44%|████▍     | 160/360 [08:59<12:44,  3.82s/it]\u001b[A\n",
            " 45%|████▍     | 161/360 [09:03<12:37,  3.80s/it]\u001b[A\n",
            " 45%|████▌     | 162/360 [09:07<12:38,  3.83s/it]\u001b[A\n",
            " 45%|████▌     | 163/360 [09:11<12:46,  3.89s/it]\u001b[A\n",
            " 46%|████▌     | 164/360 [09:14<12:39,  3.87s/it]\u001b[A\n",
            " 46%|████▌     | 165/360 [09:18<12:40,  3.90s/it]\u001b[A\n",
            " 46%|████▌     | 166/360 [09:22<12:33,  3.88s/it]\u001b[A\n",
            " 46%|████▋     | 167/360 [09:26<12:42,  3.95s/it]\u001b[A\n",
            " 47%|████▋     | 168/360 [09:30<12:36,  3.94s/it]\u001b[A\n",
            " 47%|████▋     | 169/360 [09:34<12:26,  3.91s/it]\u001b[A\n",
            " 47%|████▋     | 170/360 [09:38<12:39,  4.00s/it]\u001b[A\n",
            " 48%|████▊     | 171/360 [09:43<12:54,  4.10s/it]\u001b[A\n",
            " 48%|████▊     | 172/360 [09:47<12:38,  4.04s/it]\u001b[A\n",
            " 48%|████▊     | 173/360 [09:50<12:17,  3.94s/it]\u001b[A\n",
            " 48%|████▊     | 174/360 [09:54<12:07,  3.91s/it]\u001b[A\n",
            " 49%|████▊     | 175/360 [09:58<11:57,  3.88s/it]\u001b[A\n",
            " 49%|████▉     | 176/360 [10:02<11:39,  3.80s/it]\u001b[A\n",
            " 49%|████▉     | 177/360 [10:05<11:26,  3.75s/it]\u001b[A\n",
            " 49%|████▉     | 178/360 [10:09<11:30,  3.79s/it]\u001b[A\n",
            " 50%|████▉     | 179/360 [10:13<11:34,  3.84s/it]\u001b[A\n",
            " 50%|█████     | 180/360 [10:16<11:08,  3.71s/it]\u001b[A\n",
            " 50%|█████     | 181/360 [10:20<10:35,  3.55s/it]\u001b[A\n",
            " 51%|█████     | 182/360 [10:23<10:19,  3.48s/it]\u001b[A\n",
            " 51%|█████     | 183/360 [10:26<10:05,  3.42s/it]\u001b[A\n",
            " 51%|█████     | 184/360 [10:29<09:48,  3.34s/it]\u001b[A\n",
            " 51%|█████▏    | 185/360 [10:33<09:58,  3.42s/it]\u001b[A\n",
            " 52%|█████▏    | 186/360 [10:37<10:05,  3.48s/it]\u001b[A\n",
            " 52%|█████▏    | 187/360 [10:40<10:24,  3.61s/it]\u001b[A\n",
            " 52%|█████▏    | 188/360 [10:44<10:17,  3.59s/it]\u001b[A\n",
            " 52%|█████▎    | 189/360 [10:48<10:17,  3.61s/it]\u001b[A\n",
            " 53%|█████▎    | 190/360 [10:51<10:23,  3.67s/it]\u001b[A\n",
            " 53%|█████▎    | 191/360 [10:55<10:35,  3.76s/it]\u001b[A\n",
            " 53%|█████▎    | 192/360 [10:59<10:25,  3.73s/it]\u001b[A\n",
            " 54%|█████▎    | 193/360 [11:02<10:03,  3.61s/it]\u001b[A\n",
            " 54%|█████▍    | 194/360 [11:06<09:44,  3.52s/it]\u001b[A\n",
            " 54%|█████▍    | 195/360 [11:09<09:50,  3.58s/it]\u001b[A\n",
            " 54%|█████▍    | 196/360 [11:13<09:37,  3.52s/it]\u001b[A\n",
            " 55%|█████▍    | 197/360 [11:16<09:28,  3.49s/it]\u001b[A\n",
            " 55%|█████▌    | 198/360 [11:20<09:17,  3.44s/it]\u001b[A\n",
            " 55%|█████▌    | 199/360 [11:23<09:23,  3.50s/it]\u001b[A\n",
            " 56%|█████▌    | 200/360 [11:27<09:12,  3.45s/it]\u001b[A\n",
            " 56%|█████▌    | 201/360 [11:30<09:03,  3.42s/it]\u001b[A\n",
            " 56%|█████▌    | 202/360 [11:33<09:02,  3.43s/it]\u001b[A\n",
            " 56%|█████▋    | 203/360 [11:37<09:01,  3.45s/it]\u001b[A\n",
            " 57%|█████▋    | 204/360 [11:40<08:52,  3.41s/it]\u001b[A\n",
            " 57%|█████▋    | 205/360 [11:44<09:10,  3.55s/it]\u001b[A\n",
            " 57%|█████▋    | 206/360 [11:48<09:20,  3.64s/it]\u001b[A\n",
            " 57%|█████▊    | 207/360 [11:52<09:34,  3.76s/it]\u001b[A\n",
            " 58%|█████▊    | 208/360 [11:56<09:32,  3.76s/it]\u001b[A\n",
            " 58%|█████▊    | 209/360 [12:00<09:28,  3.76s/it]\u001b[A\n",
            " 58%|█████▊    | 210/360 [12:03<09:22,  3.75s/it]\u001b[A\n",
            " 59%|█████▊    | 211/360 [12:07<09:32,  3.84s/it]\u001b[A\n",
            " 59%|█████▉    | 212/360 [12:11<09:27,  3.84s/it]\u001b[A\n",
            " 59%|█████▉    | 213/360 [12:15<09:05,  3.71s/it]\u001b[A\n",
            " 59%|█████▉    | 214/360 [12:18<08:50,  3.64s/it]\u001b[A\n",
            " 60%|█████▉    | 215/360 [12:22<08:48,  3.65s/it]\u001b[A\n",
            " 60%|██████    | 216/360 [12:25<08:39,  3.61s/it]\u001b[A\n",
            " 60%|██████    | 217/360 [12:29<08:29,  3.57s/it]\u001b[A\n",
            " 61%|██████    | 218/360 [12:32<08:20,  3.53s/it]\u001b[A\n",
            " 61%|██████    | 219/360 [12:36<08:18,  3.53s/it]\u001b[A\n",
            " 61%|██████    | 220/360 [12:39<08:07,  3.48s/it]\u001b[A\n",
            " 61%|██████▏   | 221/360 [12:42<07:59,  3.45s/it]\u001b[A\n",
            " 62%|██████▏   | 222/360 [12:46<07:54,  3.44s/it]\u001b[A\n",
            " 62%|██████▏   | 223/360 [12:49<07:59,  3.50s/it]\u001b[A\n",
            " 62%|██████▏   | 224/360 [12:53<07:51,  3.46s/it]\u001b[A\n",
            " 62%|██████▎   | 225/360 [12:57<08:03,  3.58s/it]\u001b[A\n",
            " 63%|██████▎   | 226/360 [13:00<08:08,  3.64s/it]\u001b[A\n",
            " 63%|██████▎   | 227/360 [13:05<08:22,  3.78s/it]\u001b[A\n",
            " 63%|██████▎   | 228/360 [13:08<08:21,  3.80s/it]\u001b[A\n",
            " 64%|██████▎   | 229/360 [13:12<08:18,  3.81s/it]\u001b[A\n",
            " 64%|██████▍   | 230/360 [13:16<08:28,  3.91s/it]\u001b[A\n",
            " 64%|██████▍   | 231/360 [13:21<08:39,  4.03s/it]\u001b[A\n",
            " 64%|██████▍   | 232/360 [13:24<08:23,  3.93s/it]\u001b[A\n",
            " 65%|██████▍   | 233/360 [13:28<07:59,  3.78s/it]\u001b[A\n",
            " 65%|██████▌   | 234/360 [13:31<07:45,  3.69s/it]\u001b[A\n",
            " 65%|██████▌   | 235/360 [13:35<07:43,  3.71s/it]\u001b[A\n",
            " 66%|██████▌   | 236/360 [13:38<07:26,  3.60s/it]\u001b[A\n",
            " 66%|██████▌   | 237/360 [13:42<07:18,  3.56s/it]\u001b[A\n",
            " 66%|██████▌   | 238/360 [13:45<07:06,  3.50s/it]\u001b[A\n",
            " 66%|██████▋   | 239/360 [13:49<07:05,  3.52s/it]\u001b[A\n",
            " 67%|██████▋   | 240/360 [13:52<06:56,  3.47s/it]\u001b[A\n",
            " 67%|██████▋   | 241/360 [13:56<06:54,  3.49s/it]\u001b[A\n",
            " 67%|██████▋   | 242/360 [13:59<07:03,  3.59s/it]\u001b[A\n",
            " 68%|██████▊   | 243/360 [14:03<07:01,  3.61s/it]\u001b[A\n",
            " 68%|██████▊   | 244/360 [14:07<06:58,  3.61s/it]\u001b[A\n",
            " 68%|██████▊   | 245/360 [14:11<07:10,  3.75s/it]\u001b[A\n",
            " 68%|██████▊   | 246/360 [14:15<07:18,  3.85s/it]\u001b[A\n",
            " 69%|██████▊   | 247/360 [14:19<07:24,  3.93s/it]\u001b[A\n",
            " 69%|██████▉   | 248/360 [14:23<07:19,  3.92s/it]\u001b[A\n",
            " 69%|██████▉   | 249/360 [14:27<07:16,  3.93s/it]\u001b[A\n",
            " 69%|██████▉   | 250/360 [14:31<07:17,  3.98s/it]\u001b[A\n",
            " 70%|██████▉   | 251/360 [14:35<07:27,  4.10s/it]\u001b[A\n",
            " 70%|███████   | 252/360 [14:40<07:26,  4.13s/it]\u001b[A\n",
            " 70%|███████   | 253/360 [14:43<07:09,  4.01s/it]\u001b[A\n",
            " 71%|███████   | 254/360 [14:47<06:55,  3.92s/it]\u001b[A\n",
            " 71%|███████   | 255/360 [14:51<06:47,  3.88s/it]\u001b[A\n",
            " 71%|███████   | 256/360 [14:54<06:33,  3.79s/it]\u001b[A\n",
            " 71%|███████▏  | 257/360 [14:58<06:21,  3.70s/it]\u001b[A\n",
            " 72%|███████▏  | 258/360 [15:02<06:16,  3.70s/it]\u001b[A\n",
            " 72%|███████▏  | 259/360 [15:05<06:11,  3.68s/it]\u001b[A\n",
            " 72%|███████▏  | 260/360 [15:09<06:06,  3.66s/it]\u001b[A\n",
            " 72%|███████▎  | 261/360 [15:12<06:01,  3.65s/it]\u001b[A\n",
            " 73%|███████▎  | 262/360 [15:16<05:58,  3.66s/it]\u001b[A\n",
            " 73%|███████▎  | 263/360 [15:20<06:02,  3.74s/it]\u001b[A\n",
            " 73%|███████▎  | 264/360 [15:24<05:53,  3.68s/it]\u001b[A\n",
            " 74%|███████▎  | 265/360 [15:28<05:59,  3.79s/it]\u001b[A\n",
            " 74%|███████▍  | 266/360 [15:32<06:06,  3.89s/it]\u001b[A\n",
            " 74%|███████▍  | 267/360 [15:36<06:14,  4.03s/it]\u001b[A\n",
            " 74%|███████▍  | 268/360 [15:40<06:07,  4.00s/it]\u001b[A\n",
            " 75%|███████▍  | 269/360 [15:44<06:07,  4.04s/it]\u001b[A\n",
            " 75%|███████▌  | 270/360 [15:49<06:12,  4.13s/it]\u001b[A\n",
            " 75%|███████▌  | 271/360 [15:53<06:18,  4.26s/it]\u001b[A\n",
            " 76%|███████▌  | 272/360 [15:57<06:09,  4.20s/it]\u001b[A\n",
            " 76%|███████▌  | 273/360 [16:01<05:51,  4.04s/it]\u001b[A\n",
            " 76%|███████▌  | 274/360 [16:04<05:38,  3.94s/it]\u001b[A\n",
            " 76%|███████▋  | 275/360 [16:09<05:42,  4.03s/it]\u001b[A\n",
            " 77%|███████▋  | 276/360 [16:12<05:31,  3.94s/it]\u001b[A\n",
            " 77%|███████▋  | 277/360 [16:16<05:23,  3.90s/it]\u001b[A\n",
            " 77%|███████▋  | 278/360 [16:20<05:14,  3.84s/it]\u001b[A\n",
            " 78%|███████▊  | 279/360 [16:24<05:13,  3.87s/it]\u001b[A\n",
            " 78%|███████▊  | 280/360 [16:28<05:03,  3.79s/it]\u001b[A\n",
            " 78%|███████▊  | 281/360 [16:31<04:57,  3.77s/it]\u001b[A\n",
            " 78%|███████▊  | 282/360 [16:35<04:55,  3.79s/it]\u001b[A\n",
            " 79%|███████▊  | 283/360 [16:39<04:53,  3.81s/it]\u001b[A\n",
            " 79%|███████▉  | 284/360 [16:43<04:48,  3.79s/it]\u001b[A\n",
            " 79%|███████▉  | 285/360 [16:47<04:56,  3.95s/it]\u001b[A\n",
            " 79%|███████▉  | 286/360 [16:51<04:59,  4.05s/it]\u001b[A\n",
            " 80%|███████▉  | 287/360 [16:56<05:05,  4.18s/it]\u001b[A\n",
            " 80%|████████  | 288/360 [17:00<05:02,  4.20s/it]\u001b[A\n",
            " 80%|████████  | 289/360 [17:04<04:58,  4.21s/it]\u001b[A\n",
            " 81%|████████  | 290/360 [17:09<05:00,  4.29s/it]\u001b[A\n",
            " 81%|████████  | 291/360 [17:13<05:04,  4.41s/it]\u001b[A\n",
            " 81%|████████  | 292/360 [17:18<04:54,  4.34s/it]\u001b[A\n",
            " 81%|████████▏ | 293/360 [17:21<04:41,  4.21s/it]\u001b[A\n",
            " 82%|████████▏ | 294/360 [17:25<04:27,  4.05s/it]\u001b[A\n",
            " 82%|████████▏ | 295/360 [17:29<04:22,  4.04s/it]\u001b[A\n",
            " 82%|████████▏ | 296/360 [17:33<04:13,  3.96s/it]\u001b[A\n",
            " 82%|████████▎ | 297/360 [17:37<04:06,  3.91s/it]\u001b[A\n",
            " 83%|████████▎ | 298/360 [17:41<04:07,  3.99s/it]\u001b[A\n",
            " 83%|████████▎ | 299/360 [17:45<04:06,  4.04s/it]\u001b[A\n",
            " 83%|████████▎ | 300/360 [17:49<04:01,  4.03s/it]\u001b[A\n",
            " 84%|████████▎ | 301/360 [17:53<03:56,  4.01s/it]\u001b[A\n",
            " 84%|████████▍ | 302/360 [17:57<03:52,  4.01s/it]\u001b[A\n",
            " 84%|████████▍ | 303/360 [18:01<03:53,  4.10s/it]\u001b[A\n",
            " 84%|████████▍ | 304/360 [18:06<03:50,  4.12s/it]\u001b[A\n",
            " 85%|████████▍ | 305/360 [18:10<03:52,  4.23s/it]\u001b[A\n",
            " 85%|████████▌ | 306/360 [18:14<03:52,  4.31s/it]\u001b[A\n",
            " 85%|████████▌ | 307/360 [18:19<03:56,  4.45s/it]\u001b[A\n",
            " 86%|████████▌ | 308/360 [18:24<03:50,  4.43s/it]\u001b[A\n",
            " 86%|████████▌ | 309/360 [18:28<03:45,  4.41s/it]\u001b[A\n",
            " 86%|████████▌ | 310/360 [18:33<03:44,  4.50s/it]\u001b[A\n",
            " 86%|████████▋ | 311/360 [18:38<03:44,  4.58s/it]\u001b[A\n",
            " 87%|████████▋ | 312/360 [18:42<03:38,  4.55s/it]\u001b[A\n",
            " 87%|████████▋ | 313/360 [18:46<03:28,  4.44s/it]\u001b[A\n",
            " 87%|████████▋ | 314/360 [18:50<03:21,  4.37s/it]\u001b[A\n",
            " 88%|████████▊ | 315/360 [18:55<03:17,  4.38s/it]\u001b[A\n",
            " 88%|████████▊ | 316/360 [18:59<03:08,  4.28s/it]\u001b[A\n",
            " 88%|████████▊ | 317/360 [19:03<03:02,  4.23s/it]\u001b[A\n",
            " 88%|████████▊ | 318/360 [19:07<02:56,  4.20s/it]\u001b[A\n",
            " 89%|████████▊ | 319/360 [19:12<02:55,  4.28s/it]\u001b[A\n",
            " 89%|████████▉ | 320/360 [19:16<02:47,  4.20s/it]\u001b[A\n",
            " 89%|████████▉ | 321/360 [19:20<02:43,  4.20s/it]\u001b[A\n",
            " 89%|████████▉ | 322/360 [19:24<02:39,  4.20s/it]\u001b[A\n",
            " 90%|████████▉ | 323/360 [19:28<02:34,  4.18s/it]\u001b[A\n",
            " 90%|█████████ | 324/360 [19:32<02:29,  4.15s/it]\u001b[A\n",
            " 90%|█████████ | 325/360 [19:37<02:28,  4.25s/it]\u001b[A\n",
            " 91%|█████████ | 326/360 [19:41<02:28,  4.36s/it]\u001b[A\n",
            " 91%|█████████ | 327/360 [19:46<02:26,  4.45s/it]\u001b[A\n",
            " 91%|█████████ | 328/360 [19:50<02:20,  4.40s/it]\u001b[A\n",
            " 91%|█████████▏| 329/360 [19:55<02:16,  4.41s/it]\u001b[A\n",
            " 92%|█████████▏| 330/360 [19:59<02:13,  4.44s/it]\u001b[A\n",
            " 92%|█████████▏| 331/360 [20:04<02:12,  4.55s/it]\u001b[A\n",
            " 92%|█████████▏| 332/360 [20:09<02:08,  4.60s/it]\u001b[A\n",
            " 92%|█████████▎| 333/360 [20:13<02:01,  4.49s/it]\u001b[A\n",
            " 93%|█████████▎| 334/360 [20:17<01:53,  4.35s/it]\u001b[A\n",
            " 93%|█████████▎| 335/360 [20:21<01:47,  4.31s/it]\u001b[A\n",
            " 93%|█████████▎| 336/360 [20:25<01:41,  4.23s/it]\u001b[A\n",
            " 94%|█████████▎| 337/360 [20:29<01:36,  4.20s/it]\u001b[A\n",
            " 94%|█████████▍| 338/360 [20:33<01:31,  4.14s/it]\u001b[A\n",
            " 94%|█████████▍| 339/360 [20:38<01:28,  4.19s/it]\u001b[A\n",
            " 94%|█████████▍| 340/360 [20:42<01:23,  4.16s/it]\u001b[A\n",
            " 95%|█████████▍| 341/360 [20:47<01:23,  4.38s/it]\u001b[A\n",
            " 95%|█████████▌| 342/360 [20:51<01:21,  4.52s/it]\u001b[A\n",
            " 95%|█████████▌| 343/360 [20:57<01:20,  4.73s/it]\u001b[A\n",
            " 96%|█████████▌| 344/360 [21:01<01:16,  4.75s/it]\u001b[A\n",
            " 96%|█████████▌| 345/360 [21:07<01:13,  4.90s/it]\u001b[A\n",
            " 96%|█████████▌| 346/360 [21:12<01:09,  5.00s/it]\u001b[A\n",
            " 96%|█████████▋| 347/360 [21:17<01:06,  5.14s/it]\u001b[A\n",
            " 97%|█████████▋| 348/360 [21:23<01:01,  5.15s/it]\u001b[A\n",
            " 97%|█████████▋| 349/360 [21:28<00:56,  5.12s/it]\u001b[A\n",
            " 97%|█████████▋| 350/360 [21:33<00:52,  5.25s/it]\u001b[A\n",
            " 98%|█████████▊| 351/360 [21:39<00:47,  5.32s/it]\u001b[A\n",
            " 98%|█████████▊| 352/360 [21:44<00:42,  5.34s/it]\u001b[A\n",
            " 98%|█████████▊| 353/360 [21:49<00:36,  5.25s/it]\u001b[A\n",
            " 98%|█████████▊| 354/360 [21:54<00:30,  5.09s/it]\u001b[A\n",
            " 99%|█████████▊| 355/360 [21:59<00:25,  5.13s/it]\u001b[A\n",
            " 99%|█████████▉| 356/360 [22:04<00:20,  5.02s/it]\u001b[A\n",
            " 99%|█████████▉| 357/360 [22:09<00:15,  5.01s/it]\u001b[A\n",
            " 99%|█████████▉| 358/360 [22:14<00:09,  4.97s/it]\u001b[A\n",
            "100%|█████████▉| 359/360 [22:19<00:05,  5.02s/it]\u001b[A\n",
            "100%|██████████| 360/360 [22:24<00:00,  3.73s/it]\n"
          ],
          "name": "stderr"
        }
      ]
    },
    {
      "cell_type": "code",
      "metadata": {
        "id": "ZjlqFyGjemOB",
        "colab": {
          "base_uri": "https://localhost:8080/",
          "height": 17
        },
        "outputId": "d092f196-96b5-423f-9724-81e0131fe436"
      },
      "source": [
        "df = pd.DataFrame(model_results)\n",
        "  \n",
        "# saving the dataframe\n",
        "df.to_csv('Final_Coherence.csv')\n",
        "# from google.colab import files\n",
        "files.download(\"Final_Coherence.csv\")"
      ],
      "execution_count": null,
      "outputs": [
        {
          "output_type": "display_data",
          "data": {
            "application/javascript": [
              "\n",
              "    async function download(id, filename, size) {\n",
              "      if (!google.colab.kernel.accessAllowed) {\n",
              "        return;\n",
              "      }\n",
              "      const div = document.createElement('div');\n",
              "      const label = document.createElement('label');\n",
              "      label.textContent = `Downloading \"${filename}\": `;\n",
              "      div.appendChild(label);\n",
              "      const progress = document.createElement('progress');\n",
              "      progress.max = size;\n",
              "      div.appendChild(progress);\n",
              "      document.body.appendChild(div);\n",
              "\n",
              "      const buffers = [];\n",
              "      let downloaded = 0;\n",
              "\n",
              "      const channel = await google.colab.kernel.comms.open(id);\n",
              "      // Send a message to notify the kernel that we're ready.\n",
              "      channel.send({})\n",
              "\n",
              "      for await (const message of channel.messages) {\n",
              "        // Send a message to notify the kernel that we're ready.\n",
              "        channel.send({})\n",
              "        if (message.buffers) {\n",
              "          for (const buffer of message.buffers) {\n",
              "            buffers.push(buffer);\n",
              "            downloaded += buffer.byteLength;\n",
              "            progress.value = downloaded;\n",
              "          }\n",
              "        }\n",
              "      }\n",
              "      const blob = new Blob(buffers, {type: 'application/binary'});\n",
              "      const a = document.createElement('a');\n",
              "      a.href = window.URL.createObjectURL(blob);\n",
              "      a.download = filename;\n",
              "      div.appendChild(a);\n",
              "      a.click();\n",
              "      div.remove();\n",
              "    }\n",
              "  "
            ],
            "text/plain": [
              "<IPython.core.display.Javascript object>"
            ]
          },
          "metadata": {
            "tags": []
          }
        },
        {
          "output_type": "display_data",
          "data": {
            "application/javascript": [
              "download(\"download_43408081-dd54-46e6-8225-690430b74e93\", \"Final_Coherence.csv\", 20678)"
            ],
            "text/plain": [
              "<IPython.core.display.Javascript object>"
            ]
          },
          "metadata": {
            "tags": []
          }
        }
      ]
    },
    {
      "cell_type": "code",
      "metadata": {
        "id": "xiLbn3-cg6Nz"
      },
      "source": [
        "#df.loc[[179]]\n",
        "df_75 = df.iloc[:179,:]\n",
        "df_100 = df.iloc[180:,:]"
      ],
      "execution_count": null,
      "outputs": []
    },
    {
      "cell_type": "markdown",
      "metadata": {
        "id": "UgvUxTeA5tTN"
      },
      "source": [
        "#### Coherence Score across different Alpha and beta for 75% and 100% of the corpus"
      ]
    },
    {
      "cell_type": "code",
      "metadata": {
        "id": "mYd5svxPh_w1",
        "colab": {
          "base_uri": "https://localhost:8080/",
          "height": 296
        },
        "outputId": "73d21373-7f53-4abb-d765-a9ad8c6a003d"
      },
      "source": [
        "import seaborn as sns\n",
        "# df = sns.load_dataset('iris')\n",
        "\n",
        "# use the function regplot to make a scatterplot\n",
        "sns.regplot(x=df_75[\"Topics\"], y=df_75[\"Coherence\"])"
      ],
      "execution_count": null,
      "outputs": [
        {
          "output_type": "execute_result",
          "data": {
            "text/plain": [
              "<matplotlib.axes._subplots.AxesSubplot at 0x7f97913d3e50>"
            ]
          },
          "metadata": {
            "tags": []
          },
          "execution_count": 27
        },
        {
          "output_type": "display_data",
          "data": {
            "image/png": "[encoded data removed]",
            "text/plain": [
              "<Figure size 432x288 with 1 Axes>"
            ]
          },
          "metadata": {
            "tags": [],
            "needs_background": "light"
          }
        }
      ]
    },
    {
      "cell_type": "code",
      "metadata": {
        "id": "D_kUrFgeiTrc",
        "colab": {
          "base_uri": "https://localhost:8080/",
          "height": 299
        },
        "outputId": "ff773c6a-2704-40f0-b938-9fdebf045eb0"
      },
      "source": [
        "import seaborn as sns\n",
        "# df = sns.load_dataset('iris')\n",
        "\n",
        "# use the function regplot to make a scatterplot\n",
        "sns.regplot(x=df_100[\"Topics\"], y=df_100[\"Coherence\"])"
      ],
      "execution_count": null,
      "outputs": [
        {
          "output_type": "execute_result",
          "data": {
            "text/plain": [
              "<matplotlib.axes._subplots.AxesSubplot at 0x7f9790c2cf90>"
            ]
          },
          "metadata": {
            "tags": []
          },
          "execution_count": 28
        },
        {
          "output_type": "display_data",
          "data": {
            "image/png": "[encoded data removed]",
            "text/plain": [
              "<Figure size 432x288 with 1 Axes>"
            ]
          },
          "metadata": {
            "tags": [],
            "needs_background": "light"
          }
        }
      ]
    },
    {
      "cell_type": "code",
      "metadata": {
        "id": "2h90dl7KspRA",
        "colab": {
          "base_uri": "https://localhost:8080/",
          "height": 295
        },
        "outputId": "9d882a32-1cfe-435e-e19c-9f72dc1524db"
      },
      "source": [
        "import numpy as np\n",
        "import numpy as np\n",
        "from scipy.interpolate import make_interp_spline\n",
        "import matplotlib.pyplot as plt\n",
        " \n",
        "# Dataset\n",
        "x = np.array(index_list)\n",
        "y = np.array(max_list)\n",
        " \n",
        "X_Y_Spline = make_interp_spline(x, y)\n",
        " \n",
        "# Returns evenly spaced numbers\n",
        "# over a specified interval.\n",
        "X_ = np.linspace(x.min(), x.max(), 500)\n",
        "Y_ = X_Y_Spline(X_)\n",
        " \n",
        "# Plotting the Graph\n",
        "plt.plot(X_, Y_)\n",
        "plt.title(\"Coherence score vs Topics 75%\")\n",
        "plt.xlabel(\"X\")\n",
        "plt.ylabel(\"Y\")\n",
        "plt.show()"
      ],
      "execution_count": null,
      "outputs": [
        {
          "output_type": "display_data",
          "data": {
            "image/png": "[encoded data removed]",
            "text/plain": [
              "<Figure size 432x288 with 1 Axes>"
            ]
          },
          "metadata": {
            "tags": [],
            "needs_background": "light"
          }
        }
      ]
    },
    {
      "cell_type": "code",
      "metadata": {
        "id": "DS_EhAHDtePS",
        "colab": {
          "base_uri": "https://localhost:8080/",
          "height": 295
        },
        "outputId": "bbff834f-f002-4b69-a8c3-ed12106912c6"
      },
      "source": [
        "import numpy as np\n",
        "import numpy as np\n",
        "from scipy.interpolate import make_interp_spline\n",
        "import matplotlib.pyplot as plt\n",
        " \n",
        "# Dataset\n",
        "x = np.array(index_list)\n",
        "y = np.array(max_list)\n",
        " \n",
        "X_Y_Spline = make_interp_spline(x, y)\n",
        " \n",
        "# Returns evenly spaced numbers\n",
        "# over a specified interval.\n",
        "X_ = np.linspace(x.min(), x.max(), 500)\n",
        "Y_ = X_Y_Spline(X_)\n",
        " \n",
        "# Plotting the Graph\n",
        "plt.plot(X_, Y_)\n",
        "plt.title(\"Coherence score vs Topics 100%\")\n",
        "plt.xlabel(\"X\")\n",
        "plt.ylabel(\"Y\")\n",
        "plt.show()"
      ],
      "execution_count": null,
      "outputs": [
        {
          "output_type": "display_data",
          "data": {
            "image/png": "[encoded data removed]",
            "text/plain": [
              "<Figure size 432x288 with 1 Axes>"
            ]
          },
          "metadata": {
            "tags": [],
            "needs_background": "light"
          }
        }
      ]
    },
    {
      "cell_type": "markdown",
      "metadata": {
        "id": "Oa1mF9x9EgpR"
      },
      "source": [
        "** **\n",
        "#### Step 7: Final Model\n",
        "** **\n",
        "\n",
        "Based on external evaluation (Code to be added from Excel based analysis), let's train the final model with parameters yielding highest coherence score"
      ]
    },
    {
      "cell_type": "code",
      "metadata": {
        "id": "iiKb3AKVEgpS"
      },
      "source": [
        "num_topics = 11\n",
        "\n",
        "lda_model = gensim.models.LdaMulticore(corpus=corpus,\n",
        "                                           id2word=id2word,\n",
        "                                           num_topics=num_topics, \n",
        "                                           random_state=100,\n",
        "                                           chunksize=100,\n",
        "                                           passes=10,\n",
        "                                           alpha=0.01,\n",
        "                                           eta=0.9)"
      ],
      "execution_count": null,
      "outputs": []
    },
    {
      "cell_type": "code",
      "metadata": {
        "id": "I99Y9UMWEgpT",
        "colab": {
          "base_uri": "https://localhost:8080/"
        },
        "outputId": "f9b4ade4-824a-411b-b3c8-e304370e5d31"
      },
      "source": [
        "from pprint import pprint\n",
        "\n",
        "# Print the Keyword in the 10 topics\n",
        "pprint(lda_model.print_topics())\n",
        "doc_lda = lda_model[corpus]"
      ],
      "execution_count": null,
      "outputs": [
        {
          "output_type": "stream",
          "text": [
            "[(0,\n",
            "  '0.008*\"see\" + 0.008*\"share\" + 0.007*\"post\" + 0.005*\"picture\" + 0.005*\"film\" '\n",
            "  '+ 0.005*\"also\" + 0.004*\"look\" + 0.004*\"actor\" + 0.004*\"write\" + '\n",
            "  '0.004*\"actress\"'),\n",
            " (1,\n",
            "  '0.006*\"case\" + 0.006*\"say\" + 0.004*\"year\" + 0.003*\"patient\" + 0.003*\"get\" + '\n",
            "  '0.003*\"military\" + 0.002*\"officer\" + 0.002*\"district\" + 0.002*\"report\" + '\n",
            "  '0.002*\"also\"'),\n",
            " (2,\n",
            "  '0.009*\"say\" + 0.003*\"also\" + 0.003*\"state\" + 0.002*\"take\" + 0.002*\"video\" + '\n",
            "  '0.002*\"year\" + 0.002*\"go\" + 0.002*\"government\" + 0.002*\"come\" + '\n",
            "  '0.002*\"would\"'),\n",
            " (3,\n",
            "  '0.008*\"say\" + 0.005*\"goal\" + 0.004*\"score\" + 0.004*\"second\" + 0.003*\"last\" '\n",
            "  '+ 0.003*\"play\" + 0.003*\"take\" + 0.002*\"make\" + 0.002*\"go\" + 0.002*\"give\"'),\n",
            " (4,\n",
            "  '0.004*\"farmer\" + 0.003*\"village\" + 0.002*\"protest\" + 0.002*\"movement\" + '\n",
            "  '0.001*\"say\" + 0.001*\"land\" + 0.001*\"give\" + 0.001*\"start\" + 0.001*\"kill\" + '\n",
            "  '0.001*\"even\"'),\n",
            " (5,\n",
            "  '0.009*\"say\" + 0.006*\"police\" + 0.003*\"stage\" + 0.002*\"kill\" + '\n",
            "  '0.002*\"people\" + 0.002*\"leader\" + 0.002*\"government\" + 0.002*\"state\" + '\n",
            "  '0.002*\"person\" + 0.002*\"include\"'),\n",
            " (6,\n",
            "  '0.006*\"football\" + 0.006*\"team\" + 0.005*\"chinese\" + 0.004*\"make\" + '\n",
            "  '0.003*\"place\" + 0.003*\"culture\" + 0.003*\"sport\" + 0.002*\"get\" + '\n",
            "  '0.002*\"race\" + 0.002*\"way\"'),\n",
            " (7,\n",
            "  '0.007*\"say\" + 0.006*\"run\" + 0.006*\"take\" + 0.006*\"ball\" + 0.004*\"wicket\" + '\n",
            "  '0.004*\"get\" + 0.004*\"go\" + 0.003*\"come\" + 0.003*\"over\" + 0.003*\"first\"'),\n",
            " (8,\n",
            "  '0.008*\"say\" + 0.006*\"case\" + 0.005*\"state\" + 0.004*\"year\" + 0.004*\"covid\" + '\n",
            "  '0.003*\"last\" + 0.003*\"take\" + 0.003*\"number\" + 0.003*\"also\" + '\n",
            "  '0.003*\"people\"'),\n",
            " (9,\n",
            "  '0.004*\"oil\" + 0.003*\"price\" + 0.003*\"say\" + 0.002*\"export\" + 0.002*\"market\" '\n",
            "  '+ 0.002*\"cotton\" + 0.002*\"murban\" + 0.002*\"indian\" + 0.002*\"future\" + '\n",
            "  '0.002*\"also\"'),\n",
            " (10,\n",
            "  '0.007*\"say\" + 0.004*\"police\" + 0.003*\"tell\" + 0.003*\"see\" + 0.002*\"get\" + '\n",
            "  '0.002*\"play\" + 0.002*\"work\" + 0.002*\"make\" + 0.002*\"start\" + '\n",
            "  '0.002*\"injury\"')]\n"
          ],
          "name": "stdout"
        }
      ]
    },
    {
      "cell_type": "markdown",
      "metadata": {
        "id": "dzbVU99OEgpU"
      },
      "source": [
        "** **\n",
        "#### Step 8: Visualize Results\n",
        "** **"
      ]
    },
    {
      "cell_type": "code",
      "metadata": {
        "id": "bMfO8YbZrr5J"
      },
      "source": [
        "!pip install pyLDAvis==2.1.2"
      ],
      "execution_count": null,
      "outputs": []
    },
    {
      "cell_type": "code",
      "metadata": {
        "id": "9UQAxwNkr8mw",
        "colab": {
          "base_uri": "https://localhost:8080/",
          "height": 861
        },
        "outputId": "262a64ab-af9b-4912-fa56-edd550a465b2"
      },
      "source": [
        "import pyLDAvis.gensim\n",
        "import pickle \n",
        "import pyLDAvis\n",
        "# Visualize the topics\n",
        "pyLDAvis.enable_notebook()\n",
        "LDAvis_prepared = pyLDAvis.gensim.prepare(lda_model, corpus, id2word)\n",
        "LDAvis_prepared"
      ],
      "execution_count": null,
      "outputs": [
        {
          "output_type": "execute_result",
          "data": {
            "text/html": [
              "\n",
              "<link rel=\"stylesheet\" type=\"text/css\" href=\"https://cdn.rawgit.com/bmabey/pyLDAvis/files/ldavis.v1.0.0.css\">\n",
              "\n",
              "\n",
              "<div id=\"ldavis_el581402888856743208925575945\"></div>\n",
              "<script type=\"text/javascript\">\n",
              "\n",
              "var ldavis_el581402888856743208925575945_data = {\"mdsDat\": {\"x\": [-0.029085911937256705, -0.045132452377650706, -0.012702684041576304, 0.040411005959125994, 0.0030033588328001776, 0.004748015982177665, 0.00744621546828183, 0.003931434766844117, -0.0037476082378956684, 0.015146122612812788, 0.015982502972336828], \"y\": [-0.04122551543910993, 0.00926812331755862, 0.021878737696815746, -0.02093782728955794, 0.021637459757963575, 0.003741813097950147, -0.0031612387039687824, 0.0038312783059572795, -0.009883700226726707, 0.006480214732311454, 0.008370654750806563], \"topics\": [1, 2, 3, 4, 5, 6, 7, 8, 9, 10, 11], \"cluster\": [1, 1, 1, 1, 1, 1, 1, 1, 1, 1, 1], \"Freq\": [17.792583719049922, 17.125357212114462, 13.785167156452024, 11.584883120688495, 7.322462697164873, 7.212435322110701, 6.922086761709421, 6.839124766196335, 6.742401878406355, 3.348377723926725, 1.325119642180683]}, \"tinfo\": {\"Term\": [\"share\", \"post\", \"police\", \"see\", \"football\", \"case\", \"say\", \"ball\", \"picture\", \"goal\", \"team\", \"film\", \"chinese\", \"wicket\", \"patient\", \"farmer\", \"run\", \"score\", \"actress\", \"village\", \"actor\", \"oil\", \"covid\", \"military\", \"price\", \"write\", \"tell\", \"over\", \"kill\", \"bowl\", \"student\", \"mayor\", \"restriction\", \"ambulance\", \"sector\", \"fence\", \"councillor\", \"impact\", \"euro\", \"soccer\", \"positive\", \"number\", \"growth\", \"service\", \"loss\", \"debt\", \"milk\", \"cow\", \"medicine\", \"city\", \"lockdown\", \"rise\", \"club\", \"level\", \"activity\", \"wave\", \"index\", \"previous\", \"concern\", \"indicator\", \"case\", \"covid\", \"total\", \"family\", \"state\", \"could\", \"due\", \"official\", \"business\", \"test\", \"year\", \"say\", \"high\", \"people\", \"campaign\", \"last\", \"government\", \"month\", \"report\", \"would\", \"take\", \"also\", \"day\", \"first\", \"week\", \"go\", \"make\", \"wicket\", \"bowl\", \"over\", \"ball\", \"spinner\", \"yuvraj\", \"run\", \"property\", \"bowler\", \"smash\", \"stoke\", \"batsman\", \"inning\", \"concede\", \"little\", \"shardul\", \"bit\", \"kuldeep\", \"fine\", \"request\", \"slow\", \"oxygen\", \"shortage\", \"soil\", \"big\", \"six\", \"legend\", \"boundary\", \"shelf\", \"vaccine\", \"match\", \"vaccination\", \"take\", \"stop\", \"covid\", \"first\", \"come\", \"go\", \"get\", \"game\", \"say\", \"patient\", \"play\", \"next\", \"last\", \"former\", \"also\", \"test\", \"high\", \"well\", \"new\", \"report\", \"second\", \"day\", \"year\", \"goal\", \"score\", \"minute\", \"goalkeeper\", \"trailer\", \"draw\", \"visit\", \"must\", \"twice\", \"penalty\", \"pagglait\", \"defend\", \"saint\", \"pilot\", \"beat\", \"leave\", \"leg\", \"vote\", \"title\", \"son\", \"field\", \"message\", \"attack\", \"talk\", \"lead\", \"kick\", \"point\", \"side\", \"dialogue\", \"delegation\", \"public\", \"second\", \"face\", \"play\", \"hold\", \"win\", \"give\", \"say\", \"last\", \"team\", \"time\", \"game\", \"go\", \"make\", \"take\", \"come\", \"include\", \"government\", \"police\", \"get\", \"first\", \"state\", \"share\", \"picture\", \"actress\", \"caption\", \"instagram\", \"post_share\", \"post\", \"terminal\", \"post_shared\", \"actor\", \"feature\", \"hair\", \"degree\", \"comment\", \"heart\", \"collapse\", \"photo\", \"film\", \"see\", \"temperature\", \"throwback\", \"pair\", \"love\", \"write\", \"reality\", \"dress\", \"badhaai\", \"colour\", \"route\", \"user\", \"role\", \"courtesy\", \"look\", \"video\", \"fan\", \"also\", \"release\", \"work\", \"make\", \"last\", \"year\", \"say\", \"late\", \"play\", \"chinese\", \"football\", \"race\", \"culture\", \"overtake\", \"educational\", \"ranking\", \"batter\", \"individual\", \"team\", \"way\", \"league\", \"soft\", \"sport\", \"skill\", \"decade\", \"system\", \"sixth\", \"racer\", \"basketball\", \"intervention\", \"assessment\", \"engage\", \"example\", \"stall\", \"qualify\", \"strategic\", \"strategy\", \"place\", \"successful\", \"national\", \"fire\", \"different\", \"player\", \"need\", \"top\", \"make\", \"great\", \"move\", \"good\", \"know\", \"get\", \"second\", \"look\", \"play\", \"people\", \"year\", \"take\", \"go\", \"put\", \"bring\", \"say\", \"match\", \"stage\", \"protester\", \"kill\", \"aid\", \"assailant\", \"agitation\", \"arrest\", \"violence\", \"inquiry\", \"armed\", \"sidhu\", \"police\", \"military\", \"fir\", \"attempt\", \"offer\", \"security\", \"village\", \"person\", \"lawyer\", \"tradition\", \"union\", \"ruldu\", \"coup\", \"ethnic\", \"crackdown\", \"incident\", \"custody\", \"clothe\", \"associate\", \"legal\", \"seek\", \"member\", \"say\", \"leader\", \"farm\", \"force\", \"child\", \"accuse\", \"include\", \"people\", \"government\", \"fire\", \"state\", \"take\", \"case\", \"also\", \"ask\", \"country\", \"tell\", \"add\", \"andrade\", \"streaming\", \"peacock\", \"wrestling\", \"content\", \"sawant\", \"beef\", \"wrestlemania\", \"immunity\", \"sit\", \"network\", \"segment\", \"tenure\", \"budget\", \"mining\", \"flair\", \"donation\", \"fiance\", \"viewer\", \"racist\", \"american\", \"riteish\", \"central\", \"story\", \"reservation\", \"constitutional\", \"educationally\", \"sebcs\", \"socially\", \"backward\", \"complaint\", \"video\", \"definitely\", \"thank\", \"submit\", \"provide\", \"say\", \"file\", \"service\", \"also\", \"decision\", \"state\", \"watch\", \"tell\", \"would\", \"know\", \"year\", \"government\", \"take\", \"show\", \"work\", \"go\", \"come\", \"vaccine\", \"woman\", \"get\", \"add\", \"write\", \"people\", \"film\", \"last\", \"report\", \"end\", \"sutirtha\", \"rubber\", \"accident\", \"caste\", \"labourer\", \"civil\", \"injury\", \"bus\", \"table\", \"attendee\", \"pimple\", \"tell\", \"mob\", \"aggressive\", \"teaser\", \"injure\", \"murder\", \"examination\", \"ban\", \"assault\", \"rank\", \"reservation\", \"police\", \"friend\", \"sustain\", \"decease\", \"treat\", \"mud\", \"stair\", \"bloodstain\", \"escape\", \"trailer\", \"border\", \"remember\", \"man\", \"fitness\", \"accuse\", \"statement\", \"vehicle\", \"win\", \"say\", \"work\", \"start\", \"see\", \"play\", \"add\", \"get\", \"want\", \"film\", \"time\", \"make\", \"day\", \"ask\", \"hospital\", \"go\", \"people\", \"take\", \"also\", \"first\", \"join\", \"cadet\", \"military\", \"acquisition\", \"strain\", \"disability\", \"trainee\", \"nun\", \"disabled\", \"trace\", \"confirm\", \"variant\", \"training\", \"conglomerate\", \"violation\", \"urban\", \"worst\", \"quarantine\", \"maximum\", \"patient\", \"civilian\", \"train\", \"testing\", \"sanction\", \"status\", \"complaint\", \"sample\", \"human\", \"grant\", \"officer\", \"r\", \"case\", \"district\", \"group\", \"year\", \"get\", \"positive\", \"say\", \"remain\", \"report\", \"player\", \"government\", \"test\", \"follow\", \"month\", \"make\", \"also\", \"official\", \"state\", \"covid\", \"day\", \"new\", \"start\", \"number\", \"issue\", \"oil\", \"export\", \"cotton\", \"murban\", \"crude\", \"market\", \"price\", \"benchmark\", \"barrel\", \"trader\", \"exchange\", \"sugar\", \"future\", \"sell\", \"trading\", \"trade\", \"energy\", \"import\", \"stock\", \"manufacturer\", \"ginner\", \"bale\", \"gin\", \"weigh\", \"grower\", \"pressed\", \"access\", \"cavern\", \"port\", \"platt\", \"allow\", \"indian\", \"supply\", \"season\", \"producer\", \"demand\", \"aim\", \"produce\", \"country\", \"well\", \"global\", \"say\", \"good\", \"also\", \"day\", \"year\", \"could\", \"watch\", \"make\", \"farmer\", \"village\", \"movement\", \"protest\", \"ownership\", \"british\", \"land\", \"remember\", \"contribution\", \"compensation\", \"tikri\", \"pepsu\", \"lehar\", \"jagridar\", \"hence\", \"border\", \"struggle\", \"remind\", \"use\", \"sacrifice\", \"grandson\", \"raghbir\", \"evoke\", \"tenant\", \"entrance\", \"oppress\", \"cultivate\", \"shed\", \"foodgrain\", \"britsher\", \"kill\", \"even\", \"right\", \"law\", \"finally\", \"site\", \"pay\", \"name\", \"farm\", \"rule\", \"give\", \"start\", \"many\", \"well\", \"say\", \"take\", \"get\", \"day\", \"also\", \"go\", \"government\", \"time\"], \"Freq\": [21.0, 22.0, 23.0, 35.0, 13.0, 40.0, 118.0, 24.0, 15.0, 15.0, 23.0, 21.0, 10.0, 16.0, 16.0, 5.0, 31.0, 15.0, 10.0, 5.0, 13.0, 4.0, 26.0, 8.0, 7.0, 16.0, 16.0, 13.0, 8.0, 12.0, 6.4177972425329495, 4.124566730373064, 5.490376875959776, 3.6637167313435897, 5.218370912448634, 3.1992557088516995, 3.200185465717648, 5.0177213861747845, 3.1837534832732426, 3.6506044306069954, 6.895928650494528, 9.689608578957516, 3.6071395462805182, 7.316147236721201, 3.640668831192047, 2.7221985755657405, 2.7200062096445463, 2.7191196928147368, 3.648921720578421, 5.518760020037002, 6.691894102013813, 6.878806364895413, 3.6486738110378933, 5.0302579218079515, 3.1816291483422403, 2.7065702812596975, 2.704453056912415, 2.7247975900045756, 3.6466282690616323, 2.715159866394137, 19.630842651059535, 11.854873567279265, 6.873606798594237, 6.5461240608952656, 16.50581567091236, 7.99440314082894, 6.905183940007563, 7.839719118215943, 4.0829940300280105, 6.906952745752538, 13.685144735357868, 26.350156701323346, 7.796565946505541, 9.301941860647702, 5.025815920939922, 11.509938766638895, 8.47236812269587, 7.826774780997505, 7.357357873830321, 7.506155870546198, 11.121438764788207, 9.302097909133678, 7.068609752682207, 6.895056931365975, 5.9542456060455375, 6.909597882896588, 6.901494892302161, 13.968139837449865, 9.879595273522506, 10.345171523192082, 18.890416260762795, 8.011344560082541, 6.280005841175967, 19.80549402156142, 4.040482013148405, 4.021223550041001, 4.01398895584744, 3.568591586055239, 3.5672113308427122, 3.563689108950869, 3.3312979323452523, 3.5771217186444764, 3.092574636108112, 4.031240851205515, 3.5797205642268946, 5.122855510335159, 4.001453826493042, 3.1190434621798024, 3.584498740674227, 3.5746209078064486, 2.6737570751171, 7.628036108365719, 2.6706153390162197, 2.6681422738605662, 2.666871521607811, 2.655749202399926, 7.576387705596676, 9.472898321391217, 3.9981776163182525, 19.055709498768344, 3.5815995018373004, 9.376103624032002, 10.129879825662698, 10.346822206322154, 11.253730898344843, 11.26117192041527, 7.205137157497409, 22.42614105136198, 6.248757543858432, 8.584177479078706, 5.815650031588439, 9.691142159525256, 5.859462683712473, 9.71957297528326, 5.812969058786193, 6.2914400218537425, 5.8341745289114275, 6.242247296946064, 6.257999445686186, 6.369045805282705, 6.262517922546492, 6.4097372531108165, 13.198193403557383, 9.591366114565224, 5.57055218382351, 3.5642028716818683, 4.774024372806815, 3.565687938220404, 4.77123440120073, 2.7692399342685428, 2.368794288235915, 1.9684177289161289, 1.966212165387421, 1.965887130270755, 1.9639366217832053, 1.9600667236076401, 3.8464542546951983, 5.174746663478364, 3.5719042534383587, 3.574319310512256, 2.3661768845181563, 3.1727355204430765, 3.161407979625076, 2.365602452323884, 2.76784241727128, 3.980425897972108, 5.550712981310909, 1.9684771375334214, 5.572777252437094, 4.462371233303449, 1.5687262298674278, 1.5679101430719882, 3.5581003113100578, 9.589391783073246, 4.378385613492664, 8.502820382082348, 4.366027429945594, 5.020275920466194, 6.130170638367302, 20.56641163427114, 8.78128986314272, 5.997843377971041, 5.904308306835257, 4.776915592181719, 6.228309505108813, 6.304912971422443, 7.391573113104835, 5.455071361008572, 4.374185320024438, 4.600885327949684, 4.400278656774523, 4.578374971065584, 4.389762884832409, 4.488633415597418, 16.930373837201266, 11.68936845666104, 7.6035376909483, 5.919841398511373, 6.048001491245781, 5.38091353599763, 15.172577960495792, 4.704248246896184, 3.952160014722529, 7.93660417829299, 6.58619009470014, 3.6238146249253274, 4.3342788682526505, 3.6009091059045724, 3.864595354729487, 2.868531362145323, 4.022052779496069, 11.217931392620237, 18.134404116243743, 3.603781555289681, 2.5031021452673095, 2.4965744427266947, 3.8838931694171066, 7.860915962843344, 2.148085619974555, 2.147271283827217, 2.1473110746838326, 2.1451931500326586, 2.146507499585768, 2.138568347791624, 4.7587176752344345, 2.4669202442697817, 8.181892035943969, 5.257789614323156, 3.5426440302563424, 10.477769406124986, 4.784407553190433, 4.638441677763004, 6.006843731115642, 6.091130775705585, 5.318081521089176, 6.214501951256387, 3.9766962080936383, 3.9266963690582317, 6.529898485731963, 8.509002831770694, 3.12500578137676, 3.6471523925954723, 2.0728056133758597, 1.5485422368875685, 1.4943154307733046, 1.4576013693949628, 1.8106680724703053, 7.8347452341736155, 2.916066718157915, 1.9640588935367707, 1.2858616639112876, 3.6458512036022315, 1.6130295493518907, 1.5483547935424447, 1.2863164315207658, 1.0244814099380382, 1.0243861064650954, 1.024310100956798, 1.0230706812684272, 1.0263804403852004, 1.0827329489411943, 1.0240769435806691, 1.025728264088199, 1.2888874898597082, 1.0240642891776228, 1.023588879073175, 3.7215428827038313, 1.0250533889557332, 1.5499272613009918, 2.8733669659586107, 2.340730961874739, 2.751845784424268, 2.3474814531798156, 2.2720275186754493, 4.790459358948923, 1.8676529057285216, 2.008713592826698, 2.4675176405166694, 2.33939339147274, 3.1968559000735635, 2.574432477334761, 2.35394959311692, 2.389892368629587, 2.340615015906827, 2.5563471208609916, 2.373813209578778, 2.126833587182258, 1.8149354535376112, 1.8294530592525, 2.25308640819567, 1.8788044402330808, 4.104235826616697, 2.29183488370814, 3.3260859738662942, 1.7854862476148046, 1.5291402433425658, 1.522875707322634, 2.8135706461775323, 2.0401302574709637, 1.5274452600715542, 1.5236911813956624, 1.26494136708603, 7.4809447607260315, 2.549452553892503, 1.5280114489866068, 1.527347727253496, 1.785610578587345, 1.5256533671953794, 1.5267859008287081, 2.8231855747206587, 1.2692377188821313, 1.00923563616173, 1.0070717630888881, 1.0063998616865315, 1.0060702599667204, 1.005377714637219, 1.0048898168420932, 2.3070797617409267, 1.0107773090605865, 1.0087515555455857, 1.0112518077784711, 1.5248187293258317, 1.785941348831334, 2.045091499524353, 11.877282340839553, 3.076135224518701, 1.521940732177001, 2.041702467801672, 1.779092862328844, 2.044078466963629, 2.817186527393971, 3.301599627617674, 2.8304369683597272, 2.0502942365745316, 2.829467872308096, 2.576684620353003, 2.311097926881049, 2.3148970326886, 1.7940345472882422, 1.7792313713947443, 1.7769825076633552, 1.7928590119651626, 1.4787012967146231, 1.473864862614185, 1.4737941344009304, 1.4731070389677277, 1.4724863353456983, 1.2294694281915681, 1.2285078684128496, 1.2258686443875983, 1.2249515701129883, 1.4797149680838684, 1.2230523007669978, 1.2241488123691038, 0.9804385294753083, 0.9788125282259834, 0.9784105886123927, 0.9776250269457266, 0.9767428681844251, 0.9764344602777917, 0.9745004997151521, 0.9743299594884779, 0.9656851176430468, 0.9501273032247319, 0.9806777792453027, 1.9276959569434036, 0.9806848072072963, 0.7289541991333085, 0.7289424609414682, 0.7289408160992994, 0.72894059180264, 0.7289253396298029, 1.729013826542522, 2.8021273992673534, 0.9787082302793765, 1.22833097311416, 0.9764168156072546, 1.4809400764373464, 11.538618055965822, 1.7290358076151402, 1.9797936410774413, 4.109539467996611, 1.4828896630005886, 3.2569415110890367, 1.4719839108287098, 1.9833240704959219, 2.23069577205727, 1.9502854716329618, 2.7444391956640763, 2.2441670294190206, 3.0016578196339716, 1.783998208682649, 1.9847651017668198, 2.430361817137254, 2.2416508694942103, 1.731388380509717, 1.72586111269842, 1.9117261843273794, 1.7310917107949237, 1.6362460740071259, 1.7075655332558373, 1.5856097573744357, 1.5348110499603616, 1.4885887420529629, 1.4844524125919711, 2.1915756731095444, 1.452713933255801, 1.7086722706202706, 1.2142566791009668, 1.210748986867716, 1.208173379726582, 2.6887799113488113, 2.462218376561483, 1.69981783159256, 0.9623668510579829, 0.9610025556414112, 4.427462101225932, 1.2124682990026832, 0.9617677695793757, 0.9078559767156871, 2.203282655956971, 1.4594135995669921, 0.9627310275918342, 0.9606009272814621, 0.9654106429600804, 1.2082384587380064, 0.9663398471424972, 5.179525203497044, 1.2693656007491572, 0.9623545887243887, 0.7183333376359353, 0.9657693531524499, 0.7167854765628483, 0.7162944661327246, 0.7160931718011335, 0.9624587446904598, 1.9016249651103365, 0.9680388451706065, 0.9627300672886009, 2.2093683191546996, 1.4532927744970299, 1.9638947202301305, 1.4688013762365701, 1.4646349898547693, 2.4481296939565653, 8.741464227700975, 2.7167028700713076, 2.7095449175094037, 3.2526894714729093, 2.89984422029644, 2.4477449817074177, 3.129886780434926, 1.9632640226143045, 2.281162214003197, 2.443644339162357, 2.715848938888484, 2.3517049076082115, 1.9592211460021993, 1.704991797674509, 2.404710100350205, 2.2587234731764787, 2.469513578616266, 2.328133895399977, 1.96919293477657, 1.7054375261137096, 1.9410358489435144, 3.179269805326383, 1.678634204933908, 1.451366873265258, 1.4500484535520843, 1.4500828268455344, 1.4312456794367643, 1.696114772447793, 1.211004190689466, 1.7009341703586642, 1.2048738740171696, 1.4515677239926628, 0.9602552388089433, 0.9601709805451263, 0.9605776340845852, 0.9602588800476562, 1.2139620417207442, 1.4534014518084888, 4.194827886408044, 0.9597515826701724, 1.9389651493122515, 1.2166191992591098, 0.9604783010924967, 1.2139466756933757, 1.9335012521491937, 1.7062907238044651, 0.9621778128493645, 0.9603314135228176, 2.6857552446186386, 1.4529165844614764, 7.16255250058042, 2.683569336194499, 1.7027102209532776, 4.445365792092766, 3.673059643680824, 1.9546872898268934, 6.903949979394325, 1.9618360609671932, 2.467688157981147, 1.9570125848689637, 2.45220415447833, 1.9671898470715725, 1.9556638700496984, 2.2026284097111097, 2.457077297072604, 2.4665978254609504, 1.9493377275594213, 2.2234411475959615, 1.986053065749527, 1.979371829659966, 1.7242997078803688, 1.7180332817049837, 1.706223870661696, 1.7041119522082029, 2.1900002971235013, 1.5069422478378498, 1.231178476790745, 1.2259056371313228, 0.9509636993884285, 1.5041913268533627, 1.7815929779691657, 0.9518844825219088, 0.9515927685881047, 0.8137433600187497, 0.8133633290224177, 0.6780619508884993, 1.0887422228461725, 0.6755658546470799, 0.5380532226896245, 0.5378228822427613, 0.5379218320720309, 0.5395391337588378, 0.4014776846744947, 0.4014312476932147, 0.40139645612312796, 0.40136904239118854, 0.40135381655854147, 0.4012713945333568, 0.40122412573699157, 0.4012002200947594, 0.4005393249266047, 0.4001842845487031, 0.400159185432653, 0.4001242130331999, 0.9545520050026329, 1.1774429329576717, 0.6752735620593034, 0.9082737195745517, 0.6757827775549594, 0.6767405222109227, 0.5381021551161602, 0.5402331207010355, 0.9560969387770246, 0.9199845186666954, 0.5379953934582642, 1.6249879475214577, 0.7447707721178612, 0.9970150801276074, 0.8118408180894542, 0.7855624052437421, 0.6630500755476697, 0.5638057475721027, 0.566472365905995, 0.8982982012590369, 0.7170715564493138, 0.41574378208016965, 0.4162142097756281, 0.23514997043810795, 0.2953529075327098, 0.355712925799201, 0.29543199915511165, 0.23515248946191228, 0.1749656970198745, 0.17496207592315577, 0.17494849323230174, 0.1749500246842737, 0.1749366996208542, 0.2350942227238019, 0.23577620548091827, 0.29555892360452524, 0.17505236002632457, 0.2955606983712965, 0.1147625094541557, 0.11475962545815245, 0.1147502005878391, 0.1147502005878391, 0.11474468306694949, 0.11474338061714157, 0.11474172035145236, 0.11474250039007358, 0.1147410405012779, 0.11473788456520485, 0.11473590942154009, 0.29603401721907585, 0.2959441624949646, 0.2958193849408388, 0.17515745770697905, 0.1750474078545274, 0.17611076509056514, 0.17514954281968476, 0.17506982144133185, 0.17575183282371873, 0.17557229512711925, 0.2976988343263029, 0.29669981238572235, 0.23576817609254197, 0.2363747598871515, 0.3662980642018857, 0.17816316836041282, 0.17744377237474807, 0.177429731679566, 0.17734650370557636, 0.17719891181085906, 0.17713888461861274, 0.17679624013068296], \"Total\": [21.0, 22.0, 23.0, 35.0, 13.0, 40.0, 118.0, 24.0, 15.0, 15.0, 23.0, 21.0, 10.0, 16.0, 16.0, 5.0, 31.0, 15.0, 10.0, 5.0, 13.0, 4.0, 26.0, 8.0, 7.0, 16.0, 16.0, 13.0, 8.0, 12.0, 9.124425617802004, 6.56471483827934, 8.993846737364908, 6.099040856263982, 8.833675272077516, 5.632154618973731, 5.634471238598194, 8.849645904292167, 5.628786269493563, 6.4970409518194785, 12.33204776955834, 17.329373659647292, 6.48721269070019, 13.211120481402483, 6.60764842313751, 5.1628072003947025, 5.161737439003384, 5.161403803037262, 6.997108066659587, 10.621761477515253, 12.896135577121877, 13.400749160557295, 7.133368998777575, 9.972097503559812, 6.3958415085271385, 5.526517448821378, 5.525393795511566, 5.5675765939057165, 7.502592313514009, 5.614515243518294, 40.9299418030625, 26.3818831661647, 14.87259255660011, 14.25432487102691, 39.08322065643552, 18.603722223264455, 15.984861103449747, 18.812575352857287, 8.587746317852092, 16.88395749591186, 41.62190198943804, 118.86289836203255, 20.84384943198348, 28.787895785094946, 11.271389665696944, 41.97667717121985, 26.048330957834946, 24.069350751851232, 21.770614030271766, 22.662961648578253, 53.53111861100636, 47.250631773935424, 26.31625859063779, 29.654432161199583, 15.690480333920963, 35.32853110271571, 36.934385438418325, 16.467166491886303, 12.374343675673556, 13.097288041071154, 24.653309329993817, 10.528483413064786, 9.210585284432259, 31.345121896774497, 6.486301452060064, 6.474840613679854, 6.472991959541258, 6.020172908889821, 6.0208860912038284, 6.019050691954534, 5.921172023812106, 6.425806335997746, 5.556940151285052, 7.283375092764396, 6.54536281384316, 9.37442672023105, 7.425278279658498, 5.830477849733948, 6.740492192963494, 6.740321307415108, 5.114661220218, 14.596021891896577, 5.114475058427211, 5.114196684881865, 5.112779452526304, 5.108530694681008, 14.665727784715859, 19.128176540270264, 8.176138393394154, 53.53111861100636, 7.285615245319338, 26.3818831661647, 29.654432161199583, 30.980956132795914, 35.32853110271571, 35.90600130024374, 18.991830440521085, 118.86289836203255, 16.668467274760417, 29.45189274334148, 15.384497756709319, 41.97667717121985, 16.257393633940044, 47.250631773935424, 16.88395749591186, 20.84384943198348, 17.498883462050806, 21.316628807789115, 21.770614030271766, 26.675817090278933, 26.31625859063779, 41.62190198943804, 15.98714148902998, 15.190779495333555, 9.026243279646152, 6.061516739528112, 9.032620027954424, 7.143704465960661, 9.959289543030797, 6.130857114261224, 5.319581466918536, 4.453540993538497, 4.451963017208754, 4.453603430826196, 4.452090468568977, 4.452818251351875, 8.76280626471655, 12.009384174754445, 8.33074155203248, 8.376880215004286, 5.575980047460319, 7.6558675707866986, 7.63922520261423, 5.7188582296588875, 6.75733800999078, 9.890270371573441, 13.80530462073467, 4.9691311347103575, 14.071844536298503, 11.301524200827295, 4.051452938762731, 4.050716067769455, 9.231246322172524, 26.675817090278933, 12.18090178395468, 29.45189274334148, 13.122639372291276, 16.111148178378794, 21.575549223206444, 118.86289836203255, 41.97667717121985, 23.751308304653357, 26.41734770255009, 18.991830440521085, 35.32853110271571, 36.934385438418325, 53.53111861100636, 30.980956132795914, 19.54549721196038, 26.048330957834946, 23.357758436131004, 35.90600130024374, 29.654432161199583, 39.08322065643552, 21.91044803064685, 15.293922364482327, 10.64049521537129, 8.611853296911491, 8.893465422847237, 7.9282902956579555, 22.386987518859694, 7.22892728271563, 6.49016880500274, 13.657845822891602, 11.593174553788744, 6.385825956962487, 7.663008891119143, 6.650220280602658, 7.224053483535345, 5.38932716066302, 7.632960331351912, 21.676530132476344, 35.500592367273846, 7.187691193249666, 5.033442171553808, 5.028527919875333, 7.873752847945422, 16.439846979023336, 4.668226134410664, 4.668098705825715, 4.669619269878778, 4.665535474363552, 4.670804012598645, 4.672961681740084, 11.224772187246511, 5.4949624259964045, 23.479153225578017, 14.958800653602689, 9.621897915929567, 47.250631773935424, 16.349539736462653, 20.305458193375223, 36.934385438418325, 41.97667717121985, 41.62190198943804, 118.86289836203255, 16.229095454662783, 29.45189274334148, 10.076146082558314, 13.54541014167085, 6.140533674124731, 7.729470437125037, 5.145259625300779, 4.161957211177328, 4.2055928508354015, 4.232198830240314, 5.375169714567659, 23.751308304653357, 9.283115668908215, 6.543006226736631, 4.2999647626281785, 12.430227810086999, 5.511318924636992, 5.332209092982231, 4.5485888767591565, 3.6331393908630267, 3.6334145637047475, 3.6345491764517717, 3.6344070623034845, 3.7750531858844028, 4.0794638563153365, 3.8951437874004866, 4.037945525481339, 5.107271843075863, 4.08868536048324, 4.087264957897269, 15.0876135080901, 4.286053526695876, 6.839440752378843, 13.806526897095335, 11.18875888382162, 13.952403143050157, 11.707453152243454, 11.811664697790702, 36.934385438418325, 9.186500493425024, 11.347592191398011, 16.090853328595202, 16.847989864597007, 35.90600130024374, 26.675817090278933, 23.479153225578017, 29.45189274334148, 28.787895785094946, 41.62190198943804, 53.53111861100636, 35.32853110271571, 12.44228434190238, 13.219870464657058, 118.86289836203255, 19.128176540270264, 9.074074840603608, 5.175211857200833, 8.02428048815246, 4.653234842201799, 4.14520576630701, 4.144891157568693, 8.001398362345007, 5.874286221981413, 4.508121656170504, 4.611120194075303, 3.8843722608230555, 23.357758436131004, 8.149352218395657, 4.897589113307535, 4.904119337972267, 5.938971225533119, 5.207098480231095, 5.319672061585442, 9.978419516403461, 4.539262321415105, 3.62424509423269, 3.624076805436741, 3.6240550851137354, 3.6246176176490796, 3.6249914989602057, 3.624443520539532, 8.561322628334667, 3.872955311001085, 3.8881508885825458, 4.088435582296127, 6.430146109071342, 7.784580826975553, 9.434372431604913, 118.86289836203255, 17.94078573476596, 6.558503063934364, 10.339452770348363, 8.51067042086525, 10.990404374572037, 19.54549721196038, 28.787895785094946, 26.048330957834946, 13.806526897095335, 39.08322065643552, 53.53111861100636, 40.9299418030625, 47.250631773935424, 16.863283582021975, 16.6669078480422, 16.82244409264953, 22.119796809856474, 4.101673960572106, 4.100923430308666, 4.101316716018906, 4.100979540253155, 4.361140644834706, 3.850519932069315, 3.8511108990050635, 3.850092618779613, 3.852375794744012, 5.0145190579381715, 4.214064801923213, 4.313062176235656, 3.5975715063867386, 3.598602266191666, 3.598916897962841, 3.5984343302986606, 3.5987051411872217, 3.599169799563714, 3.5980159373524407, 3.5980581341410685, 3.60421273386599, 3.610212302269392, 4.061094257318879, 8.399043090350185, 4.341449614520642, 3.3461749738905806, 3.34617477842546, 3.3461748085530996, 3.346174711699795, 3.346174370399487, 8.419527281058338, 14.958800653602689, 4.6557896415755815, 6.040344627535125, 4.790047735325323, 8.02243438267016, 118.86289836203255, 9.927601977325146, 13.211120481402483, 47.250631773935424, 8.3815677473283, 39.08322065643552, 8.527380651019389, 16.82244409264953, 22.662961648578253, 16.847989864597007, 41.62190198943804, 26.048330957834946, 53.53111861100636, 15.387428457273932, 20.305458193375223, 35.32853110271571, 30.980956132795914, 14.665727784715859, 16.67053526250797, 35.90600130024374, 22.119796809856474, 16.439846979023336, 28.787895785094946, 21.676530132476344, 41.97667717121985, 21.770614030271766, 15.432626689672718, 4.828599613053049, 4.084215371582701, 5.251165683233906, 3.8352242302220017, 3.8334476791035788, 3.8377317921417484, 8.907084709065298, 8.315824314146871, 6.082645242766987, 3.5886296508558724, 3.5880100874977794, 16.82244409264953, 4.617656072077724, 3.7279091306345564, 3.61612700799809, 8.780306642430693, 6.0745288993310895, 4.043064376971432, 4.052300408587608, 4.251626650184971, 5.390476887535555, 4.341449614520642, 23.357758436131004, 5.761488985775132, 4.406974139560142, 3.3396713555424986, 4.494730000135263, 3.338384084923013, 3.3403888783630644, 3.340042329189252, 4.499021548368196, 9.032620027954424, 4.55304690723759, 4.5543118530770155, 12.071660971821503, 7.460496855169924, 10.990404374572037, 7.777662023823516, 7.8285952184309995, 16.111148178378794, 118.86289836203255, 20.305458193375223, 21.620169334934143, 35.500592367273846, 29.45189274334148, 22.119796809856474, 35.90600130024374, 14.451801371113508, 21.676530132476344, 26.41734770255009, 36.934385438418325, 26.31625859063779, 16.863283582021975, 11.591127247200006, 35.32853110271571, 28.787895785094946, 53.53111861100636, 47.250631773935424, 29.654432161199583, 18.153964961477914, 4.573001376760465, 8.149352218395657, 4.326337390610049, 4.080585187689296, 4.0785803899980815, 4.078812063249374, 4.080334830936777, 5.129816113540769, 4.283528514609542, 6.067262213802156, 4.298002696117506, 5.242201403102205, 3.583910421601418, 3.5839854205048565, 3.585710987357529, 3.585562212955151, 4.734819623602357, 5.6997209920086505, 16.668467274760417, 3.844676104941556, 7.892676443759664, 5.198039996395063, 4.111157072738394, 5.198452806346752, 8.419527281058338, 7.5615269867997625, 4.298719474711046, 4.300109735669929, 12.0669240965968, 6.696588619671457, 40.9299418030625, 13.869626043563594, 9.061610971371062, 41.62190198943804, 35.90600130024374, 12.33204776955834, 118.86289836203255, 13.178620952088583, 21.770614030271766, 13.952403143050157, 26.048330957834946, 16.88395749591186, 16.806205718015477, 24.069350751851232, 36.934385438418325, 47.250631773935424, 18.812575352857287, 39.08322065643552, 26.3818831661647, 26.31625859063779, 21.316628807789115, 21.620169334934143, 17.329373659647292, 16.009678630720387, 4.936684721828142, 4.2334933053986745, 3.954496282626313, 3.96054421879608, 3.6811340014669556, 5.9432008586907665, 7.215222056662899, 3.943655958767526, 4.144283075585635, 3.7927200208820997, 3.9433469633542293, 3.39913963262664, 6.05374457596823, 3.9299153487438336, 3.5088227463633865, 3.509033337569974, 3.6647271025505668, 3.725207494250745, 3.121121704837579, 3.1211064975823586, 3.1211505397631414, 3.121256871304572, 3.1212378652617345, 3.121131491175951, 3.1213232939262365, 3.1213006017678753, 3.1220343414502447, 3.1225748665559507, 3.122586650181129, 3.122680842785335, 8.239301195850938, 11.693126793188572, 5.948706619663524, 8.794621056873199, 6.05717229839461, 6.070343304515222, 4.796153698097859, 4.8829945671277395, 16.6669078480422, 17.498883462050806, 6.066224154648102, 118.86289836203255, 16.090853328595202, 47.250631773935424, 26.31625859063779, 41.62190198943804, 18.603722223264455, 8.527380651019389, 36.934385438418325, 5.4786140155239, 5.319672061585442, 4.866830015761738, 5.170230325426875, 3.0290078916688405, 3.819181678857483, 4.760047936820166, 4.5543118530770155, 3.895169067536968, 2.967042393998474, 2.9671090961902356, 2.967062703008358, 2.9671239243125775, 2.9671021257689327, 4.41309670174653, 4.55304690723759, 5.871767904529554, 3.697716390882846, 6.589684045124275, 2.905163740210767, 2.905164581769616, 2.9051930018906864, 2.905215527647761, 2.9051944284428086, 2.905243821497896, 2.905216884937708, 2.9052669291256787, 2.9052451882137893, 2.905287394163938, 2.905239353116027, 8.02428048815246, 9.673798948728265, 11.570455583435988, 5.583706581708717, 5.672438769506766, 5.804543205397961, 6.165774428631451, 6.488280208830902, 6.558503063934364, 6.813188405499427, 21.575549223206444, 21.620169334934143, 14.568877410548312, 17.498883462050806, 118.86289836203255, 53.53111861100636, 35.90600130024374, 26.31625859063779, 47.250631773935424, 35.32853110271571, 26.048330957834946, 26.41734770255009], \"Category\": [\"Default\", \"Default\", \"Default\", \"Default\", \"Default\", \"Default\", \"Default\", \"Default\", \"Default\", \"Default\", \"Default\", \"Default\", \"Default\", \"Default\", \"Default\", \"Default\", \"Default\", \"Default\", \"Default\", \"Default\", \"Default\", \"Default\", \"Default\", \"Default\", \"Default\", \"Default\", \"Default\", \"Default\", \"Default\", \"Default\", \"Topic1\", \"Topic1\", \"Topic1\", \"Topic1\", \"Topic1\", \"Topic1\", \"Topic1\", \"Topic1\", \"Topic1\", \"Topic1\", \"Topic1\", \"Topic1\", \"Topic1\", \"Topic1\", \"Topic1\", \"Topic1\", \"Topic1\", \"Topic1\", \"Topic1\", \"Topic1\", \"Topic1\", \"Topic1\", \"Topic1\", \"Topic1\", \"Topic1\", \"Topic1\", \"Topic1\", \"Topic1\", \"Topic1\", \"Topic1\", \"Topic1\", \"Topic1\", \"Topic1\", \"Topic1\", \"Topic1\", \"Topic1\", \"Topic1\", \"Topic1\", \"Topic1\", \"Topic1\", \"Topic1\", \"Topic1\", \"Topic1\", \"Topic1\", \"Topic1\", \"Topic1\", \"Topic1\", \"Topic1\", \"Topic1\", \"Topic1\", \"Topic1\", \"Topic1\", \"Topic1\", \"Topic1\", \"Topic1\", \"Topic1\", \"Topic1\", \"Topic2\", \"Topic2\", \"Topic2\", \"Topic2\", \"Topic2\", \"Topic2\", \"Topic2\", \"Topic2\", \"Topic2\", \"Topic2\", \"Topic2\", \"Topic2\", \"Topic2\", \"Topic2\", \"Topic2\", \"Topic2\", \"Topic2\", \"Topic2\", \"Topic2\", \"Topic2\", \"Topic2\", \"Topic2\", \"Topic2\", \"Topic2\", \"Topic2\", \"Topic2\", \"Topic2\", \"Topic2\", \"Topic2\", \"Topic2\", \"Topic2\", \"Topic2\", \"Topic2\", \"Topic2\", \"Topic2\", \"Topic2\", \"Topic2\", \"Topic2\", \"Topic2\", \"Topic2\", \"Topic2\", \"Topic2\", \"Topic2\", \"Topic2\", \"Topic2\", \"Topic2\", \"Topic2\", \"Topic2\", \"Topic2\", \"Topic2\", \"Topic2\", \"Topic2\", \"Topic2\", \"Topic2\", \"Topic2\", \"Topic3\", \"Topic3\", \"Topic3\", \"Topic3\", \"Topic3\", \"Topic3\", \"Topic3\", \"Topic3\", \"Topic3\", \"Topic3\", \"Topic3\", \"Topic3\", \"Topic3\", \"Topic3\", \"Topic3\", \"Topic3\", \"Topic3\", \"Topic3\", \"Topic3\", \"Topic3\", \"Topic3\", \"Topic3\", \"Topic3\", \"Topic3\", \"Topic3\", \"Topic3\", \"Topic3\", \"Topic3\", \"Topic3\", \"Topic3\", \"Topic3\", \"Topic3\", \"Topic3\", \"Topic3\", \"Topic3\", \"Topic3\", \"Topic3\", \"Topic3\", \"Topic3\", \"Topic3\", \"Topic3\", \"Topic3\", \"Topic3\", \"Topic3\", \"Topic3\", \"Topic3\", \"Topic3\", \"Topic3\", \"Topic3\", \"Topic3\", \"Topic3\", \"Topic3\", \"Topic4\", \"Topic4\", \"Topic4\", \"Topic4\", \"Topic4\", \"Topic4\", \"Topic4\", \"Topic4\", \"Topic4\", \"Topic4\", \"Topic4\", \"Topic4\", \"Topic4\", \"Topic4\", \"Topic4\", \"Topic4\", \"Topic4\", \"Topic4\", \"Topic4\", \"Topic4\", \"Topic4\", \"Topic4\", \"Topic4\", \"Topic4\", \"Topic4\", \"Topic4\", \"Topic4\", \"Topic4\", \"Topic4\", \"Topic4\", \"Topic4\", \"Topic4\", \"Topic4\", \"Topic4\", \"Topic4\", \"Topic4\", \"Topic4\", \"Topic4\", \"Topic4\", \"Topic4\", \"Topic4\", \"Topic4\", \"Topic4\", \"Topic4\", \"Topic5\", \"Topic5\", \"Topic5\", \"Topic5\", \"Topic5\", \"Topic5\", \"Topic5\", \"Topic5\", \"Topic5\", \"Topic5\", \"Topic5\", \"Topic5\", \"Topic5\", \"Topic5\", \"Topic5\", \"Topic5\", \"Topic5\", \"Topic5\", \"Topic5\", \"Topic5\", \"Topic5\", \"Topic5\", \"Topic5\", \"Topic5\", \"Topic5\", \"Topic5\", \"Topic5\", \"Topic5\", \"Topic5\", \"Topic5\", \"Topic5\", \"Topic5\", \"Topic5\", \"Topic5\", \"Topic5\", \"Topic5\", \"Topic5\", \"Topic5\", \"Topic5\", \"Topic5\", \"Topic5\", \"Topic5\", \"Topic5\", \"Topic5\", \"Topic5\", \"Topic5\", \"Topic5\", \"Topic5\", \"Topic5\", \"Topic5\", \"Topic5\", \"Topic5\", \"Topic5\", \"Topic6\", \"Topic6\", \"Topic6\", \"Topic6\", \"Topic6\", \"Topic6\", \"Topic6\", \"Topic6\", \"Topic6\", \"Topic6\", \"Topic6\", \"Topic6\", \"Topic6\", \"Topic6\", \"Topic6\", \"Topic6\", \"Topic6\", \"Topic6\", \"Topic6\", \"Topic6\", \"Topic6\", \"Topic6\", \"Topic6\", \"Topic6\", \"Topic6\", \"Topic6\", \"Topic6\", \"Topic6\", \"Topic6\", \"Topic6\", \"Topic6\", \"Topic6\", \"Topic6\", \"Topic6\", \"Topic6\", \"Topic6\", \"Topic6\", \"Topic6\", \"Topic6\", \"Topic6\", \"Topic6\", \"Topic6\", \"Topic6\", \"Topic6\", \"Topic6\", \"Topic6\", \"Topic6\", \"Topic6\", \"Topic6\", \"Topic6\", \"Topic6\", \"Topic7\", \"Topic7\", \"Topic7\", \"Topic7\", \"Topic7\", \"Topic7\", \"Topic7\", \"Topic7\", \"Topic7\", \"Topic7\", \"Topic7\", \"Topic7\", \"Topic7\", \"Topic7\", \"Topic7\", \"Topic7\", \"Topic7\", \"Topic7\", \"Topic7\", \"Topic7\", \"Topic7\", \"Topic7\", \"Topic7\", \"Topic7\", \"Topic7\", \"Topic7\", \"Topic7\", \"Topic7\", \"Topic7\", \"Topic7\", \"Topic7\", \"Topic7\", \"Topic7\", \"Topic7\", \"Topic7\", \"Topic7\", \"Topic7\", \"Topic7\", \"Topic7\", \"Topic7\", \"Topic7\", \"Topic7\", \"Topic7\", \"Topic7\", \"Topic7\", \"Topic7\", \"Topic7\", \"Topic7\", \"Topic7\", \"Topic7\", \"Topic7\", \"Topic7\", \"Topic7\", \"Topic7\", \"Topic7\", \"Topic7\", \"Topic7\", \"Topic7\", \"Topic7\", \"Topic7\", \"Topic7\", \"Topic7\", \"Topic7\", \"Topic8\", \"Topic8\", \"Topic8\", \"Topic8\", \"Topic8\", \"Topic8\", \"Topic8\", \"Topic8\", \"Topic8\", \"Topic8\", \"Topic8\", \"Topic8\", \"Topic8\", \"Topic8\", \"Topic8\", \"Topic8\", \"Topic8\", \"Topic8\", \"Topic8\", \"Topic8\", \"Topic8\", \"Topic8\", \"Topic8\", \"Topic8\", \"Topic8\", \"Topic8\", \"Topic8\", \"Topic8\", \"Topic8\", \"Topic8\", \"Topic8\", \"Topic8\", \"Topic8\", \"Topic8\", \"Topic8\", \"Topic8\", \"Topic8\", \"Topic8\", \"Topic8\", \"Topic8\", \"Topic8\", \"Topic8\", \"Topic8\", \"Topic8\", \"Topic8\", \"Topic8\", \"Topic8\", \"Topic8\", \"Topic8\", \"Topic8\", \"Topic8\", \"Topic8\", \"Topic8\", \"Topic8\", \"Topic8\", \"Topic8\", \"Topic8\", \"Topic8\", \"Topic8\", \"Topic8\", \"Topic9\", \"Topic9\", \"Topic9\", \"Topic9\", \"Topic9\", \"Topic9\", \"Topic9\", \"Topic9\", \"Topic9\", \"Topic9\", \"Topic9\", \"Topic9\", \"Topic9\", \"Topic9\", \"Topic9\", \"Topic9\", \"Topic9\", \"Topic9\", \"Topic9\", \"Topic9\", \"Topic9\", \"Topic9\", \"Topic9\", \"Topic9\", \"Topic9\", \"Topic9\", \"Topic9\", \"Topic9\", \"Topic9\", \"Topic9\", \"Topic9\", \"Topic9\", \"Topic9\", \"Topic9\", \"Topic9\", \"Topic9\", \"Topic9\", \"Topic9\", \"Topic9\", \"Topic9\", \"Topic9\", \"Topic9\", \"Topic9\", \"Topic9\", \"Topic9\", \"Topic9\", \"Topic9\", \"Topic9\", \"Topic9\", \"Topic9\", \"Topic9\", \"Topic9\", \"Topic9\", \"Topic9\", \"Topic10\", \"Topic10\", \"Topic10\", \"Topic10\", \"Topic10\", \"Topic10\", \"Topic10\", \"Topic10\", \"Topic10\", \"Topic10\", \"Topic10\", \"Topic10\", \"Topic10\", \"Topic10\", \"Topic10\", \"Topic10\", \"Topic10\", \"Topic10\", \"Topic10\", \"Topic10\", \"Topic10\", \"Topic10\", \"Topic10\", \"Topic10\", \"Topic10\", \"Topic10\", \"Topic10\", \"Topic10\", \"Topic10\", \"Topic10\", \"Topic10\", \"Topic10\", \"Topic10\", \"Topic10\", \"Topic10\", \"Topic10\", \"Topic10\", \"Topic10\", \"Topic10\", \"Topic10\", \"Topic10\", \"Topic10\", \"Topic10\", \"Topic10\", \"Topic10\", \"Topic10\", \"Topic10\", \"Topic10\", \"Topic10\", \"Topic11\", \"Topic11\", \"Topic11\", \"Topic11\", \"Topic11\", \"Topic11\", \"Topic11\", \"Topic11\", \"Topic11\", \"Topic11\", \"Topic11\", \"Topic11\", \"Topic11\", \"Topic11\", \"Topic11\", \"Topic11\", \"Topic11\", \"Topic11\", \"Topic11\", \"Topic11\", \"Topic11\", \"Topic11\", \"Topic11\", \"Topic11\", \"Topic11\", \"Topic11\", \"Topic11\", \"Topic11\", \"Topic11\", \"Topic11\", \"Topic11\", \"Topic11\", \"Topic11\", \"Topic11\", \"Topic11\", \"Topic11\", \"Topic11\", \"Topic11\", \"Topic11\", \"Topic11\", \"Topic11\", \"Topic11\", \"Topic11\", \"Topic11\", \"Topic11\", \"Topic11\", \"Topic11\", \"Topic11\", \"Topic11\", \"Topic11\", \"Topic11\", \"Topic11\"], \"logprob\": [30.0, 29.0, 28.0, 27.0, 26.0, 25.0, 24.0, 23.0, 22.0, 21.0, 20.0, 19.0, 18.0, 17.0, 16.0, 15.0, 14.0, 13.0, 12.0, 11.0, 10.0, 9.0, 8.0, 7.0, 6.0, 5.0, 4.0, 3.0, 2.0, 1.0, -6.243100166320801, -6.685200214385986, -6.399199962615967, -6.803699970245361, -6.449999809265137, -6.939199924468994, -6.939000129699707, -6.489200115203857, -6.9440999031066895, -6.807300090789795, -6.171199798583984, -5.831099987030029, -6.819200038909912, -6.112100124359131, -6.809999942779541, -7.1006999015808105, -7.101500034332275, -7.101900100708008, -6.807700157165527, -6.394000053405762, -6.201300144195557, -6.173699855804443, -6.807799816131592, -6.486700057983398, -6.944799900054932, -7.106500148773193, -7.1072998046875, -7.099800109863281, -6.8084001541137695, -7.103300094604492, -5.125100135803223, -5.62939977645874, -6.174499988555908, -6.223299980163574, -5.298399925231934, -6.023399829864502, -6.169899940490723, -6.043000221252441, -6.695300102233887, -6.169600009918213, -5.485799789428711, -4.830699920654297, -6.048500061035156, -5.8719000816345215, -6.487599849700928, -5.658899784088135, -5.965400218963623, -6.044600009918213, -6.106500148773193, -6.086400032043457, -5.693299770355225, -5.8719000816345215, -6.146500110626221, -6.17140007019043, -6.3180999755859375, -6.1691999435424805, -6.170400142669678, -5.427199840545654, -5.773499965667725, -5.727399826049805, -5.12529993057251, -5.983099937438965, -6.226600170135498, -5.078000068664551, -6.667600154876709, -6.672399997711182, -6.674200057983398, -6.791800022125244, -6.792200088500977, -6.793099880218506, -6.860599994659424, -6.789400100708008, -6.934899806976318, -6.669899940490723, -6.788700103759766, -6.430200099945068, -6.677299976348877, -6.926400184631348, -6.787300109863281, -6.79010009765625, -7.08050012588501, -6.032100200653076, -7.081600189208984, -7.082600116729736, -7.083000183105469, -7.087200164794922, -6.038899898529053, -5.815499782562256, -6.678100109100342, -5.116600036621094, -6.788099765777588, -5.825799942016602, -5.7484002113342285, -5.72730016708374, -5.643199920654297, -5.642600059509277, -6.089099884033203, -4.953700065612793, -6.231599807739258, -5.914000034332275, -6.303400039672852, -5.792699813842773, -6.295899868011475, -5.78980016708374, -6.303800106048584, -6.224699974060059, -6.30019998550415, -6.232600212097168, -6.230100154876709, -6.212500095367432, -6.229400157928467, -6.206099987030029, -5.266900062561035, -5.586100101470947, -6.129499912261963, -6.576000213623047, -6.28380012512207, -6.5756001472473145, -6.28439998626709, -6.828400135040283, -6.984600067138672, -7.1697001457214355, -7.170899868011475, -7.171000003814697, -7.171999931335449, -7.173999786376953, -6.499800205230713, -6.203199863433838, -6.57390022277832, -6.573200225830078, -6.9857001304626465, -6.692399978637695, -6.696000099182129, -6.985899925231934, -6.82889986038208, -6.46560001373291, -6.132999897003174, -7.1697001457214355, -6.1290998458862305, -6.35129976272583, -7.396699905395508, -7.397200107574463, -6.577700138092041, -5.586299896240234, -6.370299816131592, -5.706600189208984, -6.3730998039245605, -6.233500003814697, -6.033699989318848, -4.823299884796143, -5.674300193786621, -6.055600166320801, -6.071300029754639, -6.283199787139893, -6.017899990081787, -6.0055999755859375, -5.84660005569458, -6.150400161743164, -6.371300220489502, -6.320700168609619, -6.365300178527832, -6.3256001472473145, -6.367700099945068, -6.345399856567383, -4.843999862670898, -5.214399814605713, -5.644499778747559, -5.894800186157227, -5.8734002113342285, -5.990200042724609, -4.95359992980957, -6.124599933624268, -6.298799991607666, -5.601600170135498, -5.788099765777588, -6.3856000900268555, -6.206500053405762, -6.391900062561035, -6.321199893951416, -6.61929988861084, -6.281300067901611, -5.2555999755859375, -4.775300025939941, -6.39109992980957, -6.755499839782715, -6.758200168609619, -6.316199779510498, -5.611199855804443, -6.9085001945495605, -6.908899784088135, -6.908899784088135, -6.909800052642822, -6.909200191497803, -6.912899971008301, -6.113100051879883, -6.770100116729736, -5.571199893951416, -6.013400077819824, -6.408199787139893, -5.323800086975098, -6.107699871063232, -6.138700008392334, -5.880199909210205, -5.866199970245361, -6.001999855041504, -5.846199989318848, -6.292600154876709, -6.305300235748291, -5.337900161743164, -5.073200225830078, -6.074900150299072, -5.920400142669678, -6.485400199890137, -6.7769999504089355, -6.812699794769287, -6.837500095367432, -6.62060022354126, -5.155799865722656, -6.144100189208984, -6.539299964904785, -6.962900161743164, -5.9207000732421875, -6.736199855804443, -6.777100086212158, -6.962500095367432, -7.190100193023682, -7.190199851989746, -7.190299987792969, -7.191500186920166, -7.188300132751465, -7.134799957275391, -7.190499782562256, -7.188899993896484, -6.9604997634887695, -7.190499782562256, -7.190999984741211, -5.900199890136719, -7.189599990844727, -6.776100158691406, -6.15880012512207, -6.363900184631348, -6.202099800109863, -6.361000061035156, -6.393700122833252, -5.64769983291626, -6.589600086212158, -6.5167999267578125, -6.311100006103516, -6.3643999099731445, -6.052199840545654, -6.268700122833252, -6.3582000732421875, -6.343100070953369, -6.363900184631348, -6.275700092315674, -6.349800109863281, -6.459700107574463, -6.618299961090088, -6.610300064086914, -6.4019999504089355, -6.583700180053711, -5.787199974060059, -6.369800090789795, -5.997399806976318, -6.619500160217285, -6.774499893188477, -6.778600215911865, -6.164700031280518, -6.486199855804443, -6.775599956512451, -6.7779998779296875, -6.964200019836426, -5.186800003051758, -6.263299942016602, -6.775199890136719, -6.775700092315674, -6.6194000244140625, -6.776800155639648, -6.776000022888184, -6.161300182342529, -6.9608001708984375, -7.190000057220459, -7.1921000480651855, -7.192800045013428, -7.1930999755859375, -7.19379997253418, -7.194300174713135, -6.3632001876831055, -7.188499927520752, -7.190499782562256, -7.188000202178955, -6.777299880981445, -6.619200229644775, -6.483699798583984, -4.724599838256836, -6.075500011444092, -6.779200077056885, -6.485400199890137, -6.6230998039245605, -6.4842000007629395, -6.163400173187256, -6.004799842834473, -6.15880012512207, -6.481200218200684, -6.15910005569458, -6.252699851989746, -6.361499786376953, -6.359799861907959, -6.614699840545654, -6.623000144958496, -6.624300003051758, -6.6153998374938965, -6.766900062561035, -6.770199775695801, -6.770299911499023, -6.770699977874756, -6.771100044250488, -6.951499938964844, -6.952300071716309, -6.954400062561035, -6.9552001953125, -6.766200065612793, -6.956699848175049, -6.9558000564575195, -7.1778998374938965, -7.179500102996826, -7.179900169372559, -7.180699825286865, -7.181600093841553, -7.1819000244140625, -7.183899879455566, -7.184100151062012, -7.192999839782715, -7.2093000411987305, -7.177599906921387, -6.501800060272217, -7.177599906921387, -7.4741997718811035, -7.474299907684326, -7.474299907684326, -7.474299907684326, -7.474299907684326, -6.610499858856201, -6.127699851989746, -7.179599761962891, -6.952400207519531, -7.182000160217285, -6.765399932861328, -4.712399959564209, -6.610499858856201, -6.475100040435791, -5.744800090789795, -6.764100074768066, -5.97730016708374, -6.771500110626221, -6.473299980163574, -6.355800151824951, -6.490099906921387, -6.148499965667725, -6.349800109863281, -6.058899879455566, -6.57919979095459, -6.472599983215332, -6.270100116729736, -6.350900173187256, -6.6092000007629395, -6.612400054931641, -6.5100998878479, -6.609300136566162, -6.6656999588012695, -6.623000144958496, -6.6971001625061035, -6.729700088500977, -6.760300159454346, -6.763000011444092, -6.361400127410889, -6.772600173950195, -6.610300064086914, -6.951900005340576, -6.954800128936768, -6.956900119781494, -6.1570000648498535, -6.244999885559082, -6.615499973297119, -7.1844000816345215, -7.185800075531006, -5.658199787139893, -6.953400135040283, -7.184999942779541, -7.242700099945068, -6.356100082397461, -6.76800012588501, -7.184000015258789, -7.186200141906738, -7.18120002746582, -6.956900119781494, -7.180300235748291, -5.501299858093262, -6.90749979019165, -7.1844000816345215, -7.476900100708008, -7.1809000968933105, -7.479000091552734, -7.479700088500977, -7.480000019073486, -7.184299945831299, -6.503300189971924, -7.178500175476074, -7.184000015258789, -6.353300094604492, -6.772200107574463, -6.471099853515625, -6.761600017547607, -6.764400005340576, -6.250699996948242, -4.978000164031982, -6.146599769592285, -6.1493000984191895, -5.966599941253662, -6.081399917602539, -6.250899791717529, -6.005000114440918, -6.471399784088135, -6.321400165557861, -6.252500057220459, -6.146900177001953, -6.290900230407715, -6.473499774932861, -6.612500190734863, -6.268599987030029, -6.331200122833252, -6.242000102996826, -6.301000118255615, -6.468400001525879, -6.612199783325195, -6.468599796295166, -5.975100040435791, -6.613800048828125, -6.759300231933594, -6.760200023651123, -6.760200023651123, -6.773200035095215, -6.603499889373779, -6.940299987792969, -6.600599765777588, -6.945400238037109, -6.759200096130371, -7.172399997711182, -7.172399997711182, -7.171999931335449, -7.172299861907959, -6.937900066375732, -6.757900238037109, -5.69789981842041, -7.172900199890137, -6.469600200653076, -6.935699939727783, -7.172100067138672, -6.937900066375732, -6.472499847412109, -6.597499847412109, -7.170400142669678, -7.172299861907959, -6.143799781799316, -6.758200168609619, -5.162899971008301, -6.144599914550781, -6.599599838256836, -5.639900207519531, -5.8308000564575195, -6.461599826812744, -5.199699878692627, -6.457900047302246, -6.228499889373779, -6.460400104522705, -6.234799861907959, -6.4552001953125, -6.461100101470947, -6.342100143432617, -6.232800006866455, -6.229000091552734, -6.464300155639648, -6.332699775695801, -6.4456000328063965, -6.448999881744385, -6.586999893188477, -6.59060001373291, -6.597499847412109, -6.598800182342529, -5.6479997634887695, -6.0218000411987305, -6.223899841308594, -6.2281999588012695, -6.482100009918213, -6.023600101470947, -5.854300022125244, -6.481200218200684, -6.481500148773193, -6.638000011444092, -6.638400077819824, -6.820400238037109, -6.346799850463867, -6.824100017547607, -7.051700115203857, -7.05210018157959, -7.0518999099731445, -7.048900127410889, -7.3445000648498535, -7.344600200653076, -7.344699859619141, -7.344699859619141, -7.344799995422363, -7.34499979019165, -7.345099925994873, -7.345099925994873, -7.346799850463867, -7.347700119018555, -7.347700119018555, -7.347799777984619, -6.478400230407715, -6.268499851226807, -6.82450008392334, -6.52810001373291, -6.823699951171875, -6.822299957275391, -7.051599979400635, -7.047599792480469, -6.476799964904785, -6.5152997970581055, -7.051799774169922, -5.946400165557861, -6.726500034332275, -6.434800148010254, -6.6402997970581055, -6.6732001304626465, -6.842800140380859, -7.004899978637695, -7.000199794769287, -5.612100124359131, -5.837500095367432, -6.382599830627441, -6.381400108337402, -6.952400207519531, -6.7245001792907715, -6.53849983215332, -6.7241997718811035, -6.952400207519531, -7.248000144958496, -7.2480998039245605, -7.2480998039245605, -7.2480998039245605, -7.248199939727783, -6.952600002288818, -6.94980001449585, -6.723800182342529, -7.247600078582764, -6.723800182342529, -7.6697998046875, -7.6697998046875, -7.669899940490723, -7.669899940490723, -7.669899940490723, -7.669899940490723, -7.670000076293945, -7.669899940490723, -7.670000076293945, -7.670000076293945, -7.670000076293945, -6.7221999168396, -6.722499847412109, -6.722899913787842, -7.247000217437744, -7.247600078582764, -7.241499900817871, -7.247000217437744, -7.247499942779541, -7.243599891662598, -7.24459981918335, -6.716599941253662, -6.719900131225586, -6.94980001449585, -6.947199821472168, -6.509200096130371, -7.229899883270264, -7.234000205993652, -7.234099864959717, -7.234499931335449, -7.235400199890137, -7.2357001304626465, -7.237599849700928], \"loglift\": [30.0, 29.0, 28.0, 27.0, 26.0, 25.0, 24.0, 23.0, 22.0, 21.0, 20.0, 19.0, 18.0, 17.0, 16.0, 15.0, 14.0, 13.0, 12.0, 11.0, 10.0, 9.0, 8.0, 7.0, 6.0, 5.0, 4.0, 3.0, 2.0, 1.0, 1.3745, 1.2616, 1.2328, 1.2167, 1.2, 1.1608, 1.1607, 1.159, 1.1566, 1.1499, 1.1451, 1.145, 1.1395, 1.1354, 1.1303, 1.0863, 1.0857, 1.0855, 1.0753, 1.0716, 1.0704, 1.0595, 1.056, 1.0421, 1.0281, 1.0125, 1.0119, 1.0118, 1.0049, 0.9999, 0.9916, 0.9264, 0.9546, 0.9482, 0.8644, 0.8818, 0.887, 0.8511, 0.9829, 0.8326, 0.6141, 0.2199, 0.743, 0.5967, 0.9187, 0.4325, 0.6032, 0.603, 0.6415, 0.6214, 0.155, 0.1012, 0.4119, 0.2676, 0.7574, 0.0946, 0.049, 1.6, 1.5395, 1.5287, 1.4984, 1.4914, 1.3816, 1.3055, 1.2913, 1.2883, 1.2868, 1.2417, 1.2412, 1.2405, 1.1894, 1.1788, 1.1786, 1.1731, 1.1611, 1.1603, 1.1464, 1.139, 1.1331, 1.1304, 1.116, 1.1157, 1.1148, 1.114, 1.1138, 1.1104, 1.1041, 1.0619, 1.0492, 0.7317, 1.0545, 0.7301, 0.6905, 0.6679, 0.6206, 0.6051, 0.7954, 0.0969, 0.7835, 0.5318, 0.7918, 0.2987, 0.7441, 0.1833, 0.6983, 0.5667, 0.6662, 0.5365, 0.5179, 0.3323, 0.329, -0.1062, 1.7899, 1.5218, 1.4989, 1.4506, 1.3439, 1.2867, 1.2457, 1.1868, 1.1726, 1.1651, 1.1643, 1.1638, 1.1632, 1.161, 1.1582, 1.1397, 1.1347, 1.1299, 1.1244, 1.1007, 1.0993, 1.0988, 1.089, 1.0714, 1.0705, 1.0556, 1.0553, 1.0523, 1.0328, 1.0324, 1.0282, 0.9585, 0.9584, 0.7392, 0.8811, 0.8156, 0.7232, 0.2273, 0.4171, 0.6053, 0.4832, 0.6014, 0.246, 0.2138, 0.0017, 0.2448, 0.4846, 0.2479, 0.3123, -0.078, 0.0712, -0.1826, 1.8976, 1.8867, 1.8194, 1.7806, 1.7699, 1.7679, 1.7665, 1.7258, 1.6594, 1.6126, 1.59, 1.5889, 1.5856, 1.542, 1.5299, 1.5248, 1.5148, 1.4968, 1.4837, 1.4651, 1.4569, 1.4553, 1.4488, 1.4177, 1.3793, 1.3789, 1.3786, 1.3785, 1.378, 1.3738, 1.2973, 1.3546, 1.1013, 1.1099, 1.1563, 0.6493, 0.9266, 0.679, 0.3392, 0.2252, 0.098, -0.7956, 0.7491, 0.1405, 2.1804, 2.1493, 1.9387, 1.8631, 1.7051, 1.6256, 1.5795, 1.5483, 1.5261, 1.5052, 1.4563, 1.4108, 1.407, 1.3877, 1.3855, 1.3777, 1.3512, 1.3483, 1.3481, 1.3478, 1.3466, 1.3118, 1.2877, 1.2783, 1.2439, 1.2373, 1.2298, 1.2297, 1.2145, 1.1836, 1.1297, 1.0446, 1.0498, 0.9908, 1.0073, 0.9658, 0.5717, 1.0212, 0.8827, 0.7392, 0.6399, 0.1955, 0.2761, 0.3142, 0.1027, 0.1047, -0.1758, -0.5015, -0.1958, 0.6892, 0.6365, -1.3514, 0.2937, 1.836, 1.8148, 1.7487, 1.6715, 1.6321, 1.6281, 1.5842, 1.5718, 1.5471, 1.522, 1.5074, 1.4908, 1.4673, 1.4646, 1.4628, 1.4276, 1.4018, 1.3811, 1.3668, 1.355, 1.3509, 1.3488, 1.3481, 1.3477, 1.3469, 1.3465, 1.3181, 1.2861, 1.2801, 1.2324, 1.1902, 1.1572, 1.1004, 0.326, 0.866, 1.1686, 1.0072, 1.0641, 0.9473, 0.6924, 0.4638, 0.4098, 0.7222, 0.0038, -0.4044, -0.2448, -0.3867, 0.3887, 0.3921, 0.3816, 0.1167, 1.6502, 1.6471, 1.647, 1.6466, 1.5847, 1.5288, 1.5279, 1.526, 1.5247, 1.45, 1.4334, 1.4111, 1.3704, 1.3685, 1.368, 1.3673, 1.3663, 1.3659, 1.3642, 1.3641, 1.3534, 1.3355, 1.2495, 1.1987, 1.1827, 1.1465, 1.1465, 1.1465, 1.1465, 1.1465, 1.0875, 0.9955, 1.1108, 1.0776, 1.08, 0.9809, 0.3382, 0.9227, 0.7724, 0.2283, 0.9384, 0.1855, 0.9138, 0.5325, 0.352, 0.5142, -0.0486, 0.2188, -0.2106, 0.5158, 0.3451, -0.0062, 0.0443, 0.5339, 0.4025, -0.2624, 0.1227, 0.3631, -0.1544, 0.0552, -0.6383, -0.0123, 0.329, 1.8926, 1.6488, 1.5598, 1.5324, 1.53, 1.5267, 1.4848, 1.4654, 1.4076, 1.3664, 1.3651, 1.3476, 1.3453, 1.3277, 1.3004, 1.2999, 1.2564, 1.2475, 1.243, 1.2, 1.187, 1.1801, 1.1763, 1.1698, 1.1609, 1.1458, 1.1448, 1.144, 1.1428, 1.1426, 1.1404, 1.1244, 1.1342, 1.1285, 0.9844, 1.0467, 0.9604, 1.0157, 1.0063, 0.7983, 0.0726, 0.671, 0.6057, 0.2924, 0.3644, 0.4812, 0.2426, 0.6863, 0.431, 0.302, 0.0725, 0.2675, 0.5299, 0.7658, -0.0048, 0.1374, -0.3937, -0.3279, -0.0295, 0.3174, 1.8398, 1.7555, 1.75, 1.663, 1.6626, 1.6626, 1.6491, 1.59, 1.4334, 1.425, 1.425, 1.4127, 1.3797, 1.3796, 1.3796, 1.3793, 1.3357, 1.3302, 1.3171, 1.309, 1.293, 1.2445, 1.2427, 1.2423, 1.2255, 1.208, 1.1999, 1.1976, 1.1942, 1.1687, 0.9538, 1.0542, 1.0249, 0.46, 0.4169, 0.8548, -0.1491, 0.792, 0.5195, 0.7325, 0.3338, 0.547, 0.5457, 0.3055, -0.0134, -0.2559, 0.4297, -0.1699, 0.1102, 0.1093, 0.1821, 0.1643, 0.3786, 0.4566, 2.5839, 2.3637, 2.2298, 2.224, 2.0432, 2.0227, 1.998, 1.9753, 1.9253, 1.8575, 1.8181, 1.7847, 1.681, 1.6359, 1.5216, 1.5211, 1.4779, 1.4645, 1.3459, 1.3458, 1.3457, 1.3456, 1.3456, 1.3454, 1.3452, 1.3451, 1.3433, 1.3422, 1.3421, 1.342, 1.2413, 1.101, 1.2209, 1.1263, 1.2036, 1.2028, 1.2092, 1.1952, 0.5384, 0.4512, 0.9741, -0.8958, 0.3238, -0.4618, -0.0819, -0.5733, 0.0624, 0.6804, -0.7808, 2.5156, 2.3197, 1.8635, 1.8042, 1.7679, 1.764, 1.7298, 1.5883, 1.5164, 1.4929, 1.4929, 1.4928, 1.4928, 1.4928, 1.3913, 1.363, 1.3346, 1.2733, 1.2193, 1.0923, 1.0923, 1.0922, 1.0922, 1.0921, 1.0921, 1.0921, 1.0921, 1.0921, 1.092, 1.092, 1.0239, 0.8367, 0.6572, 0.8617, 0.8453, 0.8284, 0.7625, 0.7111, 0.7042, 0.6651, 0.0404, 0.035, 0.1999, 0.0192, -1.4586, -1.3817, -0.9863, -0.6757, -1.2614, -0.9715, -0.6671, -0.6831]}, \"token.table\": {\"Topic\": [1, 2, 8, 1, 2, 3, 6, 8, 9, 1, 5, 7, 1, 4, 4, 8, 1, 2, 3, 4, 5, 6, 7, 8, 9, 8, 6, 6, 2, 4, 10, 1, 2, 3, 5, 6, 9, 10, 1, 2, 3, 4, 5, 6, 7, 8, 9, 10, 1, 7, 7, 1, 6, 1, 3, 6, 8, 1, 2, 3, 4, 6, 7, 8, 9, 6, 3, 8, 5, 1, 6, 2, 3, 5, 6, 8, 8, 7, 4, 2, 3, 5, 1, 8, 1, 10, 5, 2, 2, 5, 1, 2, 3, 5, 8, 7, 5, 10, 1, 2, 4, 5, 7, 8, 2, 3, 8, 6, 8, 2, 2, 2, 1, 2, 3, 5, 6, 8, 9, 1, 5, 7, 1, 8, 1, 2, 3, 5, 9, 1, 2, 3, 5, 6, 8, 9, 4, 1, 2, 3, 4, 6, 7, 8, 9, 10, 8, 1, 7, 1, 2, 3, 6, 8, 2, 5, 1, 2, 3, 4, 8, 9, 5, 6, 1, 5, 4, 4, 1, 2, 3, 4, 5, 6, 7, 8, 9, 4, 6, 1, 3, 6, 7, 9, 2, 1, 2, 2, 3, 4, 6, 9, 9, 7, 7, 1, 3, 10, 1, 2, 3, 5, 6, 7, 8, 10, 1, 1, 2, 3, 4, 5, 6, 9, 10, 6, 4, 8, 1, 2, 3, 7, 9, 1, 6, 10, 3, 5, 6, 1, 2, 3, 4, 6, 7, 8, 9, 10, 1, 3, 4, 5, 8, 1, 2, 3, 5, 7, 3, 1, 2, 7, 3, 4, 3, 1, 2, 3, 4, 6, 10, 3, 1, 2, 3, 4, 5, 6, 8, 9, 3, 9, 1, 2, 3, 6, 8, 9, 7, 2, 3, 4, 5, 4, 1, 2, 3, 7, 8, 9, 5, 7, 1, 2, 3, 4, 5, 6, 7, 3, 10, 5, 3, 8, 6, 1, 1, 2, 3, 5, 6, 7, 2, 8, 5, 3, 10, 10, 1, 2, 3, 4, 7, 8, 1, 2, 3, 4, 5, 6, 8, 1, 2, 4, 7, 1, 3, 6, 8, 6, 8, 9, 11, 2, 4, 5, 6, 7, 1, 7, 2, 3, 5, 2, 3, 7, 9, 1, 3, 4, 7, 8, 2, 3, 1, 2, 3, 5, 6, 7, 1, 2, 3, 4, 5, 6, 8, 1, 2, 3, 4, 5, 6, 7, 8, 9, 1, 3, 8, 7, 1, 2, 3, 4, 5, 6, 8, 9, 1, 3, 5, 1, 2, 3, 5, 6, 8, 9, 1, 2, 3, 6, 7, 9, 1, 3, 4, 8, 1, 3, 4, 7, 10, 1, 2, 3, 4, 5, 8, 1, 2, 3, 4, 5, 6, 7, 8, 9, 1, 2, 3, 4, 5, 6, 7, 8, 9, 1, 3, 5, 10, 1, 2, 3, 4, 5, 6, 7, 8, 3, 3, 1, 2, 3, 4, 5, 7, 8, 10, 1, 2, 3, 4, 5, 6, 7, 9, 1, 9, 1, 3, 5, 7, 1, 2, 3, 5, 6, 8, 9, 1, 3, 4, 4, 9, 1, 2, 1, 2, 3, 4, 5, 6, 9, 1, 2, 3, 4, 6, 9, 1, 2, 3, 4, 6, 8, 9, 1, 9, 7, 1, 2, 3, 1, 10, 1, 2, 3, 4, 6, 8, 1, 2, 3, 4, 6, 7, 8, 9, 1, 4, 1, 2, 3, 4, 5, 7, 9, 10, 1, 2, 2, 5, 9, 1, 2, 4, 6, 8, 1, 2, 3, 4, 7, 8, 9, 2, 4, 6, 4, 7, 5, 1, 2, 3, 5, 6, 7, 9, 1, 2, 3, 4, 5, 6, 7, 8, 9, 3, 5, 2, 3, 6, 1, 2, 3, 4, 5, 6, 7, 8, 2, 6, 8, 1, 3, 9, 1, 2, 3, 4, 5, 6, 7, 8, 9, 1, 2, 3, 4, 6, 7, 2, 3, 3, 6, 1, 2, 3, 4, 5, 6, 8, 1, 2, 3, 4, 5, 6, 1, 3, 5, 2, 3, 4, 5, 8, 9, 2, 3, 1, 2, 6, 2, 1, 2, 5, 2, 3, 1, 2, 3, 4, 8, 1, 2, 3, 4, 5, 6, 8, 1, 5, 1, 4, 7, 1, 2, 3, 4, 5, 6, 7, 8, 9, 10, 1, 2, 3, 5, 8, 1, 2, 3, 5, 6, 7, 1, 2, 5, 10, 2, 3, 4, 5, 6, 7, 8, 1, 2, 9, 1, 1, 2, 1, 2, 3, 5, 6, 7, 8, 9, 3, 4, 6, 9, 1, 7, 2, 3, 6, 8, 1, 2, 3, 4, 6, 7, 8, 9, 10, 1, 2, 3, 5, 6, 7, 1, 8, 10, 3, 6, 8, 3, 4, 1, 2, 3, 4, 7, 1, 4, 5, 8, 1, 2, 3, 4, 5, 6, 7, 9, 4, 7, 1, 2, 3, 4, 5, 7, 8, 9, 1, 2, 3, 4, 5, 9, 10, 1, 2, 3, 5, 9, 9, 1, 2, 4, 6, 1, 2, 3, 5, 6, 9, 1, 2, 3, 4, 5, 6, 7, 9, 10, 2, 5, 2, 5, 1, 2, 3, 4, 1, 2, 5, 9, 1, 2, 3, 5, 9, 7, 3, 1, 2, 3, 4, 5, 6, 7, 8, 9, 1, 2, 3, 6, 8, 9, 1, 2, 4, 2, 3, 4, 3, 8, 1, 2, 3, 4, 5, 1, 2, 3, 4, 5, 6, 8, 1, 2, 3, 5, 7, 8, 9, 1, 2, 3, 4, 5, 1, 2, 3, 5, 6, 7, 8, 1, 2, 3, 9, 1, 2, 3, 4, 6, 8, 4, 4, 1, 3, 1, 2, 3, 10, 4, 5, 10, 1, 4, 8, 10, 2, 1, 6, 6, 1, 2, 4, 7, 1, 2, 3, 4, 1, 2, 3, 5, 7, 9, 1, 5, 8, 2, 9, 1, 2, 8, 9, 3, 5, 5, 7, 5, 8, 9, 2, 5, 4, 1, 2, 3, 4, 6, 7, 1, 2, 3, 4, 6, 9, 2, 5, 8, 4, 1, 2, 3, 4, 5, 6, 7, 9, 1, 2, 9, 7, 8, 1, 3, 1, 2, 3, 4, 5, 7, 9, 1, 2, 3, 4, 8, 9, 7, 3, 4, 5, 6, 8, 9, 4, 8, 6, 1, 2, 3, 4, 5, 1, 2, 3, 4, 5, 6, 7, 3, 1, 2, 9, 5, 9, 7, 1, 2, 3, 4, 5, 6, 7, 8, 9, 10, 2, 3, 2, 3, 4, 5, 7, 10, 7, 1, 2, 3, 4, 5, 7, 1, 3, 10, 6, 7, 1, 2, 3, 4, 5, 6, 7, 8, 1, 6, 7, 1, 7, 5, 10, 1, 4, 5, 6, 7, 9, 2, 1, 2, 3, 4, 2, 1, 2, 1, 2, 3, 4, 5, 7, 8, 1, 2, 3, 4, 5, 7, 6, 3, 7, 2, 3, 4, 7, 8, 2, 5, 1, 3, 5, 2, 5, 2, 1, 3, 7, 3, 5, 2, 2, 3, 4, 2, 1, 3, 4, 5, 8, 1, 2, 6, 8, 3, 5, 1, 2, 3, 4, 5, 7, 8, 9, 10, 1, 2, 3, 4, 5, 6, 7, 8, 9, 1, 3, 4, 6, 8, 9, 1, 2, 9, 2, 1, 2, 3, 2, 3, 4, 7, 9, 2, 5, 2, 5, 7, 1, 2, 4, 5, 1, 1, 7, 5, 7, 10, 1, 2, 10, 2, 4, 8, 8, 3, 5, 3, 5, 8, 1, 2, 3, 4, 5, 6, 7, 8, 9, 1, 3, 4, 5, 6, 7, 1, 2, 3, 4, 5, 7, 8, 8, 1, 2, 3, 5, 6, 7, 8, 9, 3, 4, 7, 4, 1, 2, 4, 9, 1, 2, 9, 1, 2, 3, 4, 7, 4, 1, 2, 3, 4, 5, 6, 7, 8, 2, 3, 2, 3, 4, 5, 6, 8, 1, 2, 3, 5, 9, 2, 9, 10, 10, 10, 6, 3, 8, 1, 3, 4, 5, 8, 9, 9, 3, 8, 9, 2, 8, 1, 3, 6, 9, 1, 2, 3, 6, 7, 4, 1, 2, 7, 9, 1, 2, 7, 9, 1, 9, 1, 2, 4, 8, 1, 2, 3, 4, 7, 9, 7, 6, 9, 11, 9, 3, 6, 1, 2, 3, 4, 8, 1, 3, 1, 2, 3, 5, 6, 7, 8, 2, 3, 4, 5, 7, 10, 1, 4, 1, 2, 3, 4, 5, 1, 2, 3, 4, 5, 7, 9, 1, 2, 3, 4, 5, 7, 8, 10, 2, 1, 2, 3, 5, 6, 8, 1, 2, 3, 5, 6, 7, 8, 9, 1, 2, 3, 4, 5, 6, 7, 8, 9, 1, 2, 3, 4, 5, 6, 7, 8, 10, 7, 7, 1, 3, 4, 6, 7, 9, 1, 2, 3, 4, 5, 6, 7, 8, 9, 10, 1, 2], \"Freq\": [0.19043390750225855, 0.19043390750225855, 0.3808678150045171, 0.18197692567411827, 0.09098846283705914, 0.18197692567411827, 0.18197692567411827, 0.18197692567411827, 0.4622847964518051, 0.4690547750441134, 0.15635159168137114, 0.15635159168137114, 0.2196539658524896, 0.5857439089399723, 0.7518447062917877, 0.09398058828647346, 0.13562511562778978, 0.13562511562778978, 0.18083348750371972, 0.18083348750371972, 0.04520837187592993, 0.09041674375185986, 0.09041674375185986, 0.09041674375185986, 0.04520837187592993, 0.26824688181972456, 0.482521717451601, 0.4298085241392304, 0.20850040739866138, 0.20850040739866138, 0.20850040739866138, 0.24273903240812936, 0.12136951620406468, 0.12136951620406468, 0.12136951620406468, 0.24273903240812936, 0.12136951620406468, 0.12136951620406468, 0.19047364367654052, 0.2116373818628228, 0.08465495274512912, 0.2116373818628228, 0.02116373818628228, 0.04232747637256456, 0.08465495274512912, 0.04232747637256456, 0.04232747637256456, 0.02116373818628228, 0.6558408271510142, 0.2774531010902259, 0.24380289842943023, 0.21686704269493376, 0.4337340853898675, 0.24995630881373224, 0.12497815440686612, 0.37493446322059837, 0.12497815440686612, 0.2372017276792059, 0.29650215959900733, 0.05930043191980147, 0.05930043191980147, 0.11860086383960294, 0.05930043191980147, 0.11860086383960294, 0.05930043191980147, 0.4824850954942613, 0.23520409534465925, 0.23520409534465925, 0.2648969301251644, 0.24459233363740193, 0.24459233363740193, 0.29597453864864887, 0.4439618079729733, 0.20391020916988442, 0.40782041833976884, 0.20391020916988442, 0.27865789933533663, 0.2988487416693153, 0.4283004425866007, 0.7706876081291097, 0.12168751707301732, 0.04056250569100578, 0.24677341242539835, 0.24677341242539835, 0.2412962584267216, 0.2412962584267216, 0.27513728703383505, 0.6643540401542842, 0.23628379481008874, 0.23628379481008874, 0.11411869323489453, 0.11411869323489453, 0.4564747729395781, 0.11411869323489453, 0.11411869323489453, 0.25966533455537477, 0.25357181520279487, 0.25357181520279487, 0.06851181831641266, 0.5480945465313013, 0.13702363663282532, 0.06851181831641266, 0.06851181831641266, 0.06851181831641266, 0.5491959358201618, 0.13729898395504045, 0.2993974032187598, 0.21963314245903887, 0.21963314245903887, 0.5867649930641254, 0.8081236679775409, 0.6177758247127995, 0.15128741278872151, 0.3782185319718038, 0.07564370639436076, 0.15128741278872151, 0.07564370639436076, 0.07564370639436076, 0.07564370639436076, 0.2618361953126965, 0.2618361953126965, 0.2778856694986416, 0.4810106429491547, 0.24050532147457734, 0.4657799441146571, 0.11644498602866428, 0.11644498602866428, 0.11644498602866428, 0.43734952938431193, 0.44360102421238, 0.177440409684952, 0.088720204842476, 0.088720204842476, 0.088720204842476, 0.088720204842476, 0.088720204842476, 0.6967141442309297, 0.4886398347750287, 0.12215995869375718, 0.04886398347750287, 0.024431991738751435, 0.04886398347750287, 0.024431991738751435, 0.024431991738751435, 0.17102394217126005, 0.024431991738751435, 0.26074094758785854, 0.24623905199880702, 0.24623905199880702, 0.23499911300720622, 0.11749955650360311, 0.11749955650360311, 0.23499911300720622, 0.11749955650360311, 0.09924429358274071, 0.6947100550791849, 0.564878058380537, 0.09414634306342283, 0.09414634306342283, 0.09414634306342283, 0.2605705802702599, 0.2600999337017497, 0.2571916647927615, 0.2571916647927615, 0.560744859923196, 0.140186214980799, 0.5566557587925179, 0.42867533876651737, 0.1613894670832023, 0.3227789341664046, 0.1613894670832023, 0.09683368024992137, 0.03227789341664045, 0.0645557868332809, 0.0645557868332809, 0.03227789341664045, 0.03227789341664045, 0.601483835305003, 0.15037095882625076, 0.11877151372259698, 0.23754302744519395, 0.11877151372259698, 0.23754302744519395, 0.23754302744519395, 0.5066564504350562, 0.5331490547333911, 0.13328726368334778, 0.16481898503169068, 0.16481898503169068, 0.16481898503169068, 0.16481898503169068, 0.32963797006338136, 0.2790248310819009, 0.2988486877711912, 0.22929781023787676, 0.25672826587533204, 0.25672826587533204, 0.25287670755777436, 0.43002147118686734, 0.21501073559343367, 0.05375268389835842, 0.05375268389835842, 0.05375268389835842, 0.05375268389835842, 0.05375268389835842, 0.05375268389835842, 0.5324368291116476, 0.2999956587980614, 0.17999739527883685, 0.11999826351922457, 0.05999913175961229, 0.05999913175961229, 0.11999826351922457, 0.05999913175961229, 0.05999913175961229, 0.27589117128680685, 0.3639697317197467, 0.18198486585987336, 0.4548575977089552, 0.34114319828171635, 0.0379047998090796, 0.0379047998090796, 0.0758095996181592, 0.5812372204311219, 0.2759044234881996, 0.2716554191185362, 0.25874993846847505, 0.5174998769369501, 0.2582007587744458, 0.26599525825036174, 0.22799593564316722, 0.03799932260719453, 0.15199729042877813, 0.03799932260719453, 0.03799932260719453, 0.07599864521438907, 0.07599864521438907, 0.03799932260719453, 0.5810792236771202, 0.18753953240808002, 0.18753953240808002, 0.37507906481616005, 0.2994306605470044, 0.11930942159582962, 0.11930942159582962, 0.11930942159582962, 0.23861884319165924, 0.11930942159582962, 0.4490745597501429, 0.21478633636497085, 0.21478633636497085, 0.21478633636497085, 0.13049704289902697, 0.5219881715961079, 0.49373986390048535, 0.1647353287673505, 0.1647353287673505, 0.1647353287673505, 0.1647353287673505, 0.1647353287673505, 0.1647353287673505, 0.4936500633796768, 0.17875083561697794, 0.17875083561697794, 0.08937541780848897, 0.17875083561697794, 0.17875083561697794, 0.08937541780848897, 0.08937541780848897, 0.24518334919971269, 0.1949387615201994, 0.3898775230403988, 0.21629999183663604, 0.28839998911551473, 0.07209999727887868, 0.07209999727887868, 0.07209999727887868, 0.21629999183663604, 0.27787772567276725, 0.13998339443700986, 0.5599335777480394, 0.13998339443700986, 0.13998339443700986, 0.42843995511578, 0.4379143462491086, 0.2502367692852049, 0.12511838464260244, 0.06255919232130122, 0.06255919232130122, 0.06255919232130122, 0.4805431431704323, 0.2988487052282873, 0.25919113320331527, 0.3239889165041441, 0.12959556660165764, 0.06479778330082882, 0.06479778330082882, 0.06479778330082882, 0.06479778330082882, 0.27287161417940853, 0.27287161417940853, 0.24513025123434296, 0.2222705513297001, 0.2222705513297001, 0.2758627158951519, 0.5329745803743082, 0.20674401138581897, 0.20674401138581897, 0.10337200569290948, 0.10337200569290948, 0.20674401138581897, 0.10337200569290948, 0.24733714498730722, 0.24733714498730722, 0.2567299320848366, 0.2535916847523342, 0.2535916847523342, 0.4724230926383045, 0.08209572802871232, 0.24628718408613695, 0.32838291211484927, 0.08209572802871232, 0.08209572802871232, 0.08209572802871232, 0.49107902782741236, 0.14030829366497496, 0.14030829366497496, 0.07015414683248748, 0.07015414683248748, 0.07015414683248748, 0.07015414683248748, 0.3117887994876083, 0.10392959982920276, 0.41571839931681104, 0.10392959982920276, 0.3049476352306871, 0.15247381761534354, 0.3049476352306871, 0.15247381761534354, 0.18252791621502354, 0.18252791621502354, 0.18252791621502354, 0.18252791621502354, 0.08625765059952382, 0.6038035541966668, 0.08625765059952382, 0.08625765059952382, 0.08625765059952382, 0.5326558311970931, 0.27784185122947475, 0.13090332769058682, 0.3927099830717604, 0.13090332769058682, 0.20145851984880564, 0.20145851984880564, 0.20145851984880564, 0.10072925992440282, 0.18453137912543924, 0.04613284478135981, 0.5074612925949579, 0.09226568956271962, 0.09226568956271962, 0.352582034159869, 0.352582034159869, 0.10667318971536567, 0.5333659485768284, 0.10667318971536567, 0.10667318971536567, 0.40836418771139443, 0.20418209385569722, 0.1448590231929195, 0.1448590231929195, 0.21728853478937926, 0.07242951159645974, 0.21728853478937926, 0.1448590231929195, 0.07242951159645974, 0.23605240396944546, 0.3372177199563507, 0.13488708798254026, 0.1011653159869052, 0.033721771995635065, 0.033721771995635065, 0.033721771995635065, 0.06744354399127013, 0.033721771995635065, 0.2680786600176708, 0.2680786600176708, 0.1340393300088354, 0.277898638188293, 0.2380073210523768, 0.2380073210523768, 0.17850549078928257, 0.0595018302630942, 0.0595018302630942, 0.0595018302630942, 0.0595018302630942, 0.1190036605261884, 0.1476514907324391, 0.07382574536621955, 0.664431708295976, 0.19343383488685495, 0.09671691744342747, 0.09671691744342747, 0.09671691744342747, 0.19343383488685495, 0.09671691744342747, 0.09671691744342747, 0.12302094942356957, 0.3690628482707087, 0.18453142413535434, 0.061510474711784786, 0.061510474711784786, 0.061510474711784786, 0.1735662434604938, 0.1735662434604938, 0.1735662434604938, 0.1735662434604938, 0.16518701564808935, 0.16518701564808935, 0.16518701564808935, 0.16518701564808935, 0.16518701564808935, 0.15796265712225305, 0.3685795332852571, 0.2632710952037551, 0.052654219040751016, 0.052654219040751016, 0.052654219040751016, 0.13925248757694605, 0.3063554726692813, 0.13925248757694605, 0.055700995030778425, 0.08355149254616763, 0.027850497515389212, 0.055700995030778425, 0.08355149254616763, 0.11140199006155685, 0.04634876218698572, 0.2317438109349286, 0.2780925731219143, 0.09269752437397144, 0.04634876218698572, 0.09269752437397144, 0.04634876218698572, 0.04634876218698572, 0.04634876218698572, 0.16484718904324916, 0.3296943780864983, 0.16484718904324916, 0.16484718904324916, 0.19814013720660775, 0.31136307275324077, 0.1698344033199495, 0.0566114677733165, 0.0566114677733165, 0.02830573388665825, 0.0566114677733165, 0.0566114677733165, 0.8131534964471485, 0.6599008419650755, 0.1864413240700338, 0.1864413240700338, 0.1864413240700338, 0.0621471080233446, 0.1242942160466892, 0.0621471080233446, 0.0621471080233446, 0.0621471080233446, 0.3071214049356863, 0.11517052685088237, 0.19195087808480393, 0.03839017561696079, 0.03839017561696079, 0.11517052685088237, 0.07678035123392157, 0.07678035123392157, 0.23255220482046754, 0.23255220482046754, 0.4354215190934661, 0.10885537977336653, 0.21771075954673305, 0.10885537977336653, 0.11035565344389262, 0.22071130688778523, 0.11035565344389262, 0.11035565344389262, 0.11035565344389262, 0.11035565344389262, 0.22071130688778523, 0.6165976345641081, 0.15414940864102702, 0.6263872562387622, 0.5537057566249439, 0.13842643915623598, 0.22659825233474704, 0.22659825233474704, 0.38380626506179516, 0.2878546987963464, 0.047975783132724395, 0.09595156626544879, 0.047975783132724395, 0.047975783132724395, 0.047975783132724395, 0.15240836414532896, 0.15240836414532896, 0.3048167282906579, 0.15240836414532896, 0.15240836414532896, 0.07620418207266448, 0.3450915441348687, 0.17254577206743435, 0.08627288603371717, 0.08627288603371717, 0.08627288603371717, 0.17254577206743435, 0.08627288603371717, 0.23262741518326657, 0.23262741518326657, 0.2595800755898087, 0.5649943572968213, 0.11299887145936426, 0.11299887145936426, 0.2684414228048607, 0.2684414228048607, 0.11680438215123289, 0.11680438215123289, 0.11680438215123289, 0.11680438215123289, 0.23360876430246577, 0.11680438215123289, 0.2046507160509736, 0.0511626790127434, 0.2046507160509736, 0.1023253580254868, 0.1534880370382302, 0.0511626790127434, 0.0511626790127434, 0.0511626790127434, 0.5429477266284595, 0.18098257554281982, 0.25656097407132766, 0.25656097407132766, 0.08552032469044256, 0.08552032469044256, 0.08552032469044256, 0.08552032469044256, 0.08552032469044256, 0.08552032469044256, 0.5343293000163042, 0.1781097666721014, 0.186040637431377, 0.372081274862754, 0.186040637431377, 0.11389123873732562, 0.22778247747465125, 0.11389123873732562, 0.11389123873732562, 0.22778247747465125, 0.11227017960009265, 0.11227017960009265, 0.11227017960009265, 0.11227017960009265, 0.11227017960009265, 0.33681053880027795, 0.11227017960009265, 0.6645566227489441, 0.22182187533276687, 0.44364375066553374, 0.6746526482900638, 0.11244210804834395, 0.27514804557038275, 0.18738664711504013, 0.2498488628200535, 0.18738664711504013, 0.062462215705013376, 0.12492443141002675, 0.062462215705013376, 0.12492443141002675, 0.22033754105441217, 0.16525315579080913, 0.11016877052720608, 0.16525315579080913, 0.05508438526360304, 0.05508438526360304, 0.05508438526360304, 0.11016877052720608, 0.11016877052720608, 0.40248485012391944, 0.20124242506195972, 0.12462176533789682, 0.12462176533789682, 0.37386529601369045, 0.1780627851815103, 0.05935426172717011, 0.23741704690868043, 0.11870852345434021, 0.11870852345434021, 0.05935426172717011, 0.11870852345434021, 0.05935426172717011, 0.6111196756794249, 0.15277991891985623, 0.26086178388479847, 0.21008191792875636, 0.21008191792875636, 0.21008191792875636, 0.2858730325664622, 0.23822752713871848, 0.21440477442484662, 0.1429365162832311, 0.023822752713871846, 0.023822752713871846, 0.04764550542774369, 0.023822752713871846, 0.023822752713871846, 0.12323545730488508, 0.18485318595732764, 0.24647091460977016, 0.24647091460977016, 0.06161772865244254, 0.06161772865244254, 0.17909250519642841, 0.35818501039285683, 0.22030011248353062, 0.22030011248353062, 0.1448718485353905, 0.07243592426769525, 0.43461554560617155, 0.07243592426769525, 0.07243592426769525, 0.07243592426769525, 0.07243592426769525, 0.22295567536090305, 0.22295567536090305, 0.1672167565206773, 0.05573891884022576, 0.05573891884022576, 0.1672167565206773, 0.15283494548938506, 0.3056698909787701, 0.3056698909787701, 0.1665364327510069, 0.4163410818775172, 0.08326821637550345, 0.08326821637550345, 0.08326821637550345, 0.08326821637550345, 0.3601119997856709, 0.4801493330475612, 0.15551746150670634, 0.3110349230134127, 0.3110349230134127, 0.586602390335971, 0.5013990284606737, 0.10027980569213475, 0.10027980569213475, 0.6224899710393954, 0.15562249275984885, 0.5427982637231424, 0.1550852182066121, 0.07754260910330606, 0.07754260910330606, 0.07754260910330606, 0.08518194761049622, 0.2555458428314887, 0.08518194761049622, 0.34072779044198487, 0.08518194761049622, 0.04259097380524811, 0.04259097380524811, 0.6053590844805692, 0.1513397711201423, 0.12700424045706998, 0.5080169618282799, 0.12700424045706998, 0.18952528698958007, 0.1353752049925572, 0.16245024599106864, 0.16245024599106864, 0.1353752049925572, 0.02707504099851144, 0.02707504099851144, 0.08122512299553432, 0.05415008199702288, 0.02707504099851144, 0.16567728373655763, 0.16567728373655763, 0.24851592560483643, 0.08283864186827881, 0.16567728373655763, 0.34319734177870476, 0.1372789367114819, 0.20591840506722284, 0.06863946835574095, 0.06863946835574095, 0.06863946835574095, 0.1682594991784092, 0.1682594991784092, 0.1682594991784092, 0.3365189983568184, 0.47051008657581317, 0.20911559403369473, 0.05227889850842368, 0.10455779701684736, 0.05227889850842368, 0.05227889850842368, 0.05227889850842368, 0.17544718441517748, 0.17544718441517748, 0.17544718441517748, 0.6093181651510136, 0.5716647451908794, 0.14291618629771985, 0.2119907831177037, 0.10599539155885185, 0.10599539155885185, 0.10599539155885185, 0.2119907831177037, 0.10599539155885185, 0.10599539155885185, 0.10599539155885185, 0.3497201573607279, 0.17486007868036396, 0.36812741916198616, 0.36812741916198616, 0.581199651367628, 0.27786137561721636, 0.11078806198974975, 0.6647283719384984, 0.21656008684727526, 0.21656008684727526, 0.3323729037180075, 0.1246398388942528, 0.16618645185900374, 0.1246398388942528, 0.041546612964750936, 0.041546612964750936, 0.041546612964750936, 0.08309322592950187, 0.041546612964750936, 0.17624884347853906, 0.08812442173926953, 0.2643732652178086, 0.17624884347853906, 0.08812442173926953, 0.08812442173926953, 0.4109451107852115, 0.29954612008733594, 0.2524905530038441, 0.3292436389956486, 0.1646218194978243, 0.1646218194978243, 0.4893279918433564, 0.16310933061445212, 0.15412404640584812, 0.15412404640584812, 0.15412404640584812, 0.15412404640584812, 0.15412404640584812, 0.146210784800232, 0.146210784800232, 0.292421569600464, 0.146210784800232, 0.08541567384434708, 0.25624702153304124, 0.08541567384434708, 0.08541567384434708, 0.17083134768869415, 0.08541567384434708, 0.08541567384434708, 0.08541567384434708, 0.23730057486150202, 0.23730057486150202, 0.28147039825582526, 0.28147039825582526, 0.04691173304263754, 0.18764693217055017, 0.04691173304263754, 0.04691173304263754, 0.04691173304263754, 0.09382346608527509, 0.19500149094510888, 0.39000298189021776, 0.13000099396340592, 0.06500049698170296, 0.06500049698170296, 0.06500049698170296, 0.06500049698170296, 0.5770549009099923, 0.1731164702729977, 0.05770549009099924, 0.05770549009099924, 0.11541098018199848, 0.24507792655104646, 0.16837933069969266, 0.16837933069969266, 0.16837933069969266, 0.3367586613993853, 0.24861348061732497, 0.08287116020577498, 0.16574232041154996, 0.08287116020577498, 0.08287116020577498, 0.24861348061732497, 0.4252474661203122, 0.10631186653007806, 0.05315593326503903, 0.15946779979511708, 0.05315593326503903, 0.05315593326503903, 0.05315593326503903, 0.10631186653007806, 0.40513018608556484, 0.7635168417035253, 0.07635168417035254, 0.19435365225939252, 0.38870730451878505, 0.14835711864541817, 0.5934284745816727, 0.44924003013258174, 0.3977307140117428, 0.23997407404439913, 0.35996111106659867, 0.05999351851109978, 0.23997407404439913, 0.16218562835454864, 0.16218562835454864, 0.16218562835454864, 0.16218562835454864, 0.16218562835454864, 0.2438241348428918, 0.4490808556386339, 0.31263139436053494, 0.17368410797807496, 0.10421046478684498, 0.034736821595614996, 0.06947364319122999, 0.10421046478684498, 0.06947364319122999, 0.06947364319122999, 0.034736821595614996, 0.10021627156045167, 0.10021627156045167, 0.10021627156045167, 0.30064881468135496, 0.10021627156045167, 0.10021627156045167, 0.13101076863881525, 0.13101076863881525, 0.524043074555261, 0.06538545025717792, 0.06538545025717792, 0.7846254030861349, 0.4491537464824216, 0.27870601687672064, 0.19883860349361254, 0.13255906899574169, 0.26511813799148337, 0.06627953449787084, 0.26511813799148337, 0.03395367519210055, 0.305583076728905, 0.305583076728905, 0.1358147007684022, 0.0679073503842011, 0.03395367519210055, 0.10186102557630167, 0.07167224095715087, 0.14334448191430174, 0.21501672287145263, 0.21501672287145263, 0.07167224095715087, 0.07167224095715087, 0.14334448191430174, 0.21319166739381334, 0.14212777826254222, 0.4263833347876267, 0.07106388913127111, 0.14212777826254222, 0.08562465467175545, 0.08562465467175545, 0.1712493093435109, 0.042812327335877726, 0.2996862913511441, 0.042812327335877726, 0.21406163667938866, 0.5676267340838154, 0.08108953344054505, 0.08108953344054505, 0.1621790668810901, 0.04466880589259989, 0.13400641767779967, 0.04466880589259989, 0.6700320883889983, 0.04466880589259989, 0.04466880589259989, 0.6306529924539119, 0.6163167893132037, 0.5388340778793789, 0.1796113592931263, 0.2771917460465544, 0.1385958730232772, 0.1385958730232772, 0.2771917460465544, 0.20479236383591085, 0.20479236383591085, 0.20479236383591085, 0.16509353717163364, 0.16509353717163364, 0.16509353717163364, 0.16509353717163364, 0.6166842582886108, 0.19341498096942827, 0.19341498096942827, 0.38645760892226727, 0.2493008860652503, 0.12465044303262515, 0.12465044303262515, 0.12465044303262515, 0.21665546884998632, 0.10832773442499316, 0.43331093769997264, 0.10832773442499316, 0.24111328093481837, 0.24111328093481837, 0.1607421872898789, 0.1607421872898789, 0.08037109364493945, 0.08037109364493945, 0.19579925070088855, 0.19579925070088855, 0.19579925070088855, 0.21120128737642968, 0.21120128737642968, 0.29865952854337385, 0.14932976427168693, 0.14932976427168693, 0.14932976427168693, 0.16285229477917318, 0.48855688433751954, 0.2752232046376694, 0.2779276939722712, 0.18551234350198373, 0.18551234350198373, 0.18551234350198373, 0.23777860469811277, 0.23777860469811277, 0.42842825998884226, 0.305819006565, 0.061163801313, 0.061163801313, 0.305819006565, 0.061163801313, 0.061163801313, 0.22764142097315213, 0.15176094731543477, 0.22764142097315213, 0.07588047365771738, 0.07588047365771738, 0.15176094731543477, 0.21957214004227074, 0.21957214004227074, 0.21957214004227074, 0.27043718184164084, 0.32153433937447, 0.2756008623209743, 0.045933477053495715, 0.045933477053495715, 0.045933477053495715, 0.045933477053495715, 0.045933477053495715, 0.09186695410699143, 0.13467508722730212, 0.5387003489092085, 0.13467508722730212, 0.23033781082137797, 0.23033781082137797, 0.5559356464489789, 0.11118712928979578, 0.2592810610063388, 0.17285404067089255, 0.17285404067089255, 0.08642702033544628, 0.08642702033544628, 0.08642702033544628, 0.08642702033544628, 0.5223588559215216, 0.07462269370307452, 0.07462269370307452, 0.07462269370307452, 0.07462269370307452, 0.07462269370307452, 0.2769920204890434, 0.1781773355072972, 0.44544333876824305, 0.0890886677536486, 0.0890886677536486, 0.0890886677536486, 0.0890886677536486, 0.428191804795355, 0.244845070354966, 0.27593399562485305, 0.14677415924573967, 0.29354831849147933, 0.14677415924573967, 0.14677415924573967, 0.14677415924573967, 0.12761156307424062, 0.6380578153712032, 0.06380578153712031, 0.031902890768560156, 0.031902890768560156, 0.031902890768560156, 0.031902890768560156, 0.4492271696003641, 0.3967452612729058, 0.13224842042430193, 0.26449684084860386, 0.24324052384938713, 0.24324052384938713, 0.2597051872583317, 0.21873940782437606, 0.1850871912360105, 0.17667413708891913, 0.050478324882548324, 0.016826108294182775, 0.10095664976509665, 0.10095664976509665, 0.07571748732382248, 0.05889137902963971, 0.016826108294182775, 0.1974882198060717, 0.658294066020239, 0.11370586561185339, 0.3411175968355602, 0.22741173122370678, 0.11370586561185339, 0.11370586561185339, 0.11370586561185339, 0.29884870253757134, 0.18743568315371584, 0.224922819784459, 0.3748713663074317, 0.03748713663074317, 0.1124614098922295, 0.03748713663074317, 0.5660158253501312, 0.11320316507002624, 0.11320316507002624, 0.3840910648402483, 0.19204553242012415, 0.14084272026427483, 0.05633708810570993, 0.0845056321585649, 0.5070337929513893, 0.028168544052854964, 0.028168544052854964, 0.028168544052854964, 0.0845056321585649, 0.38537720484630805, 0.25691813656420537, 0.12845906828210268, 0.23185383357324507, 0.23185383357324507, 0.25445840718163104, 0.25445840718163104, 0.5298566468948654, 0.0756938066992665, 0.0756938066992665, 0.0756938066992665, 0.151387613398533, 0.0756938066992665, 0.5398654508284104, 0.04564032641419599, 0.04564032641419599, 0.04564032641419599, 0.7758855490413319, 0.5872530046895077, 0.14836087990343844, 0.5934435196137537, 0.32494058470415854, 0.12997623388166343, 0.06498811694083172, 0.19496435082249514, 0.06498811694083172, 0.12997623388166343, 0.06498811694083172, 0.0884836401028808, 0.1769672802057616, 0.3539345604115232, 0.0884836401028808, 0.0884836401028808, 0.0884836401028808, 0.25744185491328553, 0.19942091922394084, 0.19942091922394084, 0.172278845141517, 0.172278845141517, 0.172278845141517, 0.172278845141517, 0.172278845141517, 0.5865704624088149, 0.27524404995715207, 0.18144477096575679, 0.18144477096575679, 0.36288954193151357, 0.5145375863381239, 0.17151252877937462, 0.6179522583994497, 0.6156648895494203, 0.15391622238735508, 0.2988487111875932, 0.23256004530343888, 0.23256004530343888, 0.5865491126061585, 0.13061876929739558, 0.3918563078921867, 0.13061876929739558, 0.7598435297977302, 0.4022452425161953, 0.08044904850323906, 0.08044904850323906, 0.3217961940129562, 0.08044904850323906, 0.11020407232319895, 0.2204081446463979, 0.4408162892927958, 0.29936634218769265, 0.247650691097621, 0.247650691097621, 0.13875932022200038, 0.231265533703334, 0.13875932022200038, 0.09250621348133359, 0.09250621348133359, 0.046253106740666794, 0.13875932022200038, 0.09250621348133359, 0.046253106740666794, 0.43496927107005817, 0.15351856626002053, 0.10234571084001369, 0.025586427710003423, 0.051172855420006845, 0.07675928313001026, 0.07675928313001026, 0.025586427710003423, 0.051172855420006845, 0.25714668416728087, 0.12857334208364044, 0.12857334208364044, 0.12857334208364044, 0.12857334208364044, 0.12857334208364044, 0.19236492803764757, 0.19236492803764757, 0.19236492803764757, 0.6644327431348876, 0.13725676779904794, 0.5490270711961918, 0.13725676779904794, 0.11906118223740493, 0.11906118223740493, 0.23812236447480986, 0.23812236447480986, 0.24506289024841257, 0.2445773914679046, 0.2445773914679046, 0.24466238677965696, 0.24466238677965696, 0.24384751800272764, 0.1703064590186863, 0.1703064590186863, 0.1703064590186863, 0.1703064590186863, 0.6575756383277251, 0.20876618673865546, 0.20876618673865546, 0.2333148650084408, 0.2333148650084408, 0.29419209214046416, 0.1681037684216074, 0.3362075368432148, 0.1681037684216074, 0.22691306287079993, 0.22691306287079993, 0.22691306287079993, 0.4141987657443047, 0.21984840289907542, 0.21984840289907542, 0.32880431459951504, 0.16440215729975752, 0.32880431459951504, 0.2054879532769249, 0.3549337374783248, 0.13076506117622494, 0.07472289210069996, 0.03736144605034998, 0.05604216907552497, 0.05604216907552497, 0.03736144605034998, 0.01868072302517499, 0.1011094704624248, 0.4044378818496992, 0.1011094704624248, 0.1011094704624248, 0.1011094704624248, 0.1011094704624248, 0.08420588770716937, 0.21051471926792345, 0.25261766312150813, 0.042102943853584686, 0.3368235508286775, 0.042102943853584686, 0.042102943853584686, 0.27653895944147333, 0.11888878863172377, 0.17833318294758566, 0.11888878863172377, 0.05944439431586188, 0.11888878863172377, 0.11888878863172377, 0.23777757726344753, 0.05944439431586188, 0.13912673390019203, 0.5565069356007681, 0.27796528803519494, 0.6916655548541764, 0.41459474188411816, 0.3553669216149584, 0.05922782026915974, 0.11845564053831947, 0.19238020497986136, 0.19238020497986136, 0.19238020497986136, 0.16555346783384917, 0.16555346783384917, 0.16555346783384917, 0.16555346783384917, 0.16555346783384917, 0.5960136021735419, 0.22712348217382985, 0.22712348217382985, 0.22712348217382985, 0.15141565478255323, 0.03785391369563831, 0.03785391369563831, 0.03785391369563831, 0.07570782739127661, 0.17934067042715982, 0.35868134085431963, 0.16932414280047142, 0.25398621420070716, 0.08466207140023571, 0.16932414280047142, 0.08466207140023571, 0.08466207140023571, 0.47066440994469144, 0.26895109139696655, 0.06723777284924164, 0.06723777284924164, 0.06723777284924164, 0.23345239715093932, 0.23345239715093932, 0.28497876873763356, 0.2636630161188178, 0.2849958724864115, 0.27591952917072676, 0.5535492453491733, 0.2214196981396693, 0.12669973324329656, 0.12669973324329656, 0.12669973324329656, 0.12669973324329656, 0.12669973324329656, 0.2533994664865931, 0.24516942298227706, 0.19075955368830827, 0.19075955368830827, 0.19075955368830827, 0.22248277426450672, 0.22248277426450672, 0.18798471387623433, 0.37596942775246867, 0.27593234185871207, 0.2788847186864173, 0.151752343989831, 0.303504687979662, 0.151752343989831, 0.151752343989831, 0.151752343989831, 0.42799409372756814, 0.12230712738521426, 0.48922850954085706, 0.12230712738521426, 0.12230712738521426, 0.20455854929521478, 0.5454894647872394, 0.13637236619680984, 0.06818618309840492, 0.23266621049431288, 0.23266621049431288, 0.12773683810419556, 0.2554736762083911, 0.12773683810419556, 0.12773683810419556, 0.13370055837453243, 0.06685027918726621, 0.13370055837453243, 0.3342513959363311, 0.20055083756179864, 0.06685027918726621, 0.2779309534509285, 0.3759630249470552, 0.1879815124735276, 0.1879815124735276, 0.27901899217523474, 0.3404668966445755, 0.3404668966445755, 0.10040876868569094, 0.2008175373713819, 0.5020438434284548, 0.10040876868569094, 0.10040876868569094, 0.35812855418733774, 0.47750473891645034, 0.20758657851445758, 0.13839105234297172, 0.20758657851445758, 0.06919552617148586, 0.06919552617148586, 0.06919552617148586, 0.13839105234297172, 0.35180791415021107, 0.11726930471673702, 0.11726930471673702, 0.11726930471673702, 0.11726930471673702, 0.11726930471673702, 0.5428373343215989, 0.1809457781071996, 0.10772245393314267, 0.10772245393314267, 0.21544490786628534, 0.10772245393314267, 0.323167361799428, 0.3823974710977273, 0.12746582369924242, 0.12746582369924242, 0.12746582369924242, 0.06373291184962121, 0.06373291184962121, 0.06373291184962121, 0.11429300642737164, 0.3428790192821149, 0.11429300642737164, 0.11429300642737164, 0.05714650321368582, 0.05714650321368582, 0.05714650321368582, 0.05714650321368582, 0.850176623094087, 0.12413764542765522, 0.1862064681414828, 0.31034411356913805, 0.12413764542765522, 0.06206882271382761, 0.12413764542765522, 0.3599164577213066, 0.05998607628688443, 0.23994430514753773, 0.05998607628688443, 0.05998607628688443, 0.11997215257376886, 0.05998607628688443, 0.05998607628688443, 0.14774352646613845, 0.09849568431075896, 0.19699136862151792, 0.2462392107768974, 0.04924784215537948, 0.04924784215537948, 0.09849568431075896, 0.14774352646613845, 0.27889629034656166, 0.35299887649511485, 0.2206242978094468, 0.08824971912377871, 0.08824971912377871, 0.04412485956188936, 0.04412485956188936, 0.08824971912377871, 0.04412485956188936, 0.04412485956188936, 0.2597340113643749, 0.2438441816606258, 0.12165563356836163, 0.06082781678418082, 0.48662253427344654, 0.06082781678418082, 0.12165563356836163, 0.06082781678418082, 0.33636137059648635, 0.14415487311277986, 0.07207743655638993, 0.12012906092731655, 0.07207743655638993, 0.024025812185463312, 0.07207743655638993, 0.024025812185463312, 0.09610324874185325, 0.024025812185463312, 0.10857073346795898, 0.6514244008077539], \"Term\": [\"accident\", \"accident\", \"accident\", \"accuse\", \"accuse\", \"accuse\", \"accuse\", \"accuse\", \"acquisition\", \"activity\", \"activity\", \"activity\", \"actor\", \"actor\", \"actress\", \"actress\", \"add\", \"add\", \"add\", \"add\", \"add\", \"add\", \"add\", \"add\", \"add\", \"aggressive\", \"agitation\", \"aid\", \"aim\", \"aim\", \"aim\", \"allow\", \"allow\", \"allow\", \"allow\", \"allow\", \"allow\", \"allow\", \"also\", \"also\", \"also\", \"also\", \"also\", \"also\", \"also\", \"also\", \"also\", \"also\", \"ambulance\", \"american\", \"andrade\", \"armed\", \"armed\", \"arrest\", \"arrest\", \"arrest\", \"arrest\", \"ask\", \"ask\", \"ask\", \"ask\", \"ask\", \"ask\", \"ask\", \"ask\", \"assailant\", \"assault\", \"assault\", \"assessment\", \"associate\", \"associate\", \"attack\", \"attack\", \"attempt\", \"attempt\", \"attempt\", \"attendee\", \"backward\", \"badhaai\", \"ball\", \"ball\", \"ball\", \"ban\", \"ban\", \"barrel\", \"barrel\", \"basketball\", \"batsman\", \"batter\", \"batter\", \"beat\", \"beat\", \"beat\", \"beat\", \"beat\", \"beef\", \"benchmark\", \"benchmark\", \"big\", \"big\", \"big\", \"big\", \"big\", \"big\", \"bit\", \"bit\", \"bloodstain\", \"border\", \"border\", \"boundary\", \"bowl\", \"bowler\", \"bring\", \"bring\", \"bring\", \"bring\", \"bring\", \"bring\", \"bring\", \"british\", \"british\", \"budget\", \"bus\", \"bus\", \"business\", \"business\", \"business\", \"business\", \"cadet\", \"campaign\", \"campaign\", \"campaign\", \"campaign\", \"campaign\", \"campaign\", \"campaign\", \"caption\", \"case\", \"case\", \"case\", \"case\", \"case\", \"case\", \"case\", \"case\", \"case\", \"caste\", \"central\", \"central\", \"child\", \"child\", \"child\", \"child\", \"child\", \"chinese\", \"chinese\", \"city\", \"city\", \"city\", \"city\", \"civil\", \"civilian\", \"clothe\", \"clothe\", \"club\", \"club\", \"collapse\", \"colour\", \"come\", \"come\", \"come\", \"come\", \"come\", \"come\", \"come\", \"come\", \"come\", \"comment\", \"comment\", \"complaint\", \"complaint\", \"complaint\", \"complaint\", \"complaint\", \"concede\", \"concern\", \"concern\", \"confirm\", \"confirm\", \"confirm\", \"confirm\", \"confirm\", \"conglomerate\", \"constitutional\", \"content\", \"contribution\", \"contribution\", \"cotton\", \"could\", \"could\", \"could\", \"could\", \"could\", \"could\", \"could\", \"could\", \"councillor\", \"country\", \"country\", \"country\", \"country\", \"country\", \"country\", \"country\", \"country\", \"coup\", \"courtesy\", \"courtesy\", \"covid\", \"covid\", \"covid\", \"covid\", \"covid\", \"cow\", \"crackdown\", \"crude\", \"culture\", \"culture\", \"custody\", \"day\", \"day\", \"day\", \"day\", \"day\", \"day\", \"day\", \"day\", \"day\", \"debt\", \"decade\", \"decade\", \"decade\", \"decease\", \"decision\", \"decision\", \"decision\", \"decision\", \"decision\", \"defend\", \"definitely\", \"definitely\", \"definitely\", \"degree\", \"degree\", \"delegation\", \"demand\", \"demand\", \"demand\", \"demand\", \"demand\", \"demand\", \"dialogue\", \"different\", \"different\", \"different\", \"different\", \"different\", \"different\", \"different\", \"disability\", \"disabled\", \"disabled\", \"district\", \"district\", \"district\", \"district\", \"district\", \"district\", \"donation\", \"draw\", \"draw\", \"draw\", \"draw\", \"dress\", \"due\", \"due\", \"due\", \"due\", \"due\", \"due\", \"educational\", \"educationally\", \"end\", \"end\", \"end\", \"end\", \"end\", \"end\", \"end\", \"energy\", \"energy\", \"engage\", \"escape\", \"escape\", \"ethnic\", \"euro\", \"even\", \"even\", \"even\", \"even\", \"even\", \"even\", \"examination\", \"examination\", \"example\", \"exchange\", \"exchange\", \"export\", \"face\", \"face\", \"face\", \"face\", \"face\", \"face\", \"family\", \"family\", \"family\", \"family\", \"family\", \"family\", \"family\", \"fan\", \"fan\", \"fan\", \"fan\", \"farm\", \"farm\", \"farm\", \"farm\", \"farmer\", \"farmer\", \"farmer\", \"farmer\", \"feature\", \"feature\", \"feature\", \"feature\", \"feature\", \"fence\", \"fiance\", \"field\", \"field\", \"field\", \"file\", \"file\", \"file\", \"file\", \"film\", \"film\", \"film\", \"film\", \"film\", \"finally\", \"finally\", \"fine\", \"fine\", \"fine\", \"fine\", \"fir\", \"fir\", \"fire\", \"fire\", \"fire\", \"fire\", \"fire\", \"fire\", \"fire\", \"first\", \"first\", \"first\", \"first\", \"first\", \"first\", \"first\", \"first\", \"first\", \"fitness\", \"fitness\", \"fitness\", \"flair\", \"follow\", \"follow\", \"follow\", \"follow\", \"follow\", \"follow\", \"follow\", \"follow\", \"football\", \"football\", \"football\", \"force\", \"force\", \"force\", \"force\", \"force\", \"force\", \"force\", \"former\", \"former\", \"former\", \"former\", \"former\", \"former\", \"friend\", \"friend\", \"friend\", \"friend\", \"future\", \"future\", \"future\", \"future\", \"future\", \"game\", \"game\", \"game\", \"game\", \"game\", \"game\", \"get\", \"get\", \"get\", \"get\", \"get\", \"get\", \"get\", \"get\", \"get\", \"give\", \"give\", \"give\", \"give\", \"give\", \"give\", \"give\", \"give\", \"give\", \"global\", \"global\", \"global\", \"global\", \"go\", \"go\", \"go\", \"go\", \"go\", \"go\", \"go\", \"go\", \"goal\", \"goalkeeper\", \"good\", \"good\", \"good\", \"good\", \"good\", \"good\", \"good\", \"good\", \"government\", \"government\", \"government\", \"government\", \"government\", \"government\", \"government\", \"government\", \"grant\", \"grant\", \"great\", \"great\", \"great\", \"great\", \"group\", \"group\", \"group\", \"group\", \"group\", \"group\", \"group\", \"growth\", \"growth\", \"hair\", \"heart\", \"heart\", \"hence\", \"hence\", \"high\", \"high\", \"high\", \"high\", \"high\", \"high\", \"high\", \"hold\", \"hold\", \"hold\", \"hold\", \"hold\", \"hold\", \"hospital\", \"hospital\", \"hospital\", \"hospital\", \"hospital\", \"hospital\", \"hospital\", \"human\", \"human\", \"immunity\", \"impact\", \"impact\", \"impact\", \"import\", \"import\", \"incident\", \"incident\", \"incident\", \"incident\", \"incident\", \"incident\", \"include\", \"include\", \"include\", \"include\", \"include\", \"include\", \"include\", \"include\", \"index\", \"index\", \"indian\", \"indian\", \"indian\", \"indian\", \"indian\", \"indian\", \"indian\", \"indian\", \"indicator\", \"indicator\", \"individual\", \"individual\", \"individual\", \"injure\", \"injure\", \"injure\", \"injure\", \"injure\", \"injury\", \"injury\", \"injury\", \"injury\", \"injury\", \"injury\", \"injury\", \"inning\", \"inquiry\", \"inquiry\", \"instagram\", \"instagram\", \"intervention\", \"issue\", \"issue\", \"issue\", \"issue\", \"issue\", \"issue\", \"issue\", \"join\", \"join\", \"join\", \"join\", \"join\", \"join\", \"join\", \"join\", \"join\", \"kick\", \"kick\", \"kill\", \"kill\", \"kill\", \"know\", \"know\", \"know\", \"know\", \"know\", \"know\", \"know\", \"know\", \"kuldeep\", \"kuldeep\", \"labourer\", \"land\", \"land\", \"land\", \"last\", \"last\", \"last\", \"last\", \"last\", \"last\", \"last\", \"last\", \"last\", \"late\", \"late\", \"late\", \"late\", \"late\", \"late\", \"law\", \"law\", \"lawyer\", \"lawyer\", \"lead\", \"lead\", \"lead\", \"lead\", \"lead\", \"lead\", \"lead\", \"leader\", \"leader\", \"leader\", \"leader\", \"leader\", \"leader\", \"league\", \"league\", \"league\", \"leave\", \"leave\", \"leave\", \"leave\", \"leave\", \"leave\", \"leg\", \"leg\", \"legal\", \"legal\", \"legal\", \"legend\", \"level\", \"level\", \"level\", \"little\", \"little\", \"lockdown\", \"lockdown\", \"lockdown\", \"lockdown\", \"lockdown\", \"look\", \"look\", \"look\", \"look\", \"look\", \"look\", \"look\", \"loss\", \"loss\", \"love\", \"love\", \"love\", \"make\", \"make\", \"make\", \"make\", \"make\", \"make\", \"make\", \"make\", \"make\", \"make\", \"man\", \"man\", \"man\", \"man\", \"man\", \"many\", \"many\", \"many\", \"many\", \"many\", \"many\", \"market\", \"market\", \"market\", \"market\", \"match\", \"match\", \"match\", \"match\", \"match\", \"match\", \"match\", \"maximum\", \"maximum\", \"maximum\", \"mayor\", \"medicine\", \"medicine\", \"member\", \"member\", \"member\", \"member\", \"member\", \"member\", \"member\", \"member\", \"message\", \"message\", \"military\", \"military\", \"milk\", \"mining\", \"minute\", \"minute\", \"mob\", \"mob\", \"month\", \"month\", \"month\", \"month\", \"month\", \"month\", \"month\", \"month\", \"month\", \"move\", \"move\", \"move\", \"move\", \"move\", \"move\", \"movement\", \"mud\", \"murban\", \"murder\", \"murder\", \"murder\", \"must\", \"must\", \"name\", \"name\", \"name\", \"name\", \"name\", \"national\", \"national\", \"national\", \"national\", \"need\", \"need\", \"need\", \"need\", \"need\", \"need\", \"need\", \"need\", \"network\", \"network\", \"new\", \"new\", \"new\", \"new\", \"new\", \"new\", \"new\", \"new\", \"next\", \"next\", \"next\", \"next\", \"next\", \"next\", \"next\", \"number\", \"number\", \"number\", \"number\", \"number\", \"nun\", \"offer\", \"offer\", \"offer\", \"offer\", \"officer\", \"officer\", \"officer\", \"officer\", \"officer\", \"officer\", \"official\", \"official\", \"official\", \"official\", \"official\", \"official\", \"official\", \"official\", \"oil\", \"over\", \"over\", \"overtake\", \"overtake\", \"oxygen\", \"oxygen\", \"pagglait\", \"pair\", \"patient\", \"patient\", \"patient\", \"patient\", \"pay\", \"pay\", \"pay\", \"pay\", \"pay\", \"peacock\", \"penalty\", \"people\", \"people\", \"people\", \"people\", \"people\", \"people\", \"people\", \"people\", \"people\", \"person\", \"person\", \"person\", \"person\", \"person\", \"person\", \"photo\", \"photo\", \"photo\", \"picture\", \"picture\", \"picture\", \"pilot\", \"pimple\", \"place\", \"place\", \"place\", \"place\", \"place\", \"play\", \"play\", \"play\", \"play\", \"play\", \"play\", \"play\", \"player\", \"player\", \"player\", \"player\", \"player\", \"player\", \"player\", \"point\", \"point\", \"point\", \"point\", \"point\", \"police\", \"police\", \"police\", \"police\", \"police\", \"police\", \"police\", \"positive\", \"positive\", \"positive\", \"positive\", \"post\", \"post\", \"post\", \"post\", \"post\", \"post\", \"post_share\", \"post_shared\", \"previous\", \"previous\", \"price\", \"price\", \"price\", \"price\", \"produce\", \"produce\", \"produce\", \"producer\", \"producer\", \"producer\", \"producer\", \"property\", \"protest\", \"protest\", \"protester\", \"provide\", \"provide\", \"provide\", \"provide\", \"public\", \"public\", \"public\", \"public\", \"put\", \"put\", \"put\", \"put\", \"put\", \"put\", \"qualify\", \"qualify\", \"qualify\", \"quarantine\", \"quarantine\", \"r\", \"r\", \"r\", \"r\", \"race\", \"race\", \"racer\", \"racist\", \"rank\", \"rank\", \"rank\", \"ranking\", \"ranking\", \"reality\", \"release\", \"release\", \"release\", \"release\", \"release\", \"release\", \"remain\", \"remain\", \"remain\", \"remain\", \"remain\", \"remain\", \"remember\", \"remember\", \"remember\", \"remind\", \"report\", \"report\", \"report\", \"report\", \"report\", \"report\", \"report\", \"report\", \"request\", \"request\", \"request\", \"reservation\", \"reservation\", \"restriction\", \"restriction\", \"right\", \"right\", \"right\", \"right\", \"right\", \"right\", \"right\", \"rise\", \"rise\", \"rise\", \"rise\", \"rise\", \"rise\", \"riteish\", \"role\", \"role\", \"role\", \"role\", \"role\", \"role\", \"route\", \"rubber\", \"ruldu\", \"rule\", \"rule\", \"rule\", \"rule\", \"rule\", \"run\", \"run\", \"run\", \"run\", \"run\", \"run\", \"run\", \"saint\", \"sample\", \"sample\", \"sample\", \"sanction\", \"sanction\", \"sawant\", \"say\", \"say\", \"say\", \"say\", \"say\", \"say\", \"say\", \"say\", \"say\", \"say\", \"score\", \"score\", \"season\", \"season\", \"season\", \"season\", \"season\", \"season\", \"sebcs\", \"second\", \"second\", \"second\", \"second\", \"second\", \"second\", \"sector\", \"sector\", \"sector\", \"security\", \"security\", \"see\", \"see\", \"see\", \"see\", \"see\", \"see\", \"see\", \"see\", \"seek\", \"seek\", \"seek\", \"segment\", \"segment\", \"sell\", \"sell\", \"service\", \"service\", \"service\", \"service\", \"service\", \"service\", \"shardul\", \"share\", \"share\", \"share\", \"share\", \"shelf\", \"shortage\", \"shortage\", \"show\", \"show\", \"show\", \"show\", \"show\", \"show\", \"show\", \"side\", \"side\", \"side\", \"side\", \"side\", \"side\", \"sidhu\", \"sit\", \"sit\", \"site\", \"site\", \"site\", \"site\", \"site\", \"six\", \"sixth\", \"skill\", \"skill\", \"skill\", \"slow\", \"slow\", \"smash\", \"soccer\", \"soccer\", \"socially\", \"soft\", \"soft\", \"soil\", \"son\", \"son\", \"son\", \"spinner\", \"sport\", \"sport\", \"sport\", \"sport\", \"sport\", \"stage\", \"stage\", \"stage\", \"stair\", \"stall\", \"stall\", \"start\", \"start\", \"start\", \"start\", \"start\", \"start\", \"start\", \"start\", \"start\", \"state\", \"state\", \"state\", \"state\", \"state\", \"state\", \"state\", \"state\", \"state\", \"statement\", \"statement\", \"statement\", \"statement\", \"statement\", \"statement\", \"status\", \"status\", \"status\", \"stoke\", \"stop\", \"stop\", \"stop\", \"story\", \"story\", \"story\", \"story\", \"strain\", \"strategic\", \"strategic\", \"strategy\", \"strategy\", \"streaming\", \"struggle\", \"struggle\", \"struggle\", \"struggle\", \"student\", \"submit\", \"submit\", \"successful\", \"successful\", \"sugar\", \"supply\", \"supply\", \"supply\", \"sustain\", \"sustain\", \"sustain\", \"sutirtha\", \"system\", \"system\", \"table\", \"table\", \"table\", \"take\", \"take\", \"take\", \"take\", \"take\", \"take\", \"take\", \"take\", \"take\", \"talk\", \"talk\", \"talk\", \"talk\", \"talk\", \"talk\", \"team\", \"team\", \"team\", \"team\", \"team\", \"team\", \"team\", \"teaser\", \"tell\", \"tell\", \"tell\", \"tell\", \"tell\", \"tell\", \"tell\", \"tell\", \"temperature\", \"temperature\", \"tenure\", \"terminal\", \"test\", \"test\", \"test\", \"test\", \"testing\", \"testing\", \"testing\", \"thank\", \"thank\", \"thank\", \"thank\", \"thank\", \"throwback\", \"time\", \"time\", \"time\", \"time\", \"time\", \"time\", \"time\", \"time\", \"title\", \"title\", \"top\", \"top\", \"top\", \"top\", \"top\", \"top\", \"total\", \"total\", \"total\", \"total\", \"total\", \"trace\", \"trace\", \"trade\", \"trader\", \"trading\", \"tradition\", \"trailer\", \"trailer\", \"train\", \"train\", \"train\", \"train\", \"train\", \"train\", \"trainee\", \"training\", \"training\", \"training\", \"treat\", \"treat\", \"twice\", \"twice\", \"union\", \"urban\", \"use\", \"use\", \"use\", \"use\", \"use\", \"user\", \"vaccination\", \"vaccination\", \"vaccination\", \"vaccination\", \"vaccine\", \"vaccine\", \"vaccine\", \"vaccine\", \"variant\", \"variant\", \"vehicle\", \"vehicle\", \"vehicle\", \"vehicle\", \"video\", \"video\", \"video\", \"video\", \"video\", \"video\", \"viewer\", \"village\", \"village\", \"village\", \"violation\", \"violence\", \"violence\", \"visit\", \"visit\", \"visit\", \"visit\", \"visit\", \"vote\", \"vote\", \"want\", \"want\", \"want\", \"want\", \"want\", \"want\", \"want\", \"watch\", \"watch\", \"watch\", \"watch\", \"watch\", \"watch\", \"wave\", \"wave\", \"way\", \"way\", \"way\", \"way\", \"way\", \"week\", \"week\", \"week\", \"week\", \"week\", \"week\", \"week\", \"well\", \"well\", \"well\", \"well\", \"well\", \"well\", \"well\", \"well\", \"wicket\", \"win\", \"win\", \"win\", \"win\", \"win\", \"win\", \"woman\", \"woman\", \"woman\", \"woman\", \"woman\", \"woman\", \"woman\", \"woman\", \"work\", \"work\", \"work\", \"work\", \"work\", \"work\", \"work\", \"work\", \"worst\", \"would\", \"would\", \"would\", \"would\", \"would\", \"would\", \"would\", \"would\", \"would\", \"wrestlemania\", \"wrestling\", \"write\", \"write\", \"write\", \"write\", \"write\", \"write\", \"year\", \"year\", \"year\", \"year\", \"year\", \"year\", \"year\", \"year\", \"year\", \"year\", \"yuvraj\", \"yuvraj\"]}, \"R\": 30, \"lambda.step\": 0.01, \"plot.opts\": {\"xlab\": \"PC1\", \"ylab\": \"PC2\"}, \"topic.order\": [9, 8, 4, 1, 7, 6, 3, 11, 2, 10, 5]};\n",
              "\n",
              "function LDAvis_load_lib(url, callback){\n",
              "  var s = document.createElement('script');\n",
              "  s.src = url;\n",
              "  s.async = true;\n",
              "  s.onreadystatechange = s.onload = callback;\n",
              "  s.onerror = function(){console.warn(\"failed to load library \" + url);};\n",
              "  document.getElementsByTagName(\"head\")[0].appendChild(s);\n",
              "}\n",
              "\n",
              "if(typeof(LDAvis) !== \"undefined\"){\n",
              "   // already loaded: just create the visualization\n",
              "   !function(LDAvis){\n",
              "       new LDAvis(\"#\" + \"ldavis_el581402888856743208925575945\", ldavis_el581402888856743208925575945_data);\n",
              "   }(LDAvis);\n",
              "}else if(typeof define === \"function\" && define.amd){\n",
              "   // require.js is available: use it to load d3/LDAvis\n",
              "   require.config({paths: {d3: \"https://cdnjs.cloudflare.com/ajax/libs/d3/3.5.5/d3.min\"}});\n",
              "   require([\"d3\"], function(d3){\n",
              "      window.d3 = d3;\n",
              "      LDAvis_load_lib(\"https://cdn.rawgit.com/bmabey/pyLDAvis/files/ldavis.v1.0.0.js\", function(){\n",
              "        new LDAvis(\"#\" + \"ldavis_el581402888856743208925575945\", ldavis_el581402888856743208925575945_data);\n",
              "      });\n",
              "    });\n",
              "}else{\n",
              "    // require.js not available: dynamically load d3 & LDAvis\n",
              "    LDAvis_load_lib(\"https://cdnjs.cloudflare.com/ajax/libs/d3/3.5.5/d3.min.js\", function(){\n",
              "         LDAvis_load_lib(\"https://cdn.rawgit.com/bmabey/pyLDAvis/files/ldavis.v1.0.0.js\", function(){\n",
              "                 new LDAvis(\"#\" + \"ldavis_el581402888856743208925575945\", ldavis_el581402888856743208925575945_data);\n",
              "            })\n",
              "         });\n",
              "}\n",
              "</script>"
            ],
            "text/plain": [
              "PreparedData(topic_coordinates=              x         y  topics  cluster       Freq\n",
              "topic                                                \n",
              "8     -0.029086 -0.041226       1        1  17.792584\n",
              "7     -0.045132  0.009268       2        1  17.125357\n",
              "3     -0.012703  0.021879       3        1  13.785167\n",
              "0      0.040411 -0.020938       4        1  11.584883\n",
              "6      0.003003  0.021637       5        1   7.322463\n",
              "5      0.004748  0.003742       6        1   7.212435\n",
              "2      0.007446 -0.003161       7        1   6.922087\n",
              "10     0.003931  0.003831       8        1   6.839125\n",
              "1     -0.003748 -0.009884       9        1   6.742402\n",
              "9      0.015146  0.006480      10        1   3.348378\n",
              "4      0.015983  0.008371      11        1   1.325120, topic_info=            Term       Freq      Total Category  logprob  loglift\n",
              "116        share  21.000000  21.000000  Default  30.0000  30.0000\n",
              "99          post  22.000000  22.000000  Default  29.0000  29.0000\n",
              "537       police  23.000000  23.000000  Default  28.0000  28.0000\n",
              "114          see  35.000000  35.000000  Default  27.0000  27.0000\n",
              "1113    football  13.000000  13.000000  Default  26.0000  26.0000\n",
              "...          ...        ...        ...      ...      ...      ...\n",
              "19           day   0.177430  26.316259  Topic11  -7.2341  -0.6757\n",
              "1           also   0.177347  47.250632  Topic11  -7.2345  -1.2614\n",
              "145           go   0.177199  35.328531  Topic11  -7.2354  -0.9715\n",
              "215   government   0.177139  26.048331  Topic11  -7.2357  -0.6671\n",
              "58          time   0.176796  26.417348  Topic11  -7.2376  -0.6831\n",
              "\n",
              "[620 rows x 6 columns], token_table=      Topic      Freq      Term\n",
              "term                           \n",
              "1592      1  0.190434  accident\n",
              "1592      2  0.190434  accident\n",
              "1592      8  0.380868  accident\n",
              "473       1  0.181977    accuse\n",
              "473       2  0.090988    accuse\n",
              "...     ...       ...       ...\n",
              "271       8  0.024026      year\n",
              "271       9  0.096103      year\n",
              "271      10  0.024026      year\n",
              "766       1  0.108571    yuvraj\n",
              "766       2  0.651424    yuvraj\n",
              "\n",
              "[1415 rows x 3 columns], R=30, lambda_step=0.01, plot_opts={'xlab': 'PC1', 'ylab': 'PC2'}, topic_order=[9, 8, 4, 1, 7, 6, 3, 11, 2, 10, 5])"
            ]
          },
          "metadata": {
            "tags": []
          },
          "execution_count": 64
        }
      ]
    },
    {
      "cell_type": "markdown",
      "metadata": {
        "id": "Q49EtMtUBD6H"
      },
      "source": [
        "Intertropic Distance Map using pyLDAvis was made using two different values of no. of components i.e. 10 and 11.Better cluster representation is observed for no. of components equal to 10"
      ]
    },
    {
      "cell_type": "code",
      "metadata": {
        "id": "9oQEjRWmEgpU"
      },
      "source": [
        "import pyLDAvis.gensim\n",
        "import pickle \n",
        "import pyLDAvis\n",
        "\n",
        "# Visualize the topics\n",
        "pyLDAvis.enable_notebook()\n",
        "\n",
        "LDAvis_data_filepath = os.path.join('./results/ldavis_tuned_'+str(num_topics))\n",
        "\n",
        "# # this is a bit time consuming - make the if statement True\n",
        "# # if you want to execute visualization prep yourself\n",
        "if 1 == 1:\n",
        "    LDAvis_prepared = pyLDAvis.gensim.prepare(lda_model, corpus, id2word)\n",
        "    with open(LDAvis_data_filepath, 'wb') as f:\n",
        "        pickle.dump(LDAvis_prepared, f)\n",
        "\n",
        "# load the pre-prepared pyLDAvis data from disk\n",
        "with open(LDAvis_data_filepath, 'rb') as f:\n",
        "    LDAvis_prepared = pickle.load(f)\n",
        "\n",
        "pyLDAvis.save_html(LDAvis_prepared, './results/ldavis_tuned_'+ str(num_topics) +'.html')\n",
        "\n",
        "LDAvis_prepared"
      ],
      "execution_count": null,
      "outputs": []
    }
  ]
}