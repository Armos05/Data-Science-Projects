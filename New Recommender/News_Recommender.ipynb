{
  "nbformat": 4,
  "nbformat_minor": 0,
  "metadata": {
    "colab": {
      "name": "News_Recommender.ipynb",
      "provenance": [],
      "collapsed_sections": []
    },
    "kernelspec": {
      "name": "python3",
      "display_name": "Python 3"
    },
    "language_info": {
      "name": "python"
    }
  },
  "cells": [
    {
      "cell_type": "markdown",
      "metadata": {
        "id": "ZqOrx-ETcX2A"
      },
      "source": [
        "# Scrapped News"
      ]
    },
    {
      "cell_type": "markdown",
      "metadata": {
        "id": "sbcg0PuWcdV7"
      },
      "source": [
        "## Importing News Corpus \n",
        "\n",
        "This News corpus can be updated after each session."
      ]
    },
    {
      "cell_type": "code",
      "metadata": {
        "colab": {
          "resources": {
            "http://localhost:8080/nbextensions/google.colab/files.js": {
              "data": "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",
              "ok": true,
              "headers": [
                [
                  "content-type",
                  "application/javascript"
                ]
              ],
              "status": 200,
              "status_text": ""
            }
          },
          "base_uri": "https://localhost:8080/",
          "height": 72
        },
        "id": "gVHJBLv7cOYX",
        "outputId": "a98d3538-04c6-4e27-c64c-12f49dda7cf3"
      },
      "source": [
        "from google.colab import files\n",
        "uploaded = files.upload()"
      ],
      "execution_count": null,
      "outputs": [
        {
          "output_type": "display_data",
          "data": {
            "text/html": [
              "\n",
              "     <input type=\"file\" id=\"files-8caf3827-c951-4345-a5a7-4fdd8b999d1b\" name=\"files[]\" multiple disabled\n",
              "        style=\"border:none\" />\n",
              "     <output id=\"result-8caf3827-c951-4345-a5a7-4fdd8b999d1b\">\n",
              "      Upload widget is only available when the cell has been executed in the\n",
              "      current browser session. Please rerun this cell to enable.\n",
              "      </output>\n",
              "      <script src=\"/nbextensions/google.colab/files.js\"></script> "
            ],
            "text/plain": [
              "<IPython.core.display.HTML object>"
            ]
          },
          "metadata": {
            "tags": []
          }
        },
        {
          "output_type": "stream",
          "text": [
            "Saving news_articles_final.csv to news_articles_final.csv\n"
          ],
          "name": "stdout"
        }
      ]
    },
    {
      "cell_type": "code",
      "metadata": {
        "colab": {
          "base_uri": "https://localhost:8080/",
          "height": 204
        },
        "id": "UmZ_tnNmc01R",
        "outputId": "0f742e4a-1981-4924-c62f-1c9a4db7179e"
      },
      "source": [
        "import pandas as pd\n",
        "\n",
        "news = pd.read_csv('news_articles_final.csv')\n",
        "\n",
        "news.head()\n"
      ],
      "execution_count": null,
      "outputs": [
        {
          "output_type": "execute_result",
          "data": {
            "text/html": [
              "<div>\n",
              "<style scoped>\n",
              "    .dataframe tbody tr th:only-of-type {\n",
              "        vertical-align: middle;\n",
              "    }\n",
              "\n",
              "    .dataframe tbody tr th {\n",
              "        vertical-align: top;\n",
              "    }\n",
              "\n",
              "    .dataframe thead th {\n",
              "        text-align: right;\n",
              "    }\n",
              "</style>\n",
              "<table border=\"1\" class=\"dataframe\">\n",
              "  <thead>\n",
              "    <tr style=\"text-align: right;\">\n",
              "      <th></th>\n",
              "      <th>Unnamed: 0</th>\n",
              "      <th>Headline</th>\n",
              "      <th>Content</th>\n",
              "    </tr>\n",
              "  </thead>\n",
              "  <tbody>\n",
              "    <tr>\n",
              "      <th>0</th>\n",
              "      <td>0</td>\n",
              "      <td>IMD: Clear skies, less intense heat over Pune ...</td>\n",
              "      <td>Heat conditions over Pune were relatively less...</td>\n",
              "    </tr>\n",
              "    <tr>\n",
              "      <th>1</th>\n",
              "      <td>1</td>\n",
              "      <td>Arvind Kejriwal says no plan for lockdown in D...</td>\n",
              "      <td>Even as the Covid-19 cases continue to rise in...</td>\n",
              "    </tr>\n",
              "    <tr>\n",
              "      <th>2</th>\n",
              "      <td>2</td>\n",
              "      <td>BJP opposes Pune administration’s decision to ...</td>\n",
              "      <td>The BJP on Friday slammed the Pune administrat...</td>\n",
              "    </tr>\n",
              "    <tr>\n",
              "      <th>3</th>\n",
              "      <td>3</td>\n",
              "      <td>Body of Delhi Police constable’s wife found ha...</td>\n",
              "      <td>A Delhi Police constable’s wife allegedly hang...</td>\n",
              "    </tr>\n",
              "    <tr>\n",
              "      <th>4</th>\n",
              "      <td>4</td>\n",
              "      <td>Pune: HSC board exams from April 23, hall tick...</td>\n",
              "      <td>– Stay updated with the latest Pune news. Foll...</td>\n",
              "    </tr>\n",
              "  </tbody>\n",
              "</table>\n",
              "</div>"
            ],
            "text/plain": [
              "   Unnamed: 0  ...                                            Content\n",
              "0           0  ...  Heat conditions over Pune were relatively less...\n",
              "1           1  ...  Even as the Covid-19 cases continue to rise in...\n",
              "2           2  ...  The BJP on Friday slammed the Pune administrat...\n",
              "3           3  ...  A Delhi Police constable’s wife allegedly hang...\n",
              "4           4  ...  – Stay updated with the latest Pune news. Foll...\n",
              "\n",
              "[5 rows x 3 columns]"
            ]
          },
          "metadata": {
            "tags": []
          },
          "execution_count": 4
        }
      ]
    },
    {
      "cell_type": "code",
      "metadata": {
        "colab": {
          "base_uri": "https://localhost:8080/"
        },
        "id": "vG9pbNTFCQ-k",
        "outputId": "bd9f5401-5a0d-453f-a719-a7203aba2690"
      },
      "source": [
        "news.columns"
      ],
      "execution_count": null,
      "outputs": [
        {
          "output_type": "execute_result",
          "data": {
            "text/plain": [
              "Index(['Headline', 'Content'], dtype='object')"
            ]
          },
          "metadata": {
            "tags": []
          },
          "execution_count": 57
        }
      ]
    },
    {
      "cell_type": "markdown",
      "metadata": {
        "id": "TJBqT98Ie4Rp"
      },
      "source": [
        "## Importing Libraries"
      ]
    },
    {
      "cell_type": "code",
      "metadata": {
        "colab": {
          "base_uri": "https://localhost:8080/"
        },
        "id": "ULB48htpdtBU",
        "outputId": "cf227566-d9f9-4d60-efdc-25191ebc1b3e"
      },
      "source": [
        "import numpy as np\n",
        "import pandas as pd\n",
        "from nltk.tokenize.toktok import ToktokTokenizer\n",
        "from sklearn.feature_extraction.text import TfidfVectorizer\n",
        "from sklearn.metrics.pairwise import cosine_similarity\n",
        "import re\n",
        "from nltk.stem.snowball import SnowballStemmer\n",
        "from nltk.corpus import stopwords\n",
        "from scipy.sparse import csr_matrix\n",
        "import nltk\n",
        "import  sklearn\n",
        "from collections import Counter\n",
        "stemmer = SnowballStemmer('english')\n",
        "tokenizer = ToktokTokenizer()\n",
        "nltk.download('stopwords')\n",
        "stops = set(stopwords.words('english'))\n",
        "from sklearn.decomposition import LatentDirichletAllocation\n",
        " \n",
        "no_of_recommends = 10\n",
        "n_topics = 10\n",
        "no_of_clusters = 10\n",
        "news = news[['Headline','Content']].dropna()\n",
        "contents = news[\"Content\"].tolist()\n",
        "title = news['Headline']\n",
        "# article_id = news['Article_Id']\n",
        "from sklearn.preprocessing import Normalizer\n",
        "from sklearn.cluster import KMeans\n",
        "from sklearn.feature_extraction.text import CountVectorizer \n",
        "from sklearn.preprocessing import normalize\n",
        "import pickle as pk\n",
        "\n"
      ],
      "execution_count": null,
      "outputs": [
        {
          "output_type": "stream",
          "text": [
            "[nltk_data] Downloading package stopwords to /root/nltk_data...\n",
            "[nltk_data]   Unzipping corpora/stopwords.zip.\n"
          ],
          "name": "stdout"
        }
      ]
    },
    {
      "cell_type": "code",
      "metadata": {
        "colab": {
          "base_uri": "https://localhost:8080/"
        },
        "id": "YO0mb2TdfRM1",
        "outputId": "aa494b93-43d6-4254-ff57-2011f6ef199a"
      },
      "source": [
        "nltk.download('stopwords')\n",
        "nltk.download('punkt')"
      ],
      "execution_count": null,
      "outputs": [
        {
          "output_type": "stream",
          "text": [
            "[nltk_data] Downloading package stopwords to /root/nltk_data...\n",
            "[nltk_data]   Package stopwords is already up-to-date!\n",
            "[nltk_data] Downloading package punkt to /root/nltk_data...\n",
            "[nltk_data]   Unzipping tokenizers/punkt.zip.\n"
          ],
          "name": "stdout"
        },
        {
          "output_type": "execute_result",
          "data": {
            "text/plain": [
              "True"
            ]
          },
          "metadata": {
            "tags": []
          },
          "execution_count": 6
        }
      ]
    },
    {
      "cell_type": "markdown",
      "metadata": {
        "id": "hyyLeqtThecW"
      },
      "source": [
        "## Stemming and Tokenization of the Content"
      ]
    },
    {
      "cell_type": "code",
      "metadata": {
        "colab": {
          "base_uri": "https://localhost:8080/"
        },
        "id": "Vx_4_8Q-fZOt",
        "outputId": "8b0c5ce9-963b-4b26-d185-b257f03a9ab2"
      },
      "source": [
        "def clean_tokenize(document):                                 ## here documents are the contents of the articles stored in the list format\n",
        "    document = re.sub('[^\\w_\\s-]',' ',document)               ## regex sub fucntion was to remove regex from content before tokenization\n",
        "    tokens  = nltk.word_tokenize(document)                    ## Tokenizing all the words of the article\n",
        "    cleaned_article = ' '.join([stemmer.stem(item) for item in tokens])   #Fir har token ka stem leke join kr diya in an attempt to reconstruct the articles.\n",
        "    return cleaned_article\n",
        "\n",
        "print('apple')\n",
        "cleaned_articles = list(map(clean_tokenize,contents))         ## All the contents in the list form are going into a function called clean tokenzise"
      ],
      "execution_count": null,
      "outputs": [
        {
          "output_type": "stream",
          "text": [
            "apple\n"
          ],
          "name": "stdout"
        }
      ]
    },
    {
      "cell_type": "code",
      "metadata": {
        "colab": {
          "base_uri": "https://localhost:8080/"
        },
        "id": "xsYHrKq3hmj_",
        "outputId": "e9c01522-ab43-498e-e66c-b03cc744194b"
      },
      "source": [
        "print(len(cleaned_articles))"
      ],
      "execution_count": null,
      "outputs": [
        {
          "output_type": "stream",
          "text": [
            "3035\n"
          ],
          "name": "stdout"
        }
      ]
    },
    {
      "cell_type": "markdown",
      "metadata": {
        "id": "q4hEwUdvi_xS"
      },
      "source": [
        "## Removing Stopwords\n",
        "\n",
        "Since our stopwords \"stop\" is a set, we further add some stopwords to be reomved and add it to the set with the help of union function."
      ]
    },
    {
      "cell_type": "code",
      "metadata": {
        "colab": {
          "base_uri": "https://localhost:8080/"
        },
        "id": "kI7CqdH6k1yT",
        "outputId": "c3b88692-a57a-4eeb-e33c-628ee3d3d51f"
      },
      "source": [
        "type(stops)"
      ],
      "execution_count": null,
      "outputs": [
        {
          "output_type": "execute_result",
          "data": {
            "text/plain": [
              "set"
            ]
          },
          "metadata": {
            "tags": []
          },
          "execution_count": 19
        }
      ]
    },
    {
      "cell_type": "code",
      "metadata": {
        "id": "Zd-6mF-HlrE5"
      },
      "source": [
        "my_additional_stop_word_list = {'said','people','says','told','from', 'Promoted', 'Jiosavan', 'PromotedListen', 'courtsey', 'image', } #further addition of stop words found irelevant to document (contains promotion content on news website)\n",
        "stops.union(my_additional_stop_word_list)"
      ],
      "execution_count": null,
      "outputs": []
    },
    {
      "cell_type": "code",
      "metadata": {
        "id": "lsRU4g8sitpz"
      },
      "source": [
        "def Remove_stopwords(list_articles):\n",
        "\n",
        "   total_WordVocab = []\n",
        "   for i in range(0,len(cleaned_articles)) :                                   \n",
        "        word_tokens = nltk.word_tokenize(cleaned_articles[i])                   ## tokenize all the words of the articles one by one and form a list of them\n",
        "        for words in word_tokens :\n",
        "            total_WordVocab.append(words)                                       ## Based on the Words from each of the articles append the Vocabulary\n",
        "        counts = Counter(total_WordVocab)                                      \n",
        "   vocab = {j:i for i,j in enumerate(counts.keys())}                           ## Make a dictionary of all the words with freq.\n",
        " \n",
        "   stops_removed = [word for word in vocab.keys() if word not in stops]        ## Remove the stop words from the vocab dictionary, and forming a list of the remaing words.\n",
        " \n",
        "   Final_VocabDict = {j:i for i,j in enumerate(stops_removed)}                 ### Dict of the accepted words with the number\n",
        "\n",
        "   return Final_VocabDict"
      ],
      "execution_count": null,
      "outputs": []
    },
    {
      "cell_type": "code",
      "metadata": {
        "id": "Kc2wGkzHnRsA"
      },
      "source": [
        "no_stopwords_article = Remove_stopwords(cleaned_articles) #final articles content with stop words removed"
      ],
      "execution_count": null,
      "outputs": []
    },
    {
      "cell_type": "markdown",
      "metadata": {
        "id": "4Ptl_yRUpWZr"
      },
      "source": [
        "## Exploratory Data Analysis"
      ]
    },
    {
      "cell_type": "markdown",
      "metadata": {
        "id": "7Tal3jo_CyxT"
      },
      "source": [
        "Count vectorizer is generated for all the articles in the corpus, and most common words excluding stop words that are used in the document are plotted."
      ]
    },
    {
      "cell_type": "code",
      "metadata": {
        "id": "E7OOLJpEnmHb"
      },
      "source": [
        "from sklearn.feature_extraction.text import CountVectorizer\n",
        "\n",
        "def get_top_n_words(n_top_words, count_vectorizer, text_data):\n",
        "    '''\n",
        "    returns a tuple of the top n words in a sample and their \n",
        "    accompanying counts, given a CountVectorizer object and text sample\n",
        "    '''\n",
        "    vectorized_headlines = count_vectorizer.fit_transform(text_data.values)\n",
        "    vectorized_total = np.sum(vectorized_headlines, axis=0)\n",
        "    word_indices = np.flip(np.argsort(vectorized_total)[0,:], 1)\n",
        "    word_values = np.flip(np.sort(vectorized_total)[0,:],1)\n",
        "    \n",
        "    word_vectors = np.zeros((n_top_words, vectorized_headlines.shape[1]))\n",
        "    for i in range(n_top_words):\n",
        "        word_vectors[i,word_indices[0,i]] = 1\n",
        "\n",
        "    words = [word[0].encode('ascii').decode('utf-8') for \n",
        "             word in count_vectorizer.inverse_transform(word_vectors)]\n",
        "\n",
        "    return (words, word_values[0,:n_top_words].tolist()[0])"
      ],
      "execution_count": null,
      "outputs": []
    },
    {
      "cell_type": "code",
      "metadata": {
        "colab": {
          "base_uri": "https://localhost:8080/",
          "height": 538
        },
        "id": "lNhFNNCPp5K5",
        "outputId": "4bf48d45-cffb-4faa-a1ee-f03c8f006adc"
      },
      "source": [
        "import matplotlib.pyplot as plt\n",
        "\n",
        "\n",
        "count_vectorizer = CountVectorizer(stop_words=frozenset(stops))\n",
        "\n",
        "words, word_values = get_top_n_words(n_top_words=15, count_vectorizer=count_vectorizer, text_data=pd.Series(cleaned_articles))\n",
        "\n",
        "fig, ax = plt.subplots(figsize=(16,8))\n",
        "ax.bar(range(len(words)), word_values);\n",
        "ax.set_xticks(range(len(words)));\n",
        "ax.set_xticklabels(words, rotation='vertical');\n",
        "ax.set_title('Top words in articles dataset (excluding stop words)');\n",
        "ax.set_xlabel('Word');\n",
        "ax.set_ylabel('Number of occurences');\n",
        "plt.show()"
      ],
      "execution_count": null,
      "outputs": [
        {
          "output_type": "display_data",
          "data": {
            "image/png": "[encoded data removed]",
            "text/plain": [
              "<Figure size 1152x576 with 1 Axes>"
            ]
          },
          "metadata": {
            "tags": [],
            "needs_background": "light"
          }
        }
      ]
    },
    {
      "cell_type": "markdown",
      "metadata": {
        "id": "1cK4y4HFDJ0Q"
      },
      "source": [
        "A skewed distribution was observed. Word 'said' was found to be the most common word in the list of all the words. "
      ]
    },
    {
      "cell_type": "markdown",
      "metadata": {
        "id": "huRkRx21slmN"
      },
      "source": [
        "## Choosing The correct cluster size\n",
        "\n"
      ]
    },
    {
      "cell_type": "markdown",
      "metadata": {
        "id": "PM-9ha8kDvMY"
      },
      "source": [
        "No. of components/no. of topics/cluster size is  a hyperparameter and should be defined when calling the instance of LDA. "
      ]
    },
    {
      "cell_type": "markdown",
      "metadata": {
        "id": "AQmGmgXcEkeq"
      },
      "source": [
        "So value for the hyperparameter based on the initial dataset was found out by calculating coherence score and the analysis for the same can be found out in seperate notebook titled 'Evaluate Topic Models'. No. of components which was found to give best results was 10."
      ]
    },
    {
      "cell_type": "markdown",
      "metadata": {
        "id": "VjK12kLzzkD-"
      },
      "source": [
        "## Performing LDA"
      ]
    },
    {
      "cell_type": "markdown",
      "metadata": {
        "id": "ZAbSw9agFBeI"
      },
      "source": [
        "TF-IDF matrix for the words appearing in the documents was constructed, with assigning higher values to words which occur less frequently in the document. This words help in assigning identity to the document as they are relatively unique to the document"
      ]
    },
    {
      "cell_type": "markdown",
      "metadata": {
        "id": "S4MagR2LFYoM"
      },
      "source": [
        "The approach seems to produce better output as compared to countvectorizer which assigns higher values to the most common occuring words. The approach works poorer as the higher values are assigned for common words which doesn't differentiate two articles on based of a single word."
      ]
    },
    {
      "cell_type": "code",
      "metadata": {
        "id": "4JerfA-xz2hX"
      },
      "source": [
        "def Topic_Modeller(Final_VocabDict):\n",
        "\n",
        "    Tfidf = TfidfVectorizer(min_df=1,vocabulary=Final_VocabDict)                ## Removing words below the minimum threshold . \n",
        " \n",
        " \n",
        "    Tfidf_Matrix = Tfidf.fit_transform(cleaned_articles)                        ## Generating Tf-IDF matrix\n",
        " \n",
        "    Lda = LatentDirichletAllocation(n_components=n_topics,max_iter=1,random_state=0)\n",
        "    \n",
        "    Lda_articlemat = Lda.fit_transform(Tfidf_Matrix)\n",
        "\n",
        " \n",
        "    return Lda_articlemat  "
      ],
      "execution_count": null,
      "outputs": []
    },
    {
      "cell_type": "code",
      "metadata": {
        "id": "0P-JGOuX0EtN"
      },
      "source": [
        "Lda_articlemat = Topic_Modeller(no_stopwords_article)"
      ],
      "execution_count": null,
      "outputs": []
    },
    {
      "cell_type": "code",
      "metadata": {
        "colab": {
          "base_uri": "https://localhost:8080/"
        },
        "id": "8HdEEV7m0JNO",
        "outputId": "70960b3e-2239-4931-fceb-ccaf33207dcc"
      },
      "source": [
        "Lda_articlemat.shape"
      ],
      "execution_count": null,
      "outputs": [
        {
          "output_type": "execute_result",
          "data": {
            "text/plain": [
              "(3035, 10)"
            ]
          },
          "metadata": {
            "tags": []
          },
          "execution_count": 36
        }
      ]
    },
    {
      "cell_type": "markdown",
      "metadata": {
        "id": "yH2eQ8JD0qKi"
      },
      "source": [
        "## Performing Clustering Based on LDA"
      ]
    },
    {
      "cell_type": "markdown",
      "metadata": {
        "id": "IIycw6k6Fw-T"
      },
      "source": [
        "Clustering using K-means was performed for the topics generated using LDA"
      ]
    },
    {
      "cell_type": "code",
      "metadata": {
        "id": "wCxwKNFp0mCa"
      },
      "source": [
        "kmeans = KMeans(n_clusters=no_of_clusters)\n",
        "clustered_articles_matrix = kmeans.fit_transform(Lda_articlemat)  "
      ],
      "execution_count": null,
      "outputs": []
    },
    {
      "cell_type": "code",
      "metadata": {
        "colab": {
          "base_uri": "https://localhost:8080/"
        },
        "id": "Wpi5MdHy0gc7",
        "outputId": "8d644894-d220-4d1c-b3c8-bb18bea5b926"
      },
      "source": [
        "clustered_articles_matrix.shape"
      ],
      "execution_count": null,
      "outputs": [
        {
          "output_type": "execute_result",
          "data": {
            "text/plain": [
              "(3035, 10)"
            ]
          },
          "metadata": {
            "tags": []
          },
          "execution_count": 39
        }
      ]
    },
    {
      "cell_type": "code",
      "metadata": {
        "colab": {
          "base_uri": "https://localhost:8080/"
        },
        "id": "SSoIT9qa5oyU",
        "outputId": "fc930dad-2a0c-413f-a363-60319bdf1be6"
      },
      "source": [
        "wordtokens_article = [word.split() for word in cleaned_articles]\n",
        "len(wordtokens_article)"
      ],
      "execution_count": null,
      "outputs": [
        {
          "output_type": "execute_result",
          "data": {
            "text/plain": [
              "3035"
            ]
          },
          "metadata": {
            "tags": []
          },
          "execution_count": 43
        }
      ]
    },
    {
      "cell_type": "code",
      "metadata": {
        "colab": {
          "base_uri": "https://localhost:8080/"
        },
        "id": "3wTScn4EDkvj",
        "outputId": "2ca55679-8c46-45d2-d36b-2283e7b54ec1"
      },
      "source": [
        "len(wordtokens_article[1])"
      ],
      "execution_count": null,
      "outputs": [
        {
          "output_type": "execute_result",
          "data": {
            "text/plain": [
              "514"
            ]
          },
          "metadata": {
            "tags": []
          },
          "execution_count": 60
        }
      ]
    },
    {
      "cell_type": "markdown",
      "metadata": {
        "id": "1-5EC_ZC2Gas"
      },
      "source": [
        "## Defining User Profiler\n",
        "\n",
        "This funtion generates the user profile matrix based on which we will make recommendations to the user"
      ]
    },
    {
      "cell_type": "markdown",
      "metadata": {
        "id": "aaM4EH88GSTV"
      },
      "source": [
        "Based on the no. of words in the document user interest i.e. whether the user has read the article or not is calculated if the time taken by the reader divided by the average time to read an article is close to one then it is counted that user has read the article"
      ]
    },
    {
      "cell_type": "code",
      "metadata": {
        "id": "uFigLUSs00BY"
      },
      "source": [
        "def user_profiler(wordtokens,article_read,article_time):\n",
        "    user_profile = []\n",
        "    wordPer_second = 5                #average no. of words read in a second\n",
        "    \n",
        "\n",
        "    for i in range(len(wordtokens)):                                        \n",
        "\n",
        "        average_time = (len(wordtokens[i])/wordPer_second) #length of wordtokslist by wps gives us avg time to read the article\n",
        "         \n",
        "        user_interest_timevalue = article_time[i]/average_time  #article_times divide by avg times of each article                   \n",
        "        \n",
        "        user_profile_generate = (article_read[i]*user_interest_timevalue)   #clustered_articles_matrix[] * user_interest_time calculated                 \n",
        "        \n",
        "        user_profile.append(user_profile_generate)                                      \n",
        "\n",
        "    return sum(normalize(user_profile))                             \n",
        "\n",
        "\n"
      ],
      "execution_count": null,
      "outputs": []
    },
    {
      "cell_type": "code",
      "metadata": {
        "colab": {
          "base_uri": "https://localhost:8080/",
          "height": 142
        },
        "id": "L8SpABsekq4w",
        "outputId": "59c8aea3-feea-40d4-86ed-0cd89345ec28"
      },
      "source": [
        "User_profile_df"
      ],
      "execution_count": null,
      "outputs": [
        {
          "output_type": "execute_result",
          "data": {
            "text/html": [
              "<div>\n",
              "<style scoped>\n",
              "    .dataframe tbody tr th:only-of-type {\n",
              "        vertical-align: middle;\n",
              "    }\n",
              "\n",
              "    .dataframe tbody tr th {\n",
              "        vertical-align: top;\n",
              "    }\n",
              "\n",
              "    .dataframe thead th {\n",
              "        text-align: right;\n",
              "    }\n",
              "</style>\n",
              "<table border=\"1\" class=\"dataframe\">\n",
              "  <thead>\n",
              "    <tr style=\"text-align: right;\">\n",
              "      <th></th>\n",
              "      <th>UserId</th>\n",
              "      <th>SessionID</th>\n",
              "      <th>ArticleID</th>\n",
              "      <th>Time_Spent</th>\n",
              "    </tr>\n",
              "  </thead>\n",
              "  <tbody>\n",
              "    <tr>\n",
              "      <th>0</th>\n",
              "      <td>1</td>\n",
              "      <td>1</td>\n",
              "      <td>600</td>\n",
              "      <td>120</td>\n",
              "    </tr>\n",
              "    <tr>\n",
              "      <th>1</th>\n",
              "      <td>1</td>\n",
              "      <td>1</td>\n",
              "      <td>99</td>\n",
              "      <td>60</td>\n",
              "    </tr>\n",
              "    <tr>\n",
              "      <th>2</th>\n",
              "      <td>1</td>\n",
              "      <td>1</td>\n",
              "      <td>120</td>\n",
              "      <td>30</td>\n",
              "    </tr>\n",
              "  </tbody>\n",
              "</table>\n",
              "</div>"
            ],
            "text/plain": [
              "  UserId  SessionID  ArticleID  Time_Spent\n",
              "0      1          1        600         120\n",
              "1      1          1         99          60\n",
              "2      1          1        120          30"
            ]
          },
          "metadata": {
            "tags": []
          },
          "execution_count": 185
        }
      ]
    },
    {
      "cell_type": "markdown",
      "metadata": {
        "id": "t7kaj4X_7uC6"
      },
      "source": [
        "Suppose Sample user profiler is one of the dataframe provided to us. Then it will be converted using the user profiler\n"
      ]
    },
    {
      "cell_type": "markdown",
      "metadata": {
        "id": "Ja0BbvU_G7Cq"
      },
      "source": [
        "Initially a clickstream dataset for 1000 users was generated using Gaussian mixture model which generates the data about the amount of time user spent on the article so that whether it should be counted as whether user have read the article or not with interest."
      ]
    },
    {
      "cell_type": "markdown",
      "metadata": {
        "id": "MHYuPW1EHUKO"
      },
      "source": [
        "A detailed explanation and code implemenation on how the user dataset is generated can be found in the Notebook titled 'User Profiler'"
      ]
    },
    {
      "cell_type": "code",
      "metadata": {
        "colab": {
          "base_uri": "https://localhost:8080/"
        },
        "id": "3YAlF9-k2KH4",
        "outputId": "d9928f22-6032-4464-a0e7-8e337d7361c7"
      },
      "source": [
        "sample_user_profile = {'UserId': ['1','1','1'],\n",
        "                       'SessionID': [1,1,1],\n",
        "                       'ArticleID' : [600,99,120],\n",
        "                       'Time_Spent' : [120,60,30]\n",
        "                      }\n",
        "\n",
        "User_profile_df = pd.DataFrame(sample_user_profile, columns = ['UserId', 'SessionID', 'ArticleID', 'Time_Spent'])\n",
        "\n",
        "print (User_profile_df)\n",
        "x,y = User_profile_df.shape\n",
        "print(x)\n",
        "\n",
        "list_word_tokens = [ ]\n",
        "list_clustered_articles = [ ]\n",
        "list_time = [ ]\n",
        "\n",
        "for i in range(x):\n",
        "  list_word_tokens.append(wordtokens_article[User_profile_df.iloc[i]['ArticleID']])\n",
        "  list_clustered_articles.append(clustered_articles_matrix[User_profile_df.iloc[i]['ArticleID']])\n",
        "  list_time.append(User_profile_df.iloc[i]['Time_Spent'])\n",
        "\n",
        "userProfile_one = user_profiler([wordtokens_article[600],wordtokens_article[99],wordtokens_article[120]],[clustered_articles_matrix[600],clustered_articles_matrix[99],clustered_articles_matrix[120]],[120,60,30])\n"
      ],
      "execution_count": null,
      "outputs": [
        {
          "output_type": "stream",
          "text": [
            "  UserId  SessionID  ArticleID  Time_Spent\n",
            "0      1          1        600         120\n",
            "1      1          1         99          60\n",
            "2      1          1        120          30\n",
            "3\n"
          ],
          "name": "stdout"
        }
      ]
    },
    {
      "cell_type": "code",
      "metadata": {
        "colab": {
          "base_uri": "https://localhost:8080/"
        },
        "id": "cvZO7zW1Xh77",
        "outputId": "719e89fc-63af-4aee-8fe6-9df9a23e0778"
      },
      "source": [
        "userProfile_one = user_profiler(list_word_tokens,list_clustered_articles,list_time)\n",
        "userProfile_one\n"
      ],
      "execution_count": null,
      "outputs": [
        {
          "output_type": "execute_result",
          "data": {
            "text/plain": [
              "array([0.98154505, 0.99697577, 1.01763992, 0.3769294 , 1.00296396,\n",
              "       1.00101741, 0.70264259, 1.00046431, 1.00832947, 0.9754945 ])"
            ]
          },
          "metadata": {
            "tags": []
          },
          "execution_count": 121
        }
      ]
    },
    {
      "cell_type": "markdown",
      "metadata": {
        "id": "_vwiPQ25_l49"
      },
      "source": [
        "## Generating a Random Click Stream Data for 1000 users using the Gaussian Mixture Model"
      ]
    },
    {
      "cell_type": "markdown",
      "metadata": {
        "id": "yVSIydYZQupO"
      },
      "source": [
        "### Example of A gaussian Mixture Model"
      ]
    },
    {
      "cell_type": "code",
      "metadata": {
        "colab": {
          "base_uri": "https://localhost:8080/",
          "height": 299
        },
        "id": "-QSYt_K8PBQN",
        "outputId": "f60b8b17-389a-4c2b-d1d1-caef954baf60"
      },
      "source": [
        "\n",
        "mu = 0\n",
        "sigma = 1\n",
        "x1 =np.linspace(mu - 3*sigma, mu + 3*sigma, 100).tolist()\n",
        "\n",
        "y1 = stats.norm.pdf(x, mu, sigma).tolist()\n",
        "\n",
        "mu_1 = 2.3\n",
        "sigma_1 = 1\n",
        "x2 = [1, 3, 5]\n",
        "\n",
        "x2 =np.linspace(mu_1 - 3*sigma_1, mu_1 + 3*sigma_1, 100).tolist()\n",
        "\n",
        "y2 = stats.norm.pdf(x2, mu_1, sigma_1).tolist()\n",
        "\n",
        "\n",
        "plt.plot(x1, y1)\n",
        "plt.plot(x2, y2)\n"
      ],
      "execution_count": null,
      "outputs": [
        {
          "output_type": "execute_result",
          "data": {
            "text/plain": [
              "[<matplotlib.lines.Line2D at 0x7fd0dee07750>]"
            ]
          },
          "metadata": {
            "tags": []
          },
          "execution_count": 92
        },
        {
          "output_type": "display_data",
          "data": {
            "image/png": "[encoded data removed]",
            "text/plain": [
              "<Figure size 432x288 with 1 Axes>"
            ]
          },
          "metadata": {
            "tags": []
          }
        }
      ]
    },
    {
      "cell_type": "code",
      "metadata": {
        "id": "Cs7ZU9VJQ_bX"
      },
      "source": [
        "import random"
      ],
      "execution_count": null,
      "outputs": []
    },
    {
      "cell_type": "code",
      "metadata": {
        "id": "MqKCwSkLD2BY"
      },
      "source": [
        "def Gaussian_Mixture(word_length):\n",
        "\n",
        "  thorough_avg_time = word_length/4\n",
        "  skimmming_avg_time = thorough_avg_time/5\n",
        "  \n",
        "  mu_2 = thorough_avg_time\n",
        "  sigma_2 = 40\n",
        "  x2 =np.linspace(mu_2 - 3*sigma_2, mu_2 + 3*sigma_2, 100).tolist()\n",
        "\n",
        "  y2 = stats.norm.pdf(x1, mu_2, sigma_2).tolist()\n",
        "\n",
        "  mu_3 = skimmming_avg_time\n",
        "  sigma_3 = 20\n",
        "\n",
        "\n",
        "  x3 =np.linspace(mu_3 - 3*sigma_3, mu_3 + 3*sigma_3, 100).tolist()\n",
        "\n",
        "  y3 = stats.norm.pdf(x3, mu_3, sigma_3).tolist()\n",
        "\n",
        "  y4 = 50*y2 + 40*y3\n",
        "  random_time = random.choice(y4)\n",
        "\n",
        "\n",
        "  return(random_time) \n",
        "\n",
        "\n",
        "\n"
      ],
      "execution_count": null,
      "outputs": []
    },
    {
      "cell_type": "markdown",
      "metadata": {
        "id": "EYt1tKJh8cHz"
      },
      "source": [
        "### Making a new dataframe of 1000 users using Gaussian Mixture Model"
      ]
    },
    {
      "cell_type": "code",
      "metadata": {
        "id": "rG3k_kF0A3mA"
      },
      "source": [
        "import random\n",
        "\n",
        "new_users= 1000                                 #ENTER THE NUMBER OF NEW USERS you want to add\n",
        "\n",
        "\n",
        "NEW_USER_PROFILE=[]\n",
        " \n",
        "# UserId  SessionID  ArticleID  Time_Spent \n",
        "for j in range(new_users):\n",
        "    UserID = []\n",
        "    SessionID = []\n",
        "    ArticleID = []\n",
        "    Time_Spent = []\n",
        "  \n",
        "    \n",
        "   \n",
        "    for i in range(5):\n",
        "        ArticleID.append(random.randint(0, 3035))\n",
        "        UserID.append(j)\n",
        "        SessionID.append(1)\n",
        "        Time_Spent.append(10000*Gaussian_Mixture(len(wordtokens_article[j])))\n",
        "\n",
        "    profile_new=pd.DataFrame()\n",
        "    profile_new['UserID']= UserID\n",
        "    profile_new[\"SessionID\"]= SessionID\n",
        "    profile_new['AticleID'] = ArticleID\n",
        "    profile_new['Time_Spent']= Time_Spent\n",
        "\n",
        "    profile_new.sort_values(by=['UserID'], inplace=True,ascending=True)\n",
        "    NEW_USER_PROFILE.append(profile_new)\n",
        "  "
      ],
      "execution_count": null,
      "outputs": []
    },
    {
      "cell_type": "code",
      "metadata": {
        "colab": {
          "base_uri": "https://localhost:8080/"
        },
        "id": "1Q2ujjSAT2c7",
        "outputId": "d2eca5dc-f356-435d-eb94-0958bcca468a"
      },
      "source": [
        "NEW_USER_PROFILE"
      ],
      "execution_count": null,
      "outputs": [
        {
          "output_type": "execute_result",
          "data": {
            "text/plain": [
              "[   UserID  SessionID  AticleID  Time_Spent\n",
              " 0       0          1      1860   85.601760\n",
              " 1       0          1      1894  142.730583\n",
              " 2       0          1       345    4.452909\n",
              " 3       0          1       765   85.529989\n",
              " 4       0          1       313   87.957930,\n",
              "    UserID  SessionID  AticleID  Time_Spent\n",
              " 0       1          1      2528  192.189042\n",
              " 1       1          1      2792    0.453233\n",
              " 2       1          1      1759  120.985362\n",
              " 3       1          1      2470   72.344275\n",
              " 4       1          1      2790    0.666730,\n",
              "    UserID  SessionID  AticleID  Time_Spent\n",
              " 0       2          1      1731    1.168561\n",
              " 1       2          1      2605  113.661753\n",
              " 2       2          1      2481    1.272788\n",
              " 3       2          1       829   11.361116\n",
              " 4       2          1      2328  106.389965,\n",
              "    UserID  SessionID  AticleID  Time_Spent\n",
              " 0       3          1      2034  156.457778\n",
              " 1       3          1       802   63.434764\n",
              " 2       3          1      2933   55.929889\n",
              " 3       3          1      2921   57.390539\n",
              " 4       3          1      1779   62.153518,\n",
              "    UserID  SessionID  AticleID  Time_Spent\n",
              " 0       4          1      1990  113.661753\n",
              " 1       4          1      2169   78.721594\n",
              " 2       4          1      1244   98.049543\n",
              " 3       4          1      1208   98.103974\n",
              " 4       4          1      2725   97.230251]"
            ]
          },
          "metadata": {
            "tags": []
          },
          "execution_count": 116
        }
      ]
    },
    {
      "cell_type": "code",
      "metadata": {
        "colab": {
          "base_uri": "https://localhost:8080/"
        },
        "id": "I75LstiJflU9",
        "outputId": "f177b05e-60bf-4ac2-aa80-283c65537c96"
      },
      "source": [
        "len(NEW_USER_PROFILE)"
      ],
      "execution_count": null,
      "outputs": [
        {
          "output_type": "execute_result",
          "data": {
            "text/plain": [
              "1000"
            ]
          },
          "metadata": {
            "tags": []
          },
          "execution_count": 147
        }
      ]
    },
    {
      "cell_type": "markdown",
      "metadata": {
        "id": "J9PP98zaVdBo"
      },
      "source": [
        "## Making the Neighbour Matrix for collaborative Filtering"
      ]
    },
    {
      "cell_type": "markdown",
      "metadata": {
        "id": "PIwTTiGHH8eZ"
      },
      "source": [
        "To implement collaborative filtering neighbour users in the user space are found out, to identify there trends in reading articles and recommend future articles to current user based on the reading pattern of neighbor user"
      ]
    },
    {
      "cell_type": "markdown",
      "metadata": {
        "id": "kWFk-bOUIYZi"
      },
      "source": [
        "As the platform is new and doesn't have physical users for which clickstream data is available so the clickstream data for artificial users which is constructed previously is used to make recommendations to current user"
      ]
    },
    {
      "cell_type": "code",
      "metadata": {
        "id": "l1aWq94zVcLJ"
      },
      "source": [
        "neighbours_profile = np.empty((1000,10),float)\n",
        "\n",
        "#arr = np.append(arr, np.array([[10,20,30]]), axis=0)\n",
        "#arr = np.append(arr, np.array([[40,50,60]]), axis=0)\n",
        "#print(\"After adding two new arrays:\")\n",
        "#print(arr)\n",
        "\n",
        "for j in range(1000):\n",
        "  neighbours_df = NEW_USER_PROFILE[j]\n",
        "  x,y = neighbours_df.shape\n",
        "  print(j)\n",
        "\n",
        "  list_word_tokens = [ ]\n",
        "  list_clustered_articles = [ ]\n",
        "  list_time = [ ]\n",
        "\n",
        "  for i in range(x):\n",
        "    #print(i)\n",
        "    list_word_tokens.append(wordtokens_article[int(neighbours_df.iloc[i]['AticleID'])-1])\n",
        "    list_clustered_articles.append(clustered_articles_matrix[int(neighbours_df.iloc[i]['AticleID'])-1])\n",
        "    list_time.append(neighbours_df.iloc[i]['Time_Spent'])\n",
        "   \n",
        "  userProfile_all = user_profiler(list_word_tokens,list_clustered_articles,list_time)\n",
        "  #print(userProfile_all)\n",
        "  #neighbours_profile = np.append(neighbours_profile, np.array(userProfile_all), axis = 0)\n",
        "  neighbours_profile = np.vstack ((neighbours_profile, userProfile_all))"
      ],
      "execution_count": null,
      "outputs": []
    },
    {
      "cell_type": "code",
      "metadata": {
        "colab": {
          "base_uri": "https://localhost:8080/"
        },
        "id": "kT_Gdm0o_kVk",
        "outputId": "af7c243c-d41c-4ca7-a264-176433247660"
      },
      "source": [
        "type(neighbours_profile)\n",
        "neighbours_profile.shape"
      ],
      "execution_count": null,
      "outputs": [
        {
          "output_type": "execute_result",
          "data": {
            "text/plain": [
              "(2000, 10)"
            ]
          },
          "metadata": {
            "tags": []
          },
          "execution_count": 152
        }
      ]
    },
    {
      "cell_type": "markdown",
      "metadata": {
        "id": "_rLep2k9iUfB"
      },
      "source": [
        "## Dataframe containg 1000 artificial Users"
      ]
    },
    {
      "cell_type": "code",
      "metadata": {
        "colab": {
          "base_uri": "https://localhost:8080/"
        },
        "id": "Json6uPwU1FF",
        "outputId": "fe4b986b-3e0e-44b3-c19a-80208469f857"
      },
      "source": [
        "neighbours_profile = neighbours_profile[1000:2000]\n",
        "neighbours_profile.shape\n"
      ],
      "execution_count": null,
      "outputs": [
        {
          "output_type": "execute_result",
          "data": {
            "text/plain": [
              "(1000, 10)"
            ]
          },
          "metadata": {
            "tags": []
          },
          "execution_count": 157
        }
      ]
    },
    {
      "cell_type": "markdown",
      "metadata": {
        "id": "IuVCy6IjiYst"
      },
      "source": [
        "## 1 artificial User"
      ]
    },
    {
      "cell_type": "code",
      "metadata": {
        "colab": {
          "base_uri": "https://localhost:8080/"
        },
        "id": "V3Gh9vvihNgA",
        "outputId": "c73f90ab-2f4b-40f9-b02e-3d1d0c94235a"
      },
      "source": [
        "px = neighbours_profile[1].reshape(1,10)\n",
        "px.shape"
      ],
      "execution_count": null,
      "outputs": [
        {
          "output_type": "execute_result",
          "data": {
            "text/plain": [
              "(1, 10)"
            ]
          },
          "metadata": {
            "tags": []
          },
          "execution_count": 175
        }
      ]
    },
    {
      "cell_type": "code",
      "metadata": {
        "colab": {
          "base_uri": "https://localhost:8080/"
        },
        "id": "0pXQTYDvgmBl",
        "outputId": "a15ac44a-332a-44fd-8307-500c0c2d5e83"
      },
      "source": [
        "new_user = neighbours_profile[random.randint(0,999)].reshape(1,10)        \n",
        "new_user.shape  "
      ],
      "execution_count": null,
      "outputs": [
        {
          "output_type": "execute_result",
          "data": {
            "text/plain": [
              "(1, 10)"
            ]
          },
          "metadata": {
            "tags": []
          },
          "execution_count": 176
        }
      ]
    },
    {
      "cell_type": "markdown",
      "metadata": {
        "id": "Vz2vdZyn8N-b"
      },
      "source": [
        "## Content Recommender Calculator"
      ]
    },
    {
      "cell_type": "markdown",
      "metadata": {
        "id": "AzrMjZ9QKMUB"
      },
      "source": [
        "Top 10 aticles based on the Content Recommendation approach ar outputed with their scores"
      ]
    },
    {
      "cell_type": "code",
      "metadata": {
        "id": "FxkdLCq48IUr"
      },
      "source": [
        "def Content_Recommends_Calculator(user_profile,clustered_articles_matrix) :\n",
        "    \n",
        "    user_interested_articles = []\n",
        "    \n",
        "    contents_interest_score = []\n",
        "\n",
        "    user_preffered_articles = cosine_similarity(userProfile_one.reshape(1,-1),clustered_articles_matrix)\n",
        "    \n",
        "    top_articles = np.sort(user_preffered_articles).flatten()[::-1][:10]\n",
        "    \n",
        "    user_interested_articles.append(top_articles)\n",
        "    \n",
        "    content_interest_score = (user_interested_articles[0] * 0.4)\n",
        "    \n",
        "    return content_interest_score\n"
      ],
      "execution_count": null,
      "outputs": []
    },
    {
      "cell_type": "code",
      "metadata": {
        "colab": {
          "base_uri": "https://localhost:8080/"
        },
        "id": "a4k7b0uU8oXn",
        "outputId": "33d28d33-1bb8-4868-f9d3-3ab8d9946393"
      },
      "source": [
        "content_recommended = Content_Recommends_Calculator(userProfile_one,clustered_articles_matrix)\n",
        "content_recommended"
      ],
      "execution_count": null,
      "outputs": [
        {
          "output_type": "execute_result",
          "data": {
            "text/plain": [
              "array([0.39991511, 0.39966572, 0.39960569, 0.39942593, 0.39941639,\n",
              "       0.39758458, 0.39682041, 0.39681086, 0.39676962, 0.396743  ])"
            ]
          },
          "metadata": {
            "tags": []
          },
          "execution_count": 55
        }
      ]
    },
    {
      "cell_type": "markdown",
      "metadata": {
        "id": "1PRsR4P1i9M9"
      },
      "source": [
        "## Colloborative"
      ]
    },
    {
      "cell_type": "markdown",
      "metadata": {
        "id": "2w1CbZ3RKYnj"
      },
      "source": [
        "Top 10 similar articles based on collaborative learning approach are outputed with their scores"
      ]
    },
    {
      "cell_type": "code",
      "metadata": {
        "id": "jUgzMD-uiA9d"
      },
      "source": [
        "## Colloborative\n",
        "def Collaborative_Recommends_Calculator(existing_usr,new_usr) :\n",
        "    \n",
        "    collaborative_interest_score = [ ]\n",
        "    sorted_collaborative_interest = [ ]\n",
        "    \n",
        "    collaborative_interest_score = cosine_similarity(existing_usr,new_usr)\n",
        "    \n",
        "    sorted_collaborative_interest = np.argsort(collaborative_interest_score,axis=0)[::-1][:10]\n",
        "    \n",
        "    sorted_collaborative_indexes = existing_usr[sorted_collaborative_interest]\n",
        "    \n",
        "    collab_interest = np.mean(sorted_collaborative_indexes.reshape(-1,10),axis=0)\n",
        "    \n",
        "    collaborative_interest_scores = collab_interest*0.6\n",
        "    \n",
        "    return collaborative_interest_scores"
      ],
      "execution_count": null,
      "outputs": []
    },
    {
      "cell_type": "code",
      "metadata": {
        "colab": {
          "base_uri": "https://localhost:8080/"
        },
        "id": "9RBpte_EiezP",
        "outputId": "5a636943-9ece-4f8c-87e4-b972bd0c41cc"
      },
      "source": [
        "collab_recommended = Collaborative_Recommends_Calculator(neighbours_profile,new_user)\n",
        "collab_recommended"
      ],
      "execution_count": null,
      "outputs": [
        {
          "output_type": "execute_result",
          "data": {
            "text/plain": [
              "array([0.93602125, 0.95446294, 0.64881096, 0.93733883, 0.89203128,\n",
              "       0.99961383, 0.99420059, 0.825235  , 0.9654006 , 0.97295594])"
            ]
          },
          "metadata": {
            "tags": []
          },
          "execution_count": 177
        }
      ]
    },
    {
      "cell_type": "markdown",
      "metadata": {
        "id": "LKQ8KIovKuS4"
      },
      "source": [
        "## Trending Articles"
      ]
    },
    {
      "cell_type": "markdown",
      "metadata": {
        "id": "rBofK_-pKxHG"
      },
      "source": [
        "Trending articles are calculated based on the articles which are read by most of the users"
      ]
    },
    {
      "cell_type": "code",
      "metadata": {
        "id": "Fl5uq0Jwjr73"
      },
      "source": [
        "def Trends(trending) :\n",
        "\n",
        "    trends = np.mean(existing_users,axis=0)\n",
        "    Trending_news = cosine_similarity(trends.reshape(1,10),clustered_articles_matrix)\n",
        "    top= np.sort(Trending_news)[::-1][0][:10]\n",
        "    return top"
      ],
      "execution_count": null,
      "outputs": []
    },
    {
      "cell_type": "markdown",
      "metadata": {
        "id": "_3l1cMbulHyt"
      },
      "source": [
        "## Hybrid Recommender"
      ]
    },
    {
      "cell_type": "markdown",
      "metadata": {
        "id": "fuH-_ReaK7Ce"
      },
      "source": [
        "Program uses Hybrid recommender approach which recommends user different articles with similar articles calculated based on Content learning, collaborative learning and trending articles. "
      ]
    },
    {
      "cell_type": "markdown",
      "metadata": {
        "id": "4DiTOvCiLWkf"
      },
      "source": [
        "Hybrid recommender outputs 10 articles which are found most similar to user reading pattern. The recommended articles contain 30% identified from content learning, 40% identified from collaborative learning, and 30% identified from trending articles"
      ]
    },
    {
      "cell_type": "markdown",
      "metadata": {
        "id": "GN7SVBhoLxyQ"
      },
      "source": [
        "Collaborative learning and trending articles appraoch takes care of exploration part of recommendation as the recommender avoid the bias which might be faced by recommending articles solely based on users reading pattern(content based learning)."
      ]
    },
    {
      "cell_type": "code",
      "metadata": {
        "id": "23H0CtURilIa"
      },
      "source": [
        "def Hybrid_Calculator():\n",
        "    \n",
        "    hybrid_interests = np.add(content_recommended,collab_recommended)\n",
        "    \n",
        "    similar_scores = cosine_similarity(hybrid_interests.reshape(1,10),clustered_articles_matrix)\n",
        "    \n",
        "    recommended_article_address =  np.argsort(similar_scores)[::-1]\n",
        "    \n",
        "    return recommended_article_address"
      ],
      "execution_count": null,
      "outputs": []
    },
    {
      "cell_type": "code",
      "metadata": {
        "id": "dZTiL8GYjvu1"
      },
      "source": [
        "hybrid_recommend_indexes =  Hybrid_Calculator()"
      ],
      "execution_count": null,
      "outputs": []
    },
    {
      "cell_type": "code",
      "metadata": {
        "colab": {
          "base_uri": "https://localhost:8080/"
        },
        "id": "Rr71x1Chj2lP",
        "outputId": "8ea8d2a7-e63d-4ee1-934f-bddf34425ccb"
      },
      "source": [
        "labels = kmeans.labels_\n",
        "labels"
      ],
      "execution_count": null,
      "outputs": [
        {
          "output_type": "execute_result",
          "data": {
            "text/plain": [
              "array([4, 4, 6, ..., 6, 9, 5], dtype=int32)"
            ]
          },
          "metadata": {
            "tags": []
          },
          "execution_count": 181
        }
      ]
    },
    {
      "cell_type": "code",
      "metadata": {
        "colab": {
          "base_uri": "https://localhost:8080/"
        },
        "id": "67AQ8ne6j5LP",
        "outputId": "fb7c0437-f6bd-4f58-abc4-6f58ff0615e3"
      },
      "source": [
        "maxx = np.argmax(clustered_articles_matrix,axis=1) \n",
        "maxx"
      ],
      "execution_count": null,
      "outputs": [
        {
          "output_type": "execute_result",
          "data": {
            "text/plain": [
              "array([3, 3, 3, ..., 3, 3, 3])"
            ]
          },
          "metadata": {
            "tags": []
          },
          "execution_count": 182
        }
      ]
    },
    {
      "cell_type": "code",
      "metadata": {
        "colab": {
          "base_uri": "https://localhost:8080/"
        },
        "id": "cvawLxkUj78L",
        "outputId": "7536eb4a-02de-457e-88a9-5da681ac6c18"
      },
      "source": [
        "for articles in hybrid_recommend_indexes :\n",
        "    \n",
        "    print('Recommended-Articles :')\n",
        "    \n",
        "    print('\\n')\n",
        "    \n",
        "    print(title[articles][:no_of_recommends])  "
      ],
      "execution_count": null,
      "outputs": [
        {
          "output_type": "stream",
          "text": [
            "Recommended-Articles :\n",
            "\n",
            "\n",
            "1949    ISL 2020-21 Final, Mumbai City vs ATK Mohun Ba...\n",
            "2415     Ahan Shetty Shares Loved Up Pics On Childhood...\n",
            "2029    Road Safety World Series 2021, BAN Legends vs ...\n",
            "2551     The Secret Behind Athiya Shetty's Dreamy Look...\n",
            "1102    Will no longer call RSS ‘Sangh Parivar’, it’s ...\n",
            "999       Four-phase UP panchayat polls to begin April 15\n",
            "1272    LS passes Marine Aids to Navigation Bill by vo...\n",
            "2009    Road Safety World Series 2021, ENG Legends vs ...\n",
            "3018    Mumbai Saga First Song Shor Machega To Release...\n",
            "2354     Ira Khan Opens Up About Her \"Attempts At Heal...\n",
            "Name: Headline, dtype: object\n"
          ],
          "name": "stdout"
        }
      ]
    },
    {
      "cell_type": "code",
      "metadata": {
        "id": "9-QWkgiCj---"
      },
      "source": [
        ""
      ],
      "execution_count": null,
      "outputs": []
    }
  ]
}