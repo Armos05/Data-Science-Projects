{
  "nbformat": 4,
  "nbformat_minor": 0,
  "metadata": {
    "colab": {
      "name": "Akhil Ratan Mishra Ms17202     IDC 410.ipynb",
      "provenance": []
    },
    "kernelspec": {
      "display_name": "Python 3",
      "language": "python",
      "name": "python3"
    },
    "language_info": {
      "codemirror_mode": {
        "name": "ipython",
        "version": 3
      },
      "file_extension": ".py",
      "mimetype": "text/x-python",
      "name": "python",
      "nbconvert_exporter": "python",
      "pygments_lexer": "ipython3",
      "version": "3.7.4"
    }
  },
  "cells": [
    {
      "cell_type": "markdown",
      "metadata": {
        "id": "AsD9Q3a0XmpU"
      },
      "source": [
        "# **News Scrapper**.\n",
        "The Websites that we are going to use for the assignment are \n",
        "- \"THE HIMALAYAN TIMES\" (https://thehimalayantimes.com/)\n",
        "- AL Jazeera https://www.aljazeera.com/\n",
        "- The Jakarta Post https://www.thejakartapost.com/\n",
        "- The Hindu www.thehindu.com"
      ]
    },
    {
      "cell_type": "markdown",
      "metadata": {
        "id": "5SA5oFDYXlMs"
      },
      "source": [
        "The *robots.txt* file of the news page is given below. Since we are parsing a few hundred pages that shouldn't cause any trouble to the webserver.\n",
        "\n",
        "https://thehimalayantimes.com/robots.txt"
      ]
    },
    {
      "cell_type": "markdown",
      "metadata": {
        "id": "CD_ZbqvVcNkb"
      },
      "source": [
        "## The Structure of the Assigment\n",
        "\n",
        "- Importing libraries\n",
        "- Accessing a single news article from a news website and appending it to the Pandas Dataframe.\n",
        "- After showing the results, we will then grab bunch of articles from each of the above listed websites and make a list of all of them.\n",
        "- we then apped all the lists together\n",
        "- As some news may be repeated in multiple times in the list delete the duplicated elements.\n",
        "- Finally we download the CSV file of news articles.\n",
        "\n",
        "---"
      ]
    },
    {
      "cell_type": "markdown",
      "metadata": {
        "id": "pg7KY5uMZ4Ry"
      },
      "source": [
        "# 01. Importing the libraries:\n",
        "\n",
        "- We import \"*request*\" to download our website we need to parse on.\n",
        "- We then import \"*BeautifulSoup*\" This library helps us with getting HTML structure of any page that we want to work with and provides functions to access specific elements and extract relevant info.\n",
        "- We will also import *urllib* to prevent the server from getting overwhelming and caching the content.\n",
        "- Finally we also import \"*pandas*\" to make the dataframe. \n"
      ]
    },
    {
      "cell_type": "code",
      "metadata": {
        "id": "LCxObCJTbLHg"
      },
      "source": [
        "import requests\n",
        "from bs4 import BeautifulSoup\n",
        "import urllib.request, sys, time\n",
        "import pandas as pd"
      ],
      "execution_count": null,
      "outputs": []
    },
    {
      "cell_type": "markdown",
      "metadata": {
        "id": "Ufkjyisqb01R"
      },
      "source": [
        "---\n",
        "# 02. Accessing the page using the requests.get function "
      ]
    },
    {
      "cell_type": "code",
      "metadata": {
        "colab": {
          "base_uri": "https://localhost:8080/"
        },
        "id": "KYkzNQX7bbQ2",
        "outputId": "ea73d669-0b0e-4cb8-9ec4-dd3ef99b0b21"
      },
      "source": [
        "page = requests.get(\"https://thehimalayantimes.com/\")\n",
        "\n",
        "# To know if the page loaded correctly we need to check if the page status code = 200.\n",
        "page.status_code"
      ],
      "execution_count": null,
      "outputs": [
        {
          "data": {
            "text/plain": [
              "200"
            ]
          },
          "execution_count": 4,
          "metadata": {
            "tags": []
          },
          "output_type": "execute_result"
        }
      ]
    },
    {
      "cell_type": "markdown",
      "metadata": {
        "id": "TFzqss71cSxR"
      },
      "source": [
        " A successfull loaded page gives \"200\" as the status code. Therefore PAGE LOADED SUCCESSFULLY\n",
        "\n",
        "Now, The sleep() function suspends execution of the current thread for a given number of seconds. Here we have taken 2 seconds."
      ]
    },
    {
      "cell_type": "code",
      "metadata": {
        "id": "ZS89dsbScPrH"
      },
      "source": [
        "time.sleep(2)"
      ],
      "execution_count": null,
      "outputs": []
    },
    {
      "cell_type": "markdown",
      "metadata": {
        "id": "z3OegK8idMLA"
      },
      "source": [
        "---\n",
        "# 03. Parsing the content now with BeautifulSoup and prettifying the HTML.\n"
      ]
    },
    {
      "cell_type": "code",
      "metadata": {
        "id": "bDHFZ1uLcyZq"
      },
      "source": [
        "soup = BeautifulSoup(page.content, 'html.parser')\n",
        "print(soup.prettify())\n",
        "\n",
        "## This will be a huge output for all the HTML code of the page."
      ],
      "execution_count": null,
      "outputs": []
    },
    {
      "cell_type": "markdown",
      "metadata": {
        "id": "hpRXTeN-j_3G"
      },
      "source": [
        "Since all of the news articles in the above newslink \"The Himalayan Times\" is stored under the (h3 class = \"alith_post_title\"), we can select our newsarticle content from it using the soup find_all method. The number of articles that we could gather using the following approach are given below.\n",
        "\n",
        "\n",
        "\n",
        "![image.png](data:image/png;base64,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)"
      ]
    },
    {
      "cell_type": "code",
      "metadata": {
        "colab": {
          "base_uri": "https://localhost:8080/"
        },
        "id": "ZBm-YJondcR3",
        "outputId": "348b4962-b498-43d3-e84a-abf5c8ba6812"
      },
      "source": [
        "# The number of articles having this tag are:\n",
        "\n",
        "print(len(soup.find_all(class_ = \"alith_post_title\")))\n"
      ],
      "execution_count": null,
      "outputs": [
        {
          "name": "stdout",
          "output_type": "stream",
          "text": [
            "25\n"
          ]
        }
      ]
    },
    {
      "cell_type": "markdown",
      "metadata": {
        "id": "D_osUUhFohW2"
      },
      "source": [
        "---\n",
        "# 04. The articles are:"
      ]
    },
    {
      "cell_type": "code",
      "metadata": {
        "colab": {
          "base_uri": "https://localhost:8080/"
        },
        "id": "aSt0-yhsnrWf",
        "outputId": "9d7fb6fe-881f-4bf2-f26a-32f88414b0cf"
      },
      "source": [
        "soup.find_all(class_ = \"alith_post_title\")"
      ],
      "execution_count": null,
      "outputs": [
        {
          "data": {
            "text/plain": [
              "[<h3 class=\"alith_post_title\">\n",
              " <a href=\"https://thehimalayantimes.com/world/british-pm-johnson-heads-to-scotland-to-argue-against-the-breakup-of-uk\" title=\"British PM Johnson heads to Scotland to argue against the breakup of UK\"><strong>British PM Johnson heads to Scotland to argue against the breakup of UK</strong></a>\n",
              " </h3>,\n",
              " <h3 class=\"alith_post_title fontsize18height44 \"><a href=\"https://thehimalayantimes.com/business/need-for-political-stability-emphasised\" title=\"Need for political stability emphasised\">Need for political stability emphasised </a></h3>,\n",
              " <h3 class=\"alith_post_title fontsize18height44 \"><a href=\"https://thehimalayantimes.com/kathmandu/craze-for-sanskrit-increasing\" title=\"Craze for Sanskrit increasing\">Craze for Sanskrit increasing </a></h3>,\n",
              " <h3 class=\"alith_post_title fontsize18height44 \"><a href=\"https://thehimalayantimes.com/kathmandu/hearing-on-house-dissolution-case-underway-at-supreme-court\" title=\"Hearing on House Dissolution case underway at Supreme Court\">Hearing on House Dissolution case underway at Supreme Court </a></h3>,\n",
              " <h3 class=\"alith_post_title\"> <a href=\"https://thehimalayantimes.com/nepal/contempt-cases-filed-against-former-cjs\" title=\"Contempt cases filed against former CJs\"> Contempt cases filed against former CJs</a></h3>,\n",
              " <h3 class=\"alith_post_title\"><a href=\"https://thehimalayantimes.com/business/need-for-political-stability-emphasised\" title=\"Need for political stability emphasised\">Need for political stability emphasised</a></h3>,\n",
              " <h3 class=\"alith_post_title\"><a href=\"https://thehimalayantimes.com/entertainment/kristen-stewart-comes-as-diana-princess-of-wales-in-new-movie-spencer\" title=\"Kristen Stewart comes as Diana, Princess of Wales, in new movie Spencer\">Kristen Stewart comes as Diana, Princess of Wales, in new movie Spencer</a></h3>,\n",
              " <h3 class=\"alith_post_title\"><a href=\"https://thehimalayantimes.com/world/when-i-think-of-climate-change-i-think-of-jobs-us-president-biden\" title=\"When I think of climate change I think of jobs: US President Biden\">When I think of climate change I think of jobs: US President Biden</a></h3>,\n",
              " <h3 class=\"alith_post_title\"><a href=\"https://thehimalayantimes.com/world/us-holds-arms-sales-to-its-allies-including-f-35s-to-uae-pending-review\" title=\"US holds arms sales to its allies including F-35s to UAE pending review\">US holds arms sales to its allies including F-35s to UAE pending review</a></h3>,\n",
              " <h3 class=\"alith_post_title\"> <a href=\"https://thehimalayantimes.com/world/who-team-in-wuhan-departs-quarantine-for-covid-origins-study\" title=\"WHO team in Wuhan departs quarantine for COVID origins study\">WHO team in Wuhan departs quarantine for COVID origins study</a></h3>,\n",
              " <h3 class=\"alith_post_title\"> <a href=\"https://thehimalayantimes.com/covid-19/double-masking-advised-to-keep-covid-variants-at-bay\" title=\"Double-masking advised to keep Covid-variants at bay \">Double-masking advised to keep Covid-variants at bay </a></h3>,\n",
              " <h3 class=\"alith_post_title\"> <a href=\"https://thehimalayantimes.com/entertainment/kristen-stewart-comes-as-diana-princess-of-wales-in-new-movie-spencer\" title=\"Kristen Stewart comes as Diana, Princess of Wales, in new movie Spencer\">Kristen Stewart comes as Diana, Princess of Wales, in new movie Spencer</a></h3>,\n",
              " <h3 class=\"alith_post_title \"> <a href=\"https://thehimalayantimes.com/kathmandu/craze-for-sanskrit-increasing\" title=\"Craze for Sanskrit increasing\">Craze for Sanskrit increasing</a> </h3>,\n",
              " <h3 class=\"alith_post_title\"><a href=\"https://thehimalayantimes.com/kathmandu/hearing-on-house-dissolution-case-underway-at-supreme-court\" title=\"Hearing on House Dissolution case underway at Supreme Court\">Hearing on House Dissolution case underway at Supreme Court</a></h3>,\n",
              " <h3 class=\"alith_post_title\"><a href=\"https://thehimalayantimes.com/kathmandu/covid-vaccination-drive-begins-across-country\" title=\"COVID vaccination drive begins across country\">COVID vaccination drive begins across country</a></h3>,\n",
              " <h3 class=\"alith_post_title\"><a href=\"https://thehimalayantimes.com/kathmandu/clarification-on-alleged-extrajudicial-killing-sought\" title=\"Clarification on alleged extrajudicial killing sought\">Clarification on alleged extrajudicial killing sought</a></h3>,\n",
              " <h3 class=\"alith_post_title\"><a href=\"https://thehimalayantimes.com/kathmandu/dahal-nepal-faction-begins-third-phase-of-protest\" title=\"Dahal-Nepal faction begins third phase of protest\">Dahal-Nepal faction begins third phase of protest</a></h3>,\n",
              " <h3 class=\"alith_post_title \"> <a href=\"https://thehimalayantimes.com/nepal/four-including-ward-chair-arrested\" title=\"Four, including ward chair, arrested\">Four, including ward chair, arrested</a> </h3>,\n",
              " <h3 class=\"alith_post_title\"><a href=\"https://thehimalayantimes.com/nepal/contempt-cases-filed-against-former-cjs\" title=\"Contempt cases filed against former CJs\">Contempt cases filed against former CJs</a></h3>,\n",
              " <h3 class=\"alith_post_title\"><a href=\"https://thehimalayantimes.com/nepal/three-more-covid-related-fatalities-take-countrys-death-tally-to-2020\" title=\"Three more Covid related fatalities take country's death-tally to 2020\">Three more Covid related fatalities take country's death-tally to 2020</a></h3>,\n",
              " <h3 class=\"alith_post_title\"><a href=\"https://thehimalayantimes.com/nepal/283-new-covid-19-cases-registered-on-wednesday-nationwide-tally-hits-270375\" title=\"283 new Covid-19 cases registered on Wednesday; nationwide tally hits 270,375\">283 new Covid-19 cases registered on Wednesday; nationwide tally hits 270,375</a></h3>,\n",
              " <h3 class=\"alith_post_title\"><a href=\"https://thehimalayantimes.com/nepal/sugar-mills-start-paying-dues-to-sugarcane-farmers\" title=\"Sugar mills start paying dues to sugarcane farmers\">Sugar mills start paying dues to sugarcane farmers</a></h3>,\n",
              " <h3 class=\"alith_post_title\"><a href=\"https://thehimalayantimes.com/kathmandu/hearing-on-house-dissolution-case-underway-at-supreme-court\" title=\"Hearing on House Dissolution case underway at Supreme Court\">Hearing on House Dissolution case underway at Supreme Court</a></h3>,\n",
              " <h3 class=\"alith_post_title\"><a href=\"https://thehimalayantimes.com/covid-19/double-masking-advised-to-keep-covid-variants-at-bay\" title=\"Double-masking advised to keep Covid-variants at bay \">Double-masking advised to keep Covid-variants at bay </a></h3>,\n",
              " <h3 class=\"alith_post_title\"><a href=\"https://thehimalayantimes.com/business/govt-world-bank-launch-150m-nugi-project\" title=\"Govt, World Bank launch $150m NUGI Project\">Govt, World Bank launch $150m NUGI Project</a></h3>]"
            ]
          },
          "execution_count": 10,
          "metadata": {
            "tags": []
          },
          "output_type": "execute_result"
        }
      ]
    },
    {
      "cell_type": "markdown",
      "metadata": {
        "id": "vxhPezMYpFr5"
      },
      "source": [
        "Selecting Just one Article from it and prettyfying it we get."
      ]
    },
    {
      "cell_type": "code",
      "metadata": {
        "colab": {
          "base_uri": "https://localhost:8080/"
        },
        "id": "SLZ1_TShokUN",
        "outputId": "ac6d4bc2-7a05-4946-a32e-fac934f3e997"
      },
      "source": [
        "list_articles_1 = soup.find_all(class_ = \"alith_post_title\")[0]\n",
        "print(list_articles_1.prettify())"
      ],
      "execution_count": null,
      "outputs": [
        {
          "name": "stdout",
          "output_type": "stream",
          "text": [
            "<h3 class=\"alith_post_title\">\n",
            " <a href=\"https://thehimalayantimes.com/world/british-pm-johnson-heads-to-scotland-to-argue-against-the-breakup-of-uk\" title=\"British PM Johnson heads to Scotland to argue against the breakup of UK\">\n",
            "  <strong>\n",
            "   British PM Johnson heads to Scotland to argue against the breakup of UK\n",
            "  </strong>\n",
            " </a>\n",
            "</h3>\n",
            "\n"
          ]
        }
      ]
    },
    {
      "cell_type": "markdown",
      "metadata": {
        "id": "mFEnoTLarn5i"
      },
      "source": [
        "---\n",
        "# 05. From this we extract the content using get_text()."
      ]
    },
    {
      "cell_type": "code",
      "metadata": {
        "colab": {
          "base_uri": "https://localhost:8080/",
          "height": 35
        },
        "id": "fJXbQ-QCpZi5",
        "outputId": "a0079a62-a481-4410-9eef-6e33e883fb06"
      },
      "source": [
        "title_1 = list_articles_1.get_text()\n",
        "title_1.replace(\"\\n\", '')"
      ],
      "execution_count": null,
      "outputs": [
        {
          "data": {
            "application/vnd.google.colaboratory.intrinsic+json": {
              "type": "string"
            },
            "text/plain": [
              "'British PM Johnson heads to Scotland to argue against the breakup of UK'"
            ]
          },
          "execution_count": 24,
          "metadata": {
            "tags": []
          },
          "output_type": "execute_result"
        }
      ]
    },
    {
      "cell_type": "markdown",
      "metadata": {
        "id": "DlDFGO-UHO4u"
      },
      "source": [
        "Similary We can access the news content from other websites like the above method..\n",
        "Now, we run the whole code extracting different articles from various news websites and make data frame of their own."
      ]
    },
    {
      "cell_type": "markdown",
      "metadata": {
        "id": "T3pk6-CSVS6n"
      },
      "source": [
        "---\n",
        "# 06. News from The Himalayan Times"
      ]
    },
    {
      "cell_type": "code",
      "metadata": {
        "colab": {
          "base_uri": "https://localhost:8080/"
        },
        "id": "UvRNon0tHaPo",
        "outputId": "d229de4c-6807-4364-8d65-06e99e57b364"
      },
      "source": [
        "# List of sections : World, Business, Sports, Lifesytle, Entertainment, Science, Environment, Health\n",
        "#here the acronym ht stads for himalays time in the variable name\n",
        "\n",
        "sections_ht = ['World?', 'Business?', 'Sports?', 'Lifestyle?', 'Entertainment?', 'Science?', 'Environment?', 'Health?']\n",
        "Page_nos_ht = ['pgno = 1', 'pgno = 2', 'pgno = 3', 'pgno = 4', 'pgno = 5', 'pgno = 6', 'pgno = 7', 'pgno = 8', 'pgno = 9', 'pgno = 10']\n",
        "\n",
        "# So, our link would look like 'https://thehimalayantimes.com/morearticles/' + str('section?') + str('pgno=i')\n",
        "# where the value in link could be substituted to any section from the sections list and passing down the different page number value\n",
        "\n",
        "page_ht = requests.get(\"https://thehimalayantimes.com/morearticles/\" + str(\"World?\") + str(\"pgno = 1\"))\n",
        "\n",
        "# To know if the page loaded correctly we need to check if the page status code = 200.\n",
        "\n",
        "page.status_code"
      ],
      "execution_count": null,
      "outputs": [
        {
          "data": {
            "text/plain": [
              "200"
            ]
          },
          "execution_count": 67,
          "metadata": {
            "tags": []
          },
          "output_type": "execute_result"
        }
      ]
    },
    {
      "cell_type": "markdown",
      "metadata": {
        "id": "zMbXdehyJp0l"
      },
      "source": [
        "As, the page runs We can loop over the pages and append the pandas dataframe."
      ]
    },
    {
      "cell_type": "code",
      "metadata": {
        "colab": {
          "base_uri": "https://localhost:8080/"
        },
        "id": "7r3R20NLJwAW",
        "outputId": "75eaaee0-69af-497d-fb34-89d19a46f6a3"
      },
      "source": [
        "# This empty list will contain all the title of the news articles\n",
        "news_articles_list_ht = [ ]\n",
        "\n",
        "# The first loop will pass strings from different sections\n",
        "for i in range(len(sections_ht)):\n",
        "\n",
        "#The second loop would help us traverse different pages of the section in the webpage  \n",
        "  for j in range(len(Page_nos_ht)):\n",
        "\n",
        "    # Requesting the page from requests.get()\n",
        "    pages = requests.get(\"https://thehimalayantimes.com/morearticles/\" + str(sections_ht[i]) + str(Page_nos_ht[j]))\n",
        "    \n",
        "    #Parsing it through BeautifulSoup\n",
        "    soup_ht = BeautifulSoup(pages.content, 'html.parser')\n",
        "\n",
        "    # This loop would iterate over all thar articles which have the same class \n",
        "    for k in range(len(soup_ht.find_all(class_ = \"alith_post_title HideMobile\"))):\n",
        "      news_article_ht = soup_ht.find_all(class_ = \"alith_post_title\")[k]\n",
        "      news_title_ht = news_article_ht.get_text()\n",
        "      news_articles_list_ht.append(news_title_ht.replace(\"\\n\", ''))\n",
        "\n",
        " # all the articles from Himalaya times are stored in our list\n",
        "print(\"Number of articles extracted from Himalayas Times are:\" + str(len(news_articles_list_ht)))  \n",
        "\n"
      ],
      "execution_count": null,
      "outputs": [
        {
          "name": "stdout",
          "output_type": "stream",
          "text": [
            "Number of articles extracted from Himalayas Times are:1200\n"
          ]
        }
      ]
    },
    {
      "cell_type": "markdown",
      "metadata": {
        "id": "JWsv3sKfRrV4"
      },
      "source": [
        "---\n",
        "# 07. News from AlJazeera"
      ]
    },
    {
      "cell_type": "code",
      "metadata": {
        "colab": {
          "base_uri": "https://localhost:8080/"
        },
        "id": "Fo1fZFbiRYaq",
        "outputId": "582a22a2-99fe-4d18-e4a0-608765c00430"
      },
      "source": [
        "# List of sections : World, Business, Sports, Lifesytle, Entertainment, Science, Environment, Health\n",
        "sections_aj = ['coronavirus-pandemic/', 'features/', 'economy/', 'climate/', 'sports/', 'science-and-technology/']\n",
        "\n",
        "# So, our link would look like 'https://www.aljazeera.com/tag/' + str(sections_1)\n",
        "# where the value in link could be substituted to any section from the sections_1 list \n",
        "\n",
        "page_aj = requests.get('https://www.aljazeera.com/tag/' + str('science-and-technology/'))\n",
        "\n",
        "# To know if the page loaded correctly we need to check if the page status code = 200.\n",
        "page_aj.status_code"
      ],
      "execution_count": null,
      "outputs": [
        {
          "data": {
            "text/plain": [
              "200"
            ]
          },
          "execution_count": 51,
          "metadata": {
            "tags": []
          },
          "output_type": "execute_result"
        }
      ]
    },
    {
      "cell_type": "code",
      "metadata": {
        "colab": {
          "base_uri": "https://localhost:8080/"
        },
        "id": "C4za9Bj2S7TI",
        "outputId": "46a30529-9bc9-4fde-aa6b-2aa54b544241"
      },
      "source": [
        "news_articles_list_aj = [ ]\n",
        "\n",
        "for i in range(len(sections_aj)):\n",
        "\n",
        "    pages_aj = requests.get('https://www.aljazeera.com/tag/' + str(sections_aj[i]))\n",
        "\n",
        "    soup_aj = BeautifulSoup(pages_aj.content, 'html.parser')\n",
        "\n",
        "    for k in range(len(soup_aj.find_all(class_ = \"gc__title\"))):\n",
        "      news_article_aj = soup_aj.find_all(class_ = \"gc__title\")[k]\n",
        "      news_title_aj = news_article_aj.get_text()\n",
        "      news_articles_list_aj.append(news_title_aj.replace(\"\\n\", ''))\n",
        "\n",
        "\n",
        "\n",
        "print(\"Number of articles extracted from Al jazeera are:\" + str(len(news_articles_list_aj)))\n",
        "  "
      ],
      "execution_count": null,
      "outputs": [
        {
          "name": "stdout",
          "output_type": "stream",
          "text": [
            "Number of articles extracted from Al jazeera are:72\n"
          ]
        }
      ]
    },
    {
      "cell_type": "markdown",
      "metadata": {
        "id": "0wDdokfQVj-7"
      },
      "source": [
        "---\n",
        "# 08. News from Jakarta Post"
      ]
    },
    {
      "cell_type": "code",
      "metadata": {
        "colab": {
          "base_uri": "https://localhost:8080/"
        },
        "id": "jmgMAq3OVgZ0",
        "outputId": "b607dbb5-61b9-45f6-80d1-33e8dfe474c7"
      },
      "source": [
        "# List of sections : World, Business, Sports, Lifesytle, Entertainment, Science, Environment, Health\n",
        "sections_jp = ['world', 'sport', 'business']\n",
        "\n",
        "# So, our link would look like 'https://www.thejakartapost.com/news/' + str(sections_jp)\n",
        "# where the value in link could be substituted to any sections_jp from the sections_1 list \n",
        "\n",
        "page_jp = requests.get('https://www.thejakartapost.com/news/' + str('world'))\n",
        "\n",
        "# To know if the page loaded correctly we need to check if the page status code = 200.\n",
        "page_jp.status_code"
      ],
      "execution_count": null,
      "outputs": [
        {
          "data": {
            "text/plain": [
              "200"
            ]
          },
          "execution_count": 58,
          "metadata": {
            "tags": []
          },
          "output_type": "execute_result"
        }
      ]
    },
    {
      "cell_type": "code",
      "metadata": {
        "colab": {
          "base_uri": "https://localhost:8080/"
        },
        "id": "itYO-jRpXUQM",
        "outputId": "e8364a51-f871-4968-ec42-d4eaf0915b75"
      },
      "source": [
        "news_articles_list_jp = [ ]\n",
        "\n",
        "for i in range(len(sections_jp)):\n",
        "\n",
        "    pages_jp = requests.get('https://www.thejakartapost.com/news/' + str(sections_jp[i]))\n",
        "\n",
        "    soup_jp = BeautifulSoup(pages_jp.content, 'html.parser')\n",
        "\n",
        "    for k in range(len(soup_jp.find_all(class_ = \"titleNews\"))):\n",
        "      news_article_jp = soup_jp.find_all(class_ = \"titleNews\")[k]\n",
        "      news_title_jp = news_article_jp.get_text()\n",
        "      news_articles_list_jp.append(news_title_jp.replace(\"\\n\", ''))\n",
        "\n",
        "print(\"Number of articles extracted from The Jarkarta Post:\" + str(len(news_articles_list_jp)))\n"
      ],
      "execution_count": null,
      "outputs": [
        {
          "name": "stdout",
          "output_type": "stream",
          "text": [
            "Number of articles extracted from The Jarkarta Post:94\n"
          ]
        }
      ]
    },
    {
      "cell_type": "markdown",
      "metadata": {
        "id": "tFa4EE9_V3hX"
      },
      "source": [
        "---\n",
        "# 09. News From THE HINDU"
      ]
    },
    {
      "cell_type": "code",
      "metadata": {
        "colab": {
          "base_uri": "https://localhost:8080/"
        },
        "id": "kWaiqoEOV7Lr",
        "outputId": "83182827-b627-4273-d7ac-d768246b715b"
      },
      "source": [
        "# List of sections : World, Business, Sports, Lifesytle, Entertainment, Science, Environment, Health\n",
        "sections_th = ['news/national/', 'news/international/', 'business/Industry/', 'sport/', 'entertainment/', 'sci-tech/science/']\n",
        "Page_nos_th = ['?page=1', '?page=2', '?page=3', '?page=4', '?page=5', '?page=6']\n",
        "\n",
        "# So, our link would look like 'https://www.thehindu.com/' + str(sci-tech/science/) + str(?page=2)\n",
        "# where the value in link could be substituted to any section from the sections list and passing down the different page number value\n",
        "\n",
        "page_th = requests.get(\"https://www.thehindu.com/\" + str(\"sci-tech/science/\") + str(\"?page=2\"))\n",
        "\n",
        "# To know if the page loaded correctly we need to check if the page status code = 200.\n",
        "page_th.status_code"
      ],
      "execution_count": null,
      "outputs": [
        {
          "data": {
            "text/plain": [
              "200"
            ]
          },
          "execution_count": 63,
          "metadata": {
            "tags": []
          },
          "output_type": "execute_result"
        }
      ]
    },
    {
      "cell_type": "code",
      "metadata": {
        "colab": {
          "base_uri": "https://localhost:8080/"
        },
        "id": "8_HTfjBPaDvA",
        "outputId": "613ef4df-62af-4159-ec5e-3c6a70002b31"
      },
      "source": [
        "news_articles_list_th = [ ]\n",
        "\n",
        "for i in range(len(sections_th)):\n",
        "  for j in range(len(Page_nos_th)):\n",
        "    pages_th = requests.get(\"https://thehindu.com/\" + str(sections_th[i]) + str(Page_nos_th[j]))\n",
        "\n",
        "    soup_th = BeautifulSoup(pages_th.content, 'html.parser')\n",
        "\n",
        "    for k in range(len(soup_th.find_all(class_ = \"Other-StoryCard\"))):\n",
        "      news_article_th = soup_th.find_all(class_ = \"Other-StoryCard\")[k]\n",
        "      news_title_th = news_article_th.get_text()\n",
        "      news_articles_list_th.append(news_title_th.replace(\"\\n\", ''))\n",
        "\n",
        "\n",
        "\n",
        "print(\"Number of articles extracted from Himalayas Times are:\" + str(len(news_articles_list_th)))\n",
        "  "
      ],
      "execution_count": null,
      "outputs": [
        {
          "name": "stdout",
          "output_type": "stream",
          "text": [
            "Number of articles extracted from Himalayas Times are:1260\n"
          ]
        }
      ]
    },
    {
      "cell_type": "markdown",
      "metadata": {
        "id": "mLMc7ksXjByj"
      },
      "source": [
        "---\n",
        "# 10. Join the lists\n",
        "\n",
        "We gathered:\n",
        "- 1200 articles from The Himalayas Times\n",
        "- 72 articles from Al jazeera\n",
        "- 94 articles from The Jakarta Post\n",
        "- 1260 articles from The Hindu"
      ]
    },
    {
      "cell_type": "code",
      "metadata": {
        "colab": {
          "base_uri": "https://localhost:8080/"
        },
        "id": "zYWZ8KViansw",
        "outputId": "1202a22d-7bd0-49ed-c6bb-d73613680b8c"
      },
      "source": [
        "# Joining all the lists into one\n",
        "news_articles_list = news_articles_list_ht + news_articles_list_aj + news_articles_list_jp + news_articles_list_th\n",
        "\n",
        "# deleting the duplicated elements of the list\n",
        "news_list = [] \n",
        "for i in news_articles_list: \n",
        "    if i not in news_list: \n",
        "        news_list.append(i) \n",
        "\n",
        "# Converting the list to Pandas dataframe:\n",
        "News_dataframe = pd.DataFrame({\"Title_news\":news_list})\n",
        "\n",
        "\n",
        "print(\"the total number of articles in the dataframe are\" + str(len(News_dataframe)))\n",
        "\n"
      ],
      "execution_count": null,
      "outputs": [
        {
          "name": "stdout",
          "output_type": "stream",
          "text": [
            "the total number of articles in the dataframe are1438\n"
          ]
        }
      ]
    },
    {
      "cell_type": "markdown",
      "metadata": {
        "id": "JR0Ne-VKlEXc"
      },
      "source": [
        "--- \n",
        "# 11. Downloading the csv file.\n"
      ]
    },
    {
      "cell_type": "code",
      "metadata": {
        "colab": {
          "base_uri": "https://localhost:8080/",
          "height": 17
        },
        "id": "Gw3ZoHFdau9y",
        "outputId": "c2031626-711e-4642-aa7a-1fda0b6e3b80"
      },
      "source": [
        "# converting the data frame into a CSV file\n",
        "News_dataframe.to_csv('News_file.csv')\n",
        "\n",
        "#since The program was run in GOOGLE COlab we need to download the CSV FILE\n",
        "from google.colab import files\n",
        "files.download(\"News_file.csv\")"
      ],
      "execution_count": null,
      "outputs": [
        {
          "data": {
            "application/javascript": [
              "\n",
              "    async function download(id, filename, size) {\n",
              "      if (!google.colab.kernel.accessAllowed) {\n",
              "        return;\n",
              "      }\n",
              "      const div = document.createElement('div');\n",
              "      const label = document.createElement('label');\n",
              "      label.textContent = `Downloading \"${filename}\": `;\n",
              "      div.appendChild(label);\n",
              "      const progress = document.createElement('progress');\n",
              "      progress.max = size;\n",
              "      div.appendChild(progress);\n",
              "      document.body.appendChild(div);\n",
              "\n",
              "      const buffers = [];\n",
              "      let downloaded = 0;\n",
              "\n",
              "      const channel = await google.colab.kernel.comms.open(id);\n",
              "      // Send a message to notify the kernel that we're ready.\n",
              "      channel.send({})\n",
              "\n",
              "      for await (const message of channel.messages) {\n",
              "        // Send a message to notify the kernel that we're ready.\n",
              "        channel.send({})\n",
              "        if (message.buffers) {\n",
              "          for (const buffer of message.buffers) {\n",
              "            buffers.push(buffer);\n",
              "            downloaded += buffer.byteLength;\n",
              "            progress.value = downloaded;\n",
              "          }\n",
              "        }\n",
              "      }\n",
              "      const blob = new Blob(buffers, {type: 'application/binary'});\n",
              "      const a = document.createElement('a');\n",
              "      a.href = window.URL.createObjectURL(blob);\n",
              "      a.download = filename;\n",
              "      div.appendChild(a);\n",
              "      a.click();\n",
              "      div.remove();\n",
              "    }\n",
              "  "
            ],
            "text/plain": [
              "<IPython.core.display.Javascript object>"
            ]
          },
          "metadata": {
            "tags": []
          },
          "output_type": "display_data"
        },
        {
          "data": {
            "application/javascript": [
              "download(\"download_eff37d80-80fb-4b7d-830b-c48029a42ccd\", \"News_file.csv\", 248747)"
            ],
            "text/plain": [
              "<IPython.core.display.Javascript object>"
            ]
          },
          "metadata": {
            "tags": []
          },
          "output_type": "display_data"
        }
      ]
    }
  ]
}
